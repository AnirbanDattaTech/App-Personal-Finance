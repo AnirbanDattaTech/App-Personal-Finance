{
 "cells": [
  {
   "cell_type": "markdown",
   "metadata": {},
   "source": [
    "# Exploratory Data Analysis (EDA) for Personal Finance Data (v2)\n",
    "\n",
    "**Objective:** Analyze the generated expense data (`dummy_expenses_generated.csv`) to validate its structure, adherence to generation rules, realism, and suitability for downstream AI/ML tasks (Phase 2 Assistant). Plots will be displayed inline.\n",
    "\n",
    "**Data Source:** `../dummy_expenses_generated.csv` (Relative path from `reference/` to project root)\n",
    "**Ruleset Reference:** `../sample_data_generation.csv`\n",
    "**Metadata Reference:** `../expense_metadata.json`"
   ]
  },
  {
   "cell_type": "code",
   "execution_count": 16,
   "id": "fcb1b6c8",
   "metadata": {},
   "outputs": [],
   "source": [
    "# Import necessary libraries\n",
    "import pandas as pd\n",
    "import numpy as np\n",
    "import plotly.express as px\n",
    "import plotly.graph_objects as go\n",
    "from plotly.subplots import make_subplots\n",
    "import json\n",
    "from pathlib import Path\n",
    "import datetime\n",
    "import logging\n",
    "import os # Import os for directory creation\n",
    "from typing import Optional, Dict, Any # For type hints\n",
    "\n",
    "# Configure logging for analysis insights\n",
    "logging.basicConfig(level=logging.INFO, format='%(levelname)s: %(message)s')"
   ]
  },
  {
   "cell_type": "code",
   "execution_count": 17,
   "id": "86a4f331",
   "metadata": {},
   "outputs": [],
   "source": [
    "# --- Setup Paths and Create Output Directory ---\n",
    "\n",
    "# Define file paths relative to the notebook location (reference/)\n",
    "NOTEBOOK_DIR = Path().resolve() # Should be the reference folder when running notebook there\n",
    "PROJECT_ROOT = NOTEBOOK_DIR.parent\n",
    "DATA_FILE = PROJECT_ROOT / \"dummy_expenses_generated.csv\"\n",
    "RULES_FILE = PROJECT_ROOT / \"sample_data_generation.csv\"\n",
    "METADATA_FILE = PROJECT_ROOT / \"expense_metadata.json\"\n",
    "\n",
    "# Define image output directory (though we won't save by default now)\n",
    "IMG_DIR = NOTEBOOK_DIR / \"img\"\n",
    "\n",
    "# Optionally ensure the image directory exists if you uncomment saving later\n",
    "# try:\n",
    "#     os.makedirs(IMG_DIR, exist_ok=True)\n",
    "#     logging.info(f\"Image output directory exists or created: {IMG_DIR}\")\n",
    "# except OSError as e:\n",
    "#     logging.error(f\"Could not create image directory {IMG_DIR}: {e}\")\n"
   ]
  },
  {
   "cell_type": "markdown",
   "id": "f596d3c0",
   "metadata": {},
   "source": [
    "## Helper Function: Load Rules"
   ]
  },
  {
   "cell_type": "code",
   "execution_count": 18,
   "id": "2a2675ae",
   "metadata": {},
   "outputs": [],
   "source": [
    "# --- Helper Function: Load Rules (Moved here to be defined before use) ---\n",
    "def load_rules(filepath: Path) -> Optional[pd.DataFrame]:\n",
    "    \"\"\"Loads and preprocesses the ruleset CSV.\"\"\"\n",
    "    if not filepath.exists():\n",
    "        logging.error(f\"Rules file not found: {filepath}\")\n",
    "        return None\n",
    "    try:\n",
    "        df_rules = pd.read_csv(filepath)\n",
    "        # Clean column names if needed (assuming they are already clean based on previous step)\n",
    "        df_rules.columns = [col.strip() for col in df_rules.columns]\n",
    "        # Split the valid types string into a list\n",
    "        # Handle potential errors if the column doesn't exist or has NaNs\n",
    "        if 'Valid-expense-types' in df_rules.columns:\n",
    "             df_rules['Valid-expense-types'] = df_rules['Valid-expense-types'].fillna('').astype(str).str.split('|')\n",
    "        else:\n",
    "             logging.warning(\"'Valid-expense-types' column not found in rules file.\")\n",
    "             df_rules['Valid-expense-types'] = [[] for _ in range(len(df_rules))] # Add empty list\n",
    "\n",
    "        # Convert amount/count columns to numeric, coercing errors\n",
    "        for col in ['Min-expenses-amount', 'Max-expenses-amount', 'Max-times-per-month']:\n",
    "            if col in df_rules.columns:\n",
    "                df_rules[col] = pd.to_numeric(df_rules[col], errors='coerce')\n",
    "            else:\n",
    "                logging.warning(f\"Column '{col}' not found in rules file.\")\n",
    "                df_rules[col] = np.nan # Add column with NaN if missing\n",
    "\n",
    "        # Fill missing Max-times with a default (e.g., 5) or handle based on frequency\n",
    "        df_rules['Max-times-per-month'].fillna(5, inplace=True)\n",
    "        df_rules['Max-times-per-month'] = df_rules['Max-times-per-month'].astype(int)\n",
    "\n",
    "        # Define critical columns needed from rules file\n",
    "        critical_rule_cols = ['Category', 'Sub-category', 'User', 'Account', 'Expense-Frequency', 'Min-expenses-amount', 'Max-expenses-amount', 'Max-times-per-month']\n",
    "        missing_critical = [col for col in critical_rule_cols if col not in df_rules.columns]\n",
    "        if missing_critical:\n",
    "            logging.error(f\"Rules file is missing critical columns: {missing_critical}\")\n",
    "            return None\n",
    "\n",
    "        # Drop rows with missing critical numeric info after conversion attempts\n",
    "        df_rules.dropna(subset=['Min-expenses-amount', 'Max-expenses-amount'], inplace=True)\n",
    "        # Drop rows with missing critical categorical info\n",
    "        df_rules.dropna(subset=['Category', 'Sub-category', 'User', 'Account', 'Expense-Frequency'], inplace=True)\n",
    "\n",
    "        logging.info(f\"Loaded and preprocessed {len(df_rules)} rules from {filepath}\")\n",
    "        return df_rules\n",
    "    except Exception as e:\n",
    "        logging.error(f\"Error loading or processing rules file {filepath}: {e}\", exc_info=True)\n",
    "        return None"
   ]
  },
  {
   "cell_type": "markdown",
   "id": "2e32c188",
   "metadata": {},
   "source": [
    "## 1. Load Data and Basic Checks\n",
    "\n",
    "Load the generated CSV, parse dates correctly using the 'dd-mm-yyyy' format, check basic info, data types, and null values."
   ]
  },
  {
   "cell_type": "code",
   "execution_count": 19,
   "id": "55eae2b5",
   "metadata": {},
   "outputs": [
    {
     "name": "stderr",
     "output_type": "stream",
     "text": [
      "INFO: Attempting to load data from: E:\\Code\\Projects\\App-PersonalFinance\\app-personal-finance\\dummy_expenses_generated.csv\n",
      "INFO: Reference ruleset: E:\\Code\\Projects\\App-PersonalFinance\\app-personal-finance\\sample_data_generation.csv\n",
      "INFO: Reference metadata: E:\\Code\\Projects\\App-PersonalFinance\\app-personal-finance\\expense_metadata.json\n",
      "INFO: Successfully loaded E:\\Code\\Projects\\App-PersonalFinance\\app-personal-finance\\dummy_expenses_generated.csv. Shape: (951, 11)\n",
      "INFO: Successfully loaded metadata from E:\\Code\\Projects\\App-PersonalFinance\\app-personal-finance\\expense_metadata.json\n"
     ]
    },
    {
     "name": "stdout",
     "output_type": "stream",
     "text": [
      "Loaded 951 rows.\n"
     ]
    }
   ],
   "source": [
    "logging.info(f\"Attempting to load data from: {DATA_FILE}\")\n",
    "logging.info(f\"Reference ruleset: {RULES_FILE}\")\n",
    "logging.info(f\"Reference metadata: {METADATA_FILE}\")\n",
    "\n",
    "# Load the generated data\n",
    "try:\n",
    "    df = pd.read_csv(DATA_FILE)\n",
    "    logging.info(f\"Successfully loaded {DATA_FILE}. Shape: {df.shape}\")\n",
    "    print(f\"Loaded {len(df)} rows.\")\n",
    "except FileNotFoundError:\n",
    "    logging.error(f\"Data file not found at {DATA_FILE}. Please ensure it's generated in the project root.\")\n",
    "    df = pd.DataFrame() # Create empty df to avoid downstream errors\n",
    "except Exception as e:\n",
    "    logging.error(f\"Error loading data CSV {DATA_FILE}: {e}\", exc_info=True)\n",
    "    df = pd.DataFrame()\n",
    "\n",
    "# Load metadata for validation checks\n",
    "try:\n",
    "    with open(METADATA_FILE, 'r') as f:\n",
    "        metadata = json.load(f)\n",
    "    logging.info(f\"Successfully loaded metadata from {METADATA_FILE}\")\n",
    "except Exception as e:\n",
    "    logging.error(f\"Could not load metadata file {METADATA_FILE}: {e}\")\n",
    "    metadata = {} # Assign empty dict if load fails"
   ]
  },
  {
   "cell_type": "code",
   "execution_count": 20,
   "id": "5d905392",
   "metadata": {},
   "outputs": [
    {
     "name": "stderr",
     "output_type": "stream",
     "text": [
      "INFO: Converted 'date' column to datetime objects ('date_dt').\n",
      "INFO: All dates successfully parsed.\n"
     ]
    },
    {
     "name": "stdout",
     "output_type": "stream",
     "text": [
      "\n",
      "--- Data Info ---\n",
      "<class 'pandas.core.frame.DataFrame'>\n",
      "RangeIndex: 951 entries, 0 to 950\n",
      "Data columns (total 11 columns):\n",
      " #   Column        Non-Null Count  Dtype  \n",
      "---  ------        --------------  -----  \n",
      " 0   date          951 non-null    object \n",
      " 1   year          951 non-null    int64  \n",
      " 2   month         951 non-null    object \n",
      " 3   week          951 non-null    object \n",
      " 4   day_of_week   951 non-null    object \n",
      " 5   account       951 non-null    object \n",
      " 6   category      951 non-null    object \n",
      " 7   sub_category  951 non-null    object \n",
      " 8   type          951 non-null    object \n",
      " 9   user          951 non-null    object \n",
      " 10  amount        951 non-null    float64\n",
      "dtypes: float64(1), int64(1), object(9)\n",
      "memory usage: 81.9+ KB\n",
      "\n",
      "--- Date Conversion ---\n"
     ]
    }
   ],
   "source": [
    "# Display basic information if data loaded\n",
    "if not df.empty:\n",
    "    print(\"\\n--- Data Info ---\")\n",
    "    df.info()\n",
    "\n",
    "    # Convert 'date' column from dd-mm-yyyy string to datetime objects for analysis\n",
    "    print(\"\\n--- Date Conversion ---\")\n",
    "    try:\n",
    "        # Explicitly use dayfirst=True or format='%d-%m-%Y'\n",
    "        df['date_dt'] = pd.to_datetime(df['date'], format='%d-%m-%Y', errors='coerce')\n",
    "        logging.info(\"Converted 'date' column to datetime objects ('date_dt').\")\n",
    "\n",
    "        # Check for any conversion errors\n",
    "        null_dates = df['date_dt'].isnull().sum()\n",
    "        if null_dates > 0:\n",
    "            logging.warning(f\"Found {null_dates} rows with invalid date formats that couldn't be parsed to 'dd-mm-yyyy'.\")\n",
    "            # Optional: Display problematic rows\n",
    "            # print(\"\\nRows with date parsing errors:\")\n",
    "            # print(df[df['date_dt'].isnull()]['date'])\n",
    "            df.dropna(subset=['date_dt'], inplace=True) # Remove rows with invalid dates for analysis\n",
    "            logging.info(f\"Removed rows with invalid dates. New shape: {df.shape}\")\n",
    "        else:\n",
    "            logging.info(\"All dates successfully parsed.\")\n",
    "\n",
    "    except KeyError:\n",
    "        logging.error(\"Column 'date' not found in the CSV.\")\n",
    "    except Exception as e:\n",
    "        logging.error(f\"Error during date conversion: {e}\", exc_info=True)\n",
    "\n",
    "else:\n",
    "    print(\"DataFrame is empty. Cannot perform further analysis.\")"
   ]
  },
  {
   "cell_type": "markdown",
   "id": "d2692605",
   "metadata": {},
   "source": [
    "## 2. Data Range and Null Value Check\n",
    "\n",
    "Verify the date range covers the expected period and check for unexpected missing values in core columns."
   ]
  },
  {
   "cell_type": "code",
   "execution_count": 21,
   "id": "77c097ac",
   "metadata": {},
   "outputs": [
    {
     "name": "stderr",
     "output_type": "stream",
     "text": [
      "WARNING: Data ends earlier (2025-04-15) than expected (2025-04-20).\n",
      "INFO: No unexpected null values found in critical columns (sub_category/type might have blanks/nulls).\n"
     ]
    },
    {
     "name": "stdout",
     "output_type": "stream",
     "text": [
      "\n",
      "--- Date Range Check ---\n",
      "Data spans from: 2023-01-01 to 2025-04-15\n",
      "\n",
      "--- Null Value Check ---\n",
      "Columns with Null/NaN values:\n",
      "Series([], dtype: int64)\n"
     ]
    }
   ],
   "source": [
    "if not df.empty and 'date_dt' in df.columns:\n",
    "    min_date = df['date_dt'].min()\n",
    "    max_date = df['date_dt'].max()\n",
    "    print(f\"\\n--- Date Range Check ---\")\n",
    "    print(f\"Data spans from: {min_date.strftime('%Y-%m-%d')} to {max_date.strftime('%Y-%m-%d')}\")\n",
    "\n",
    "    expected_start = datetime.datetime(2023, 1, 1)\n",
    "    expected_end = datetime.datetime(2025, 4, 20)\n",
    "\n",
    "    if min_date.date() > expected_start.date():\n",
    "        logging.warning(f\"Data starts later ({min_date.date()}) than expected ({expected_start.date()}).\")\n",
    "    if max_date.date() < expected_end.date():\n",
    "        logging.warning(f\"Data ends earlier ({max_date.date()}) than expected ({expected_end.date()}).\")\n",
    "\n",
    "    print(\"\\n--- Null Value Check ---\")\n",
    "    null_counts = df.isnull().sum()\n",
    "    print(\"Columns with Null/NaN values:\")\n",
    "    print(null_counts[null_counts > 0]) # Only show columns with nulls\n",
    "\n",
    "    # Check critical columns - adjust if 'sub_category' or 'type' can legitimately be empty strings instead of NaN\n",
    "    critical_cols = ['date', 'year', 'month', 'week', 'day_of_week', 'account', 'category', 'user', 'amount', 'date_dt']\n",
    "    unexpected_nulls = null_counts.reindex(critical_cols, fill_value=0).sum() > 0 # Use reindex to handle missing cols safely\n",
    "\n",
    "    if unexpected_nulls:\n",
    "        logging.error(\"UNEXPECTED null values found in critical columns! Review data generation.\")\n",
    "    else:\n",
    "        logging.info(\"No unexpected null values found in critical columns (sub_category/type might have blanks/nulls).\")\n",
    "else:\n",
    "     print(\"Skipping range/null checks as DataFrame is empty or date conversion failed.\")"
   ]
  },
  {
   "cell_type": "markdown",
   "id": "cff3bca3",
   "metadata": {},
   "source": [
    "## 3. Constraint Validation: Row Counts\n",
    "\n",
    "Check if the number of transactions per month adheres to the `MONTHLY_MAX_ROWS = 100` limit."
   ]
  },
  {
   "cell_type": "code",
   "execution_count": 22,
   "id": "fac25dab",
   "metadata": {},
   "outputs": [
    {
     "data": {
      "application/vnd.plotly.v1+json": {
       "config": {
        "plotlyServerURL": "https://plot.ly"
       },
       "data": [
        {
         "hovertemplate": "Month (YYYY-MM)=%{x}<br>Number of Transactions=%{y}<extra></extra>",
         "legendgroup": "",
         "marker": {
          "color": "#636efa",
          "pattern": {
           "shape": ""
          }
         },
         "name": "",
         "orientation": "v",
         "showlegend": false,
         "textposition": "auto",
         "type": "bar",
         "x": [
          "2023-01",
          "2023-02",
          "2023-03",
          "2023-04",
          "2023-05",
          "2023-06",
          "2023-07",
          "2023-08",
          "2023-09",
          "2023-10",
          "2023-11",
          "2023-12",
          "2024-01",
          "2024-02",
          "2024-03",
          "2024-04",
          "2024-05",
          "2024-06",
          "2024-07",
          "2024-08",
          "2024-09",
          "2024-10",
          "2024-11",
          "2024-12",
          "2025-01",
          "2025-02",
          "2025-03",
          "2025-04"
         ],
         "xaxis": "x",
         "y": {
          "bdata": "LyUjGyMaHScpJx8iHhwgGh0iIhwmJiElHigrHw==",
          "dtype": "i1"
         },
         "yaxis": "y"
        }
       ],
       "layout": {
        "annotations": [
         {
          "showarrow": false,
          "text": "Max Limit (100)",
          "x": 1,
          "xanchor": "right",
          "xref": "x domain",
          "y": 100,
          "yanchor": "bottom",
          "yref": "y"
         }
        ],
        "barmode": "relative",
        "height": 400,
        "legend": {
         "tracegroupgap": 0
        },
        "shapes": [
         {
          "line": {
           "color": "red",
           "dash": "dash"
          },
          "type": "line",
          "x0": 0,
          "x1": 1,
          "xref": "x domain",
          "y0": 100,
          "y1": 100,
          "yref": "y"
         }
        ],
        "template": {
         "data": {
          "bar": [
           {
            "error_x": {
             "color": "#2a3f5f"
            },
            "error_y": {
             "color": "#2a3f5f"
            },
            "marker": {
             "line": {
              "color": "#E5ECF6",
              "width": 0.5
             },
             "pattern": {
              "fillmode": "overlay",
              "size": 10,
              "solidity": 0.2
             }
            },
            "type": "bar"
           }
          ],
          "barpolar": [
           {
            "marker": {
             "line": {
              "color": "#E5ECF6",
              "width": 0.5
             },
             "pattern": {
              "fillmode": "overlay",
              "size": 10,
              "solidity": 0.2
             }
            },
            "type": "barpolar"
           }
          ],
          "carpet": [
           {
            "aaxis": {
             "endlinecolor": "#2a3f5f",
             "gridcolor": "white",
             "linecolor": "white",
             "minorgridcolor": "white",
             "startlinecolor": "#2a3f5f"
            },
            "baxis": {
             "endlinecolor": "#2a3f5f",
             "gridcolor": "white",
             "linecolor": "white",
             "minorgridcolor": "white",
             "startlinecolor": "#2a3f5f"
            },
            "type": "carpet"
           }
          ],
          "choropleth": [
           {
            "colorbar": {
             "outlinewidth": 0,
             "ticks": ""
            },
            "type": "choropleth"
           }
          ],
          "contour": [
           {
            "colorbar": {
             "outlinewidth": 0,
             "ticks": ""
            },
            "colorscale": [
             [
              0,
              "#0d0887"
             ],
             [
              0.1111111111111111,
              "#46039f"
             ],
             [
              0.2222222222222222,
              "#7201a8"
             ],
             [
              0.3333333333333333,
              "#9c179e"
             ],
             [
              0.4444444444444444,
              "#bd3786"
             ],
             [
              0.5555555555555556,
              "#d8576b"
             ],
             [
              0.6666666666666666,
              "#ed7953"
             ],
             [
              0.7777777777777778,
              "#fb9f3a"
             ],
             [
              0.8888888888888888,
              "#fdca26"
             ],
             [
              1,
              "#f0f921"
             ]
            ],
            "type": "contour"
           }
          ],
          "contourcarpet": [
           {
            "colorbar": {
             "outlinewidth": 0,
             "ticks": ""
            },
            "type": "contourcarpet"
           }
          ],
          "heatmap": [
           {
            "colorbar": {
             "outlinewidth": 0,
             "ticks": ""
            },
            "colorscale": [
             [
              0,
              "#0d0887"
             ],
             [
              0.1111111111111111,
              "#46039f"
             ],
             [
              0.2222222222222222,
              "#7201a8"
             ],
             [
              0.3333333333333333,
              "#9c179e"
             ],
             [
              0.4444444444444444,
              "#bd3786"
             ],
             [
              0.5555555555555556,
              "#d8576b"
             ],
             [
              0.6666666666666666,
              "#ed7953"
             ],
             [
              0.7777777777777778,
              "#fb9f3a"
             ],
             [
              0.8888888888888888,
              "#fdca26"
             ],
             [
              1,
              "#f0f921"
             ]
            ],
            "type": "heatmap"
           }
          ],
          "histogram": [
           {
            "marker": {
             "pattern": {
              "fillmode": "overlay",
              "size": 10,
              "solidity": 0.2
             }
            },
            "type": "histogram"
           }
          ],
          "histogram2d": [
           {
            "colorbar": {
             "outlinewidth": 0,
             "ticks": ""
            },
            "colorscale": [
             [
              0,
              "#0d0887"
             ],
             [
              0.1111111111111111,
              "#46039f"
             ],
             [
              0.2222222222222222,
              "#7201a8"
             ],
             [
              0.3333333333333333,
              "#9c179e"
             ],
             [
              0.4444444444444444,
              "#bd3786"
             ],
             [
              0.5555555555555556,
              "#d8576b"
             ],
             [
              0.6666666666666666,
              "#ed7953"
             ],
             [
              0.7777777777777778,
              "#fb9f3a"
             ],
             [
              0.8888888888888888,
              "#fdca26"
             ],
             [
              1,
              "#f0f921"
             ]
            ],
            "type": "histogram2d"
           }
          ],
          "histogram2dcontour": [
           {
            "colorbar": {
             "outlinewidth": 0,
             "ticks": ""
            },
            "colorscale": [
             [
              0,
              "#0d0887"
             ],
             [
              0.1111111111111111,
              "#46039f"
             ],
             [
              0.2222222222222222,
              "#7201a8"
             ],
             [
              0.3333333333333333,
              "#9c179e"
             ],
             [
              0.4444444444444444,
              "#bd3786"
             ],
             [
              0.5555555555555556,
              "#d8576b"
             ],
             [
              0.6666666666666666,
              "#ed7953"
             ],
             [
              0.7777777777777778,
              "#fb9f3a"
             ],
             [
              0.8888888888888888,
              "#fdca26"
             ],
             [
              1,
              "#f0f921"
             ]
            ],
            "type": "histogram2dcontour"
           }
          ],
          "mesh3d": [
           {
            "colorbar": {
             "outlinewidth": 0,
             "ticks": ""
            },
            "type": "mesh3d"
           }
          ],
          "parcoords": [
           {
            "line": {
             "colorbar": {
              "outlinewidth": 0,
              "ticks": ""
             }
            },
            "type": "parcoords"
           }
          ],
          "pie": [
           {
            "automargin": true,
            "type": "pie"
           }
          ],
          "scatter": [
           {
            "fillpattern": {
             "fillmode": "overlay",
             "size": 10,
             "solidity": 0.2
            },
            "type": "scatter"
           }
          ],
          "scatter3d": [
           {
            "line": {
             "colorbar": {
              "outlinewidth": 0,
              "ticks": ""
             }
            },
            "marker": {
             "colorbar": {
              "outlinewidth": 0,
              "ticks": ""
             }
            },
            "type": "scatter3d"
           }
          ],
          "scattercarpet": [
           {
            "marker": {
             "colorbar": {
              "outlinewidth": 0,
              "ticks": ""
             }
            },
            "type": "scattercarpet"
           }
          ],
          "scattergeo": [
           {
            "marker": {
             "colorbar": {
              "outlinewidth": 0,
              "ticks": ""
             }
            },
            "type": "scattergeo"
           }
          ],
          "scattergl": [
           {
            "marker": {
             "colorbar": {
              "outlinewidth": 0,
              "ticks": ""
             }
            },
            "type": "scattergl"
           }
          ],
          "scattermap": [
           {
            "marker": {
             "colorbar": {
              "outlinewidth": 0,
              "ticks": ""
             }
            },
            "type": "scattermap"
           }
          ],
          "scattermapbox": [
           {
            "marker": {
             "colorbar": {
              "outlinewidth": 0,
              "ticks": ""
             }
            },
            "type": "scattermapbox"
           }
          ],
          "scatterpolar": [
           {
            "marker": {
             "colorbar": {
              "outlinewidth": 0,
              "ticks": ""
             }
            },
            "type": "scatterpolar"
           }
          ],
          "scatterpolargl": [
           {
            "marker": {
             "colorbar": {
              "outlinewidth": 0,
              "ticks": ""
             }
            },
            "type": "scatterpolargl"
           }
          ],
          "scatterternary": [
           {
            "marker": {
             "colorbar": {
              "outlinewidth": 0,
              "ticks": ""
             }
            },
            "type": "scatterternary"
           }
          ],
          "surface": [
           {
            "colorbar": {
             "outlinewidth": 0,
             "ticks": ""
            },
            "colorscale": [
             [
              0,
              "#0d0887"
             ],
             [
              0.1111111111111111,
              "#46039f"
             ],
             [
              0.2222222222222222,
              "#7201a8"
             ],
             [
              0.3333333333333333,
              "#9c179e"
             ],
             [
              0.4444444444444444,
              "#bd3786"
             ],
             [
              0.5555555555555556,
              "#d8576b"
             ],
             [
              0.6666666666666666,
              "#ed7953"
             ],
             [
              0.7777777777777778,
              "#fb9f3a"
             ],
             [
              0.8888888888888888,
              "#fdca26"
             ],
             [
              1,
              "#f0f921"
             ]
            ],
            "type": "surface"
           }
          ],
          "table": [
           {
            "cells": {
             "fill": {
              "color": "#EBF0F8"
             },
             "line": {
              "color": "white"
             }
            },
            "header": {
             "fill": {
              "color": "#C8D4E3"
             },
             "line": {
              "color": "white"
             }
            },
            "type": "table"
           }
          ]
         },
         "layout": {
          "annotationdefaults": {
           "arrowcolor": "#2a3f5f",
           "arrowhead": 0,
           "arrowwidth": 1
          },
          "autotypenumbers": "strict",
          "coloraxis": {
           "colorbar": {
            "outlinewidth": 0,
            "ticks": ""
           }
          },
          "colorscale": {
           "diverging": [
            [
             0,
             "#8e0152"
            ],
            [
             0.1,
             "#c51b7d"
            ],
            [
             0.2,
             "#de77ae"
            ],
            [
             0.3,
             "#f1b6da"
            ],
            [
             0.4,
             "#fde0ef"
            ],
            [
             0.5,
             "#f7f7f7"
            ],
            [
             0.6,
             "#e6f5d0"
            ],
            [
             0.7,
             "#b8e186"
            ],
            [
             0.8,
             "#7fbc41"
            ],
            [
             0.9,
             "#4d9221"
            ],
            [
             1,
             "#276419"
            ]
           ],
           "sequential": [
            [
             0,
             "#0d0887"
            ],
            [
             0.1111111111111111,
             "#46039f"
            ],
            [
             0.2222222222222222,
             "#7201a8"
            ],
            [
             0.3333333333333333,
             "#9c179e"
            ],
            [
             0.4444444444444444,
             "#bd3786"
            ],
            [
             0.5555555555555556,
             "#d8576b"
            ],
            [
             0.6666666666666666,
             "#ed7953"
            ],
            [
             0.7777777777777778,
             "#fb9f3a"
            ],
            [
             0.8888888888888888,
             "#fdca26"
            ],
            [
             1,
             "#f0f921"
            ]
           ],
           "sequentialminus": [
            [
             0,
             "#0d0887"
            ],
            [
             0.1111111111111111,
             "#46039f"
            ],
            [
             0.2222222222222222,
             "#7201a8"
            ],
            [
             0.3333333333333333,
             "#9c179e"
            ],
            [
             0.4444444444444444,
             "#bd3786"
            ],
            [
             0.5555555555555556,
             "#d8576b"
            ],
            [
             0.6666666666666666,
             "#ed7953"
            ],
            [
             0.7777777777777778,
             "#fb9f3a"
            ],
            [
             0.8888888888888888,
             "#fdca26"
            ],
            [
             1,
             "#f0f921"
            ]
           ]
          },
          "colorway": [
           "#636efa",
           "#EF553B",
           "#00cc96",
           "#ab63fa",
           "#FFA15A",
           "#19d3f3",
           "#FF6692",
           "#B6E880",
           "#FF97FF",
           "#FECB52"
          ],
          "font": {
           "color": "#2a3f5f"
          },
          "geo": {
           "bgcolor": "white",
           "lakecolor": "white",
           "landcolor": "#E5ECF6",
           "showlakes": true,
           "showland": true,
           "subunitcolor": "white"
          },
          "hoverlabel": {
           "align": "left"
          },
          "hovermode": "closest",
          "mapbox": {
           "style": "light"
          },
          "paper_bgcolor": "white",
          "plot_bgcolor": "#E5ECF6",
          "polar": {
           "angularaxis": {
            "gridcolor": "white",
            "linecolor": "white",
            "ticks": ""
           },
           "bgcolor": "#E5ECF6",
           "radialaxis": {
            "gridcolor": "white",
            "linecolor": "white",
            "ticks": ""
           }
          },
          "scene": {
           "xaxis": {
            "backgroundcolor": "#E5ECF6",
            "gridcolor": "white",
            "gridwidth": 2,
            "linecolor": "white",
            "showbackground": true,
            "ticks": "",
            "zerolinecolor": "white"
           },
           "yaxis": {
            "backgroundcolor": "#E5ECF6",
            "gridcolor": "white",
            "gridwidth": 2,
            "linecolor": "white",
            "showbackground": true,
            "ticks": "",
            "zerolinecolor": "white"
           },
           "zaxis": {
            "backgroundcolor": "#E5ECF6",
            "gridcolor": "white",
            "gridwidth": 2,
            "linecolor": "white",
            "showbackground": true,
            "ticks": "",
            "zerolinecolor": "white"
           }
          },
          "shapedefaults": {
           "line": {
            "color": "#2a3f5f"
           }
          },
          "ternary": {
           "aaxis": {
            "gridcolor": "white",
            "linecolor": "white",
            "ticks": ""
           },
           "baxis": {
            "gridcolor": "white",
            "linecolor": "white",
            "ticks": ""
           },
           "bgcolor": "#E5ECF6",
           "caxis": {
            "gridcolor": "white",
            "linecolor": "white",
            "ticks": ""
           }
          },
          "title": {
           "x": 0.05
          },
          "xaxis": {
           "automargin": true,
           "gridcolor": "white",
           "linecolor": "white",
           "ticks": "",
           "title": {
            "standoff": 15
           },
           "zerolinecolor": "white",
           "zerolinewidth": 2
          },
          "yaxis": {
           "automargin": true,
           "gridcolor": "white",
           "linecolor": "white",
           "ticks": "",
           "title": {
            "standoff": 15
           },
           "zerolinecolor": "white",
           "zerolinewidth": 2
          }
         }
        },
        "title": {
         "text": "Number of Transactions per Month"
        },
        "xaxis": {
         "anchor": "y",
         "domain": [
          0,
          1
         ],
         "tickangle": -45,
         "title": {
          "text": "Month (YYYY-MM)"
         }
        },
        "yaxis": {
         "anchor": "x",
         "domain": [
          0,
          1
         ],
         "title": {
          "text": "Number of Transactions"
         }
        }
       }
      }
     },
     "metadata": {},
     "output_type": "display_data"
    },
    {
     "name": "stderr",
     "output_type": "stream",
     "text": [
      "INFO: Monthly row counts are within the limit (<= 100).\n"
     ]
    },
    {
     "name": "stdout",
     "output_type": "stream",
     "text": [
      "\n",
      "--- Row Count Validation ---\n",
      "Maximum rows found in a single month: 47\n",
      "Total rows generated: 951\n"
     ]
    }
   ],
   "source": [
    "if not df.empty and 'month' in df.columns:\n",
    "    monthly_row_counts = df.groupby('month').size().reset_index(name='transaction_count')\n",
    "\n",
    "    fig_row_counts = px.bar(monthly_row_counts, x='month', y='transaction_count',\n",
    "                            title='Number of Transactions per Month',\n",
    "                            labels={'month': 'Month (YYYY-MM)', 'transaction_count': 'Number of Transactions'},\n",
    "                            height=400)\n",
    "    fig_row_counts.add_hline(y=100, line_dash=\"dash\", line_color=\"red\", annotation_text=\"Max Limit (100)\")\n",
    "    fig_row_counts.update_layout(xaxis_tickangle=-45)\n",
    "    fig_row_counts.show() # Display inline\n",
    "\n",
    "    # Save image (Commented out)\n",
    "    # try:\n",
    "    #     img_path = IMG_DIR / \"monthly_transaction_counts.png\"\n",
    "    #     fig_row_counts.write_image(img_path)\n",
    "    #     logging.info(f\"Saved monthly row counts plot to {img_path}\")\n",
    "    # except Exception as e:\n",
    "    #     logging.error(f\"Failed to save monthly row counts plot: {e}\")\n",
    "\n",
    "\n",
    "    # Discrepancy Check\n",
    "    max_rows_in_month = monthly_row_counts['transaction_count'].max()\n",
    "    print(f\"\\n--- Row Count Validation ---\")\n",
    "    print(f\"Maximum rows found in a single month: {max_rows_in_month}\")\n",
    "    if max_rows_in_month > 100:\n",
    "        exceeding_months = monthly_row_counts[monthly_row_counts['transaction_count'] > 100]['month'].tolist()\n",
    "        logging.error(f\"Monthly row count limit (>100) EXCEEDED! Max found: {max_rows_in_month}. Check months: {exceeding_months}\")\n",
    "    else:\n",
    "        logging.info(\"Monthly row counts are within the limit (<= 100).\")\n",
    "\n",
    "    total_rows = df.shape[0]\n",
    "    print(f\"Total rows generated: {total_rows}\")\n",
    "\n",
    "else:\n",
    "    print(\"Skipping row count validation.\")"
   ]
  },
  {
   "cell_type": "markdown",
   "id": "9e3fde44",
   "metadata": {},
   "source": [
    "## 4. Constraint Validation: Monthly Totals\n",
    "\n",
    "Verify if the total spending per month falls within the target range of ₹60,000 - ₹120,000."
   ]
  },
  {
   "cell_type": "code",
   "execution_count": 23,
   "id": "48fd2dc7",
   "metadata": {},
   "outputs": [
    {
     "data": {
      "application/vnd.plotly.v1+json": {
       "config": {
        "plotlyServerURL": "https://plot.ly"
       },
       "data": [
        {
         "hovertemplate": "Month (YYYY-MM)=%{x}<br>Total Amount (INR)=%{y}<extra></extra>",
         "legendgroup": "",
         "marker": {
          "color": "#636efa",
          "pattern": {
           "shape": ""
          }
         },
         "name": "",
         "orientation": "v",
         "showlegend": false,
         "textposition": "auto",
         "type": "bar",
         "x": [
          "2023-01",
          "2023-02",
          "2023-03",
          "2023-04",
          "2023-05",
          "2023-06",
          "2023-07",
          "2023-08",
          "2023-09",
          "2023-10",
          "2023-11",
          "2023-12",
          "2024-01",
          "2024-02",
          "2024-03",
          "2024-04",
          "2024-05",
          "2024-06",
          "2024-07",
          "2024-08",
          "2024-09",
          "2024-10",
          "2024-11",
          "2024-12",
          "2025-01",
          "2025-02",
          "2025-03",
          "2025-04"
         ],
         "xaxis": "x",
         "y": {
          "bdata": "16NwPVrD/kCkcD0KD/j+QM3MzMxcKgZBCtejcLkA/0D2KFyPsrH+QPYoXI/+Wv9ASOF6FD4m/0CamZmZ2V7/QFK4HoUzHgZBhetRuE4C/0CamZmZTTb/QIXrUbhWxf5A61G4HksjAEHsUbgeFU7/QD4K16MyYQZBzczMzDzO/0AfhetRWNz+QNejcD22GP9AH4XrURwg/0DhehSuI7P9QBSuR+EaTQZB9ihcj96d/UAfhetRhCj/QOtRuB4ZPf5AAAAAABQV/0BxPQrXJxb+QEjhehTiCwZBj8L1KKS0/kA=",
          "dtype": "f8"
         },
         "yaxis": "y"
        }
       ],
       "layout": {
        "annotations": [
         {
          "showarrow": false,
          "text": "Min Target (60k)",
          "x": 1,
          "xanchor": "right",
          "xref": "x domain",
          "y": 60000,
          "yanchor": "bottom",
          "yref": "y"
         },
         {
          "showarrow": false,
          "text": "Max Target (120k)",
          "x": 1,
          "xanchor": "right",
          "xref": "x domain",
          "y": 120000,
          "yanchor": "bottom",
          "yref": "y"
         }
        ],
        "barmode": "relative",
        "height": 400,
        "legend": {
         "tracegroupgap": 0
        },
        "shapes": [
         {
          "line": {
           "color": "orange",
           "dash": "dash"
          },
          "type": "line",
          "x0": 0,
          "x1": 1,
          "xref": "x domain",
          "y0": 60000,
          "y1": 60000,
          "yref": "y"
         },
         {
          "line": {
           "color": "red",
           "dash": "dash"
          },
          "type": "line",
          "x0": 0,
          "x1": 1,
          "xref": "x domain",
          "y0": 120000,
          "y1": 120000,
          "yref": "y"
         }
        ],
        "template": {
         "data": {
          "bar": [
           {
            "error_x": {
             "color": "#2a3f5f"
            },
            "error_y": {
             "color": "#2a3f5f"
            },
            "marker": {
             "line": {
              "color": "#E5ECF6",
              "width": 0.5
             },
             "pattern": {
              "fillmode": "overlay",
              "size": 10,
              "solidity": 0.2
             }
            },
            "type": "bar"
           }
          ],
          "barpolar": [
           {
            "marker": {
             "line": {
              "color": "#E5ECF6",
              "width": 0.5
             },
             "pattern": {
              "fillmode": "overlay",
              "size": 10,
              "solidity": 0.2
             }
            },
            "type": "barpolar"
           }
          ],
          "carpet": [
           {
            "aaxis": {
             "endlinecolor": "#2a3f5f",
             "gridcolor": "white",
             "linecolor": "white",
             "minorgridcolor": "white",
             "startlinecolor": "#2a3f5f"
            },
            "baxis": {
             "endlinecolor": "#2a3f5f",
             "gridcolor": "white",
             "linecolor": "white",
             "minorgridcolor": "white",
             "startlinecolor": "#2a3f5f"
            },
            "type": "carpet"
           }
          ],
          "choropleth": [
           {
            "colorbar": {
             "outlinewidth": 0,
             "ticks": ""
            },
            "type": "choropleth"
           }
          ],
          "contour": [
           {
            "colorbar": {
             "outlinewidth": 0,
             "ticks": ""
            },
            "colorscale": [
             [
              0,
              "#0d0887"
             ],
             [
              0.1111111111111111,
              "#46039f"
             ],
             [
              0.2222222222222222,
              "#7201a8"
             ],
             [
              0.3333333333333333,
              "#9c179e"
             ],
             [
              0.4444444444444444,
              "#bd3786"
             ],
             [
              0.5555555555555556,
              "#d8576b"
             ],
             [
              0.6666666666666666,
              "#ed7953"
             ],
             [
              0.7777777777777778,
              "#fb9f3a"
             ],
             [
              0.8888888888888888,
              "#fdca26"
             ],
             [
              1,
              "#f0f921"
             ]
            ],
            "type": "contour"
           }
          ],
          "contourcarpet": [
           {
            "colorbar": {
             "outlinewidth": 0,
             "ticks": ""
            },
            "type": "contourcarpet"
           }
          ],
          "heatmap": [
           {
            "colorbar": {
             "outlinewidth": 0,
             "ticks": ""
            },
            "colorscale": [
             [
              0,
              "#0d0887"
             ],
             [
              0.1111111111111111,
              "#46039f"
             ],
             [
              0.2222222222222222,
              "#7201a8"
             ],
             [
              0.3333333333333333,
              "#9c179e"
             ],
             [
              0.4444444444444444,
              "#bd3786"
             ],
             [
              0.5555555555555556,
              "#d8576b"
             ],
             [
              0.6666666666666666,
              "#ed7953"
             ],
             [
              0.7777777777777778,
              "#fb9f3a"
             ],
             [
              0.8888888888888888,
              "#fdca26"
             ],
             [
              1,
              "#f0f921"
             ]
            ],
            "type": "heatmap"
           }
          ],
          "histogram": [
           {
            "marker": {
             "pattern": {
              "fillmode": "overlay",
              "size": 10,
              "solidity": 0.2
             }
            },
            "type": "histogram"
           }
          ],
          "histogram2d": [
           {
            "colorbar": {
             "outlinewidth": 0,
             "ticks": ""
            },
            "colorscale": [
             [
              0,
              "#0d0887"
             ],
             [
              0.1111111111111111,
              "#46039f"
             ],
             [
              0.2222222222222222,
              "#7201a8"
             ],
             [
              0.3333333333333333,
              "#9c179e"
             ],
             [
              0.4444444444444444,
              "#bd3786"
             ],
             [
              0.5555555555555556,
              "#d8576b"
             ],
             [
              0.6666666666666666,
              "#ed7953"
             ],
             [
              0.7777777777777778,
              "#fb9f3a"
             ],
             [
              0.8888888888888888,
              "#fdca26"
             ],
             [
              1,
              "#f0f921"
             ]
            ],
            "type": "histogram2d"
           }
          ],
          "histogram2dcontour": [
           {
            "colorbar": {
             "outlinewidth": 0,
             "ticks": ""
            },
            "colorscale": [
             [
              0,
              "#0d0887"
             ],
             [
              0.1111111111111111,
              "#46039f"
             ],
             [
              0.2222222222222222,
              "#7201a8"
             ],
             [
              0.3333333333333333,
              "#9c179e"
             ],
             [
              0.4444444444444444,
              "#bd3786"
             ],
             [
              0.5555555555555556,
              "#d8576b"
             ],
             [
              0.6666666666666666,
              "#ed7953"
             ],
             [
              0.7777777777777778,
              "#fb9f3a"
             ],
             [
              0.8888888888888888,
              "#fdca26"
             ],
             [
              1,
              "#f0f921"
             ]
            ],
            "type": "histogram2dcontour"
           }
          ],
          "mesh3d": [
           {
            "colorbar": {
             "outlinewidth": 0,
             "ticks": ""
            },
            "type": "mesh3d"
           }
          ],
          "parcoords": [
           {
            "line": {
             "colorbar": {
              "outlinewidth": 0,
              "ticks": ""
             }
            },
            "type": "parcoords"
           }
          ],
          "pie": [
           {
            "automargin": true,
            "type": "pie"
           }
          ],
          "scatter": [
           {
            "fillpattern": {
             "fillmode": "overlay",
             "size": 10,
             "solidity": 0.2
            },
            "type": "scatter"
           }
          ],
          "scatter3d": [
           {
            "line": {
             "colorbar": {
              "outlinewidth": 0,
              "ticks": ""
             }
            },
            "marker": {
             "colorbar": {
              "outlinewidth": 0,
              "ticks": ""
             }
            },
            "type": "scatter3d"
           }
          ],
          "scattercarpet": [
           {
            "marker": {
             "colorbar": {
              "outlinewidth": 0,
              "ticks": ""
             }
            },
            "type": "scattercarpet"
           }
          ],
          "scattergeo": [
           {
            "marker": {
             "colorbar": {
              "outlinewidth": 0,
              "ticks": ""
             }
            },
            "type": "scattergeo"
           }
          ],
          "scattergl": [
           {
            "marker": {
             "colorbar": {
              "outlinewidth": 0,
              "ticks": ""
             }
            },
            "type": "scattergl"
           }
          ],
          "scattermap": [
           {
            "marker": {
             "colorbar": {
              "outlinewidth": 0,
              "ticks": ""
             }
            },
            "type": "scattermap"
           }
          ],
          "scattermapbox": [
           {
            "marker": {
             "colorbar": {
              "outlinewidth": 0,
              "ticks": ""
             }
            },
            "type": "scattermapbox"
           }
          ],
          "scatterpolar": [
           {
            "marker": {
             "colorbar": {
              "outlinewidth": 0,
              "ticks": ""
             }
            },
            "type": "scatterpolar"
           }
          ],
          "scatterpolargl": [
           {
            "marker": {
             "colorbar": {
              "outlinewidth": 0,
              "ticks": ""
             }
            },
            "type": "scatterpolargl"
           }
          ],
          "scatterternary": [
           {
            "marker": {
             "colorbar": {
              "outlinewidth": 0,
              "ticks": ""
             }
            },
            "type": "scatterternary"
           }
          ],
          "surface": [
           {
            "colorbar": {
             "outlinewidth": 0,
             "ticks": ""
            },
            "colorscale": [
             [
              0,
              "#0d0887"
             ],
             [
              0.1111111111111111,
              "#46039f"
             ],
             [
              0.2222222222222222,
              "#7201a8"
             ],
             [
              0.3333333333333333,
              "#9c179e"
             ],
             [
              0.4444444444444444,
              "#bd3786"
             ],
             [
              0.5555555555555556,
              "#d8576b"
             ],
             [
              0.6666666666666666,
              "#ed7953"
             ],
             [
              0.7777777777777778,
              "#fb9f3a"
             ],
             [
              0.8888888888888888,
              "#fdca26"
             ],
             [
              1,
              "#f0f921"
             ]
            ],
            "type": "surface"
           }
          ],
          "table": [
           {
            "cells": {
             "fill": {
              "color": "#EBF0F8"
             },
             "line": {
              "color": "white"
             }
            },
            "header": {
             "fill": {
              "color": "#C8D4E3"
             },
             "line": {
              "color": "white"
             }
            },
            "type": "table"
           }
          ]
         },
         "layout": {
          "annotationdefaults": {
           "arrowcolor": "#2a3f5f",
           "arrowhead": 0,
           "arrowwidth": 1
          },
          "autotypenumbers": "strict",
          "coloraxis": {
           "colorbar": {
            "outlinewidth": 0,
            "ticks": ""
           }
          },
          "colorscale": {
           "diverging": [
            [
             0,
             "#8e0152"
            ],
            [
             0.1,
             "#c51b7d"
            ],
            [
             0.2,
             "#de77ae"
            ],
            [
             0.3,
             "#f1b6da"
            ],
            [
             0.4,
             "#fde0ef"
            ],
            [
             0.5,
             "#f7f7f7"
            ],
            [
             0.6,
             "#e6f5d0"
            ],
            [
             0.7,
             "#b8e186"
            ],
            [
             0.8,
             "#7fbc41"
            ],
            [
             0.9,
             "#4d9221"
            ],
            [
             1,
             "#276419"
            ]
           ],
           "sequential": [
            [
             0,
             "#0d0887"
            ],
            [
             0.1111111111111111,
             "#46039f"
            ],
            [
             0.2222222222222222,
             "#7201a8"
            ],
            [
             0.3333333333333333,
             "#9c179e"
            ],
            [
             0.4444444444444444,
             "#bd3786"
            ],
            [
             0.5555555555555556,
             "#d8576b"
            ],
            [
             0.6666666666666666,
             "#ed7953"
            ],
            [
             0.7777777777777778,
             "#fb9f3a"
            ],
            [
             0.8888888888888888,
             "#fdca26"
            ],
            [
             1,
             "#f0f921"
            ]
           ],
           "sequentialminus": [
            [
             0,
             "#0d0887"
            ],
            [
             0.1111111111111111,
             "#46039f"
            ],
            [
             0.2222222222222222,
             "#7201a8"
            ],
            [
             0.3333333333333333,
             "#9c179e"
            ],
            [
             0.4444444444444444,
             "#bd3786"
            ],
            [
             0.5555555555555556,
             "#d8576b"
            ],
            [
             0.6666666666666666,
             "#ed7953"
            ],
            [
             0.7777777777777778,
             "#fb9f3a"
            ],
            [
             0.8888888888888888,
             "#fdca26"
            ],
            [
             1,
             "#f0f921"
            ]
           ]
          },
          "colorway": [
           "#636efa",
           "#EF553B",
           "#00cc96",
           "#ab63fa",
           "#FFA15A",
           "#19d3f3",
           "#FF6692",
           "#B6E880",
           "#FF97FF",
           "#FECB52"
          ],
          "font": {
           "color": "#2a3f5f"
          },
          "geo": {
           "bgcolor": "white",
           "lakecolor": "white",
           "landcolor": "#E5ECF6",
           "showlakes": true,
           "showland": true,
           "subunitcolor": "white"
          },
          "hoverlabel": {
           "align": "left"
          },
          "hovermode": "closest",
          "mapbox": {
           "style": "light"
          },
          "paper_bgcolor": "white",
          "plot_bgcolor": "#E5ECF6",
          "polar": {
           "angularaxis": {
            "gridcolor": "white",
            "linecolor": "white",
            "ticks": ""
           },
           "bgcolor": "#E5ECF6",
           "radialaxis": {
            "gridcolor": "white",
            "linecolor": "white",
            "ticks": ""
           }
          },
          "scene": {
           "xaxis": {
            "backgroundcolor": "#E5ECF6",
            "gridcolor": "white",
            "gridwidth": 2,
            "linecolor": "white",
            "showbackground": true,
            "ticks": "",
            "zerolinecolor": "white"
           },
           "yaxis": {
            "backgroundcolor": "#E5ECF6",
            "gridcolor": "white",
            "gridwidth": 2,
            "linecolor": "white",
            "showbackground": true,
            "ticks": "",
            "zerolinecolor": "white"
           },
           "zaxis": {
            "backgroundcolor": "#E5ECF6",
            "gridcolor": "white",
            "gridwidth": 2,
            "linecolor": "white",
            "showbackground": true,
            "ticks": "",
            "zerolinecolor": "white"
           }
          },
          "shapedefaults": {
           "line": {
            "color": "#2a3f5f"
           }
          },
          "ternary": {
           "aaxis": {
            "gridcolor": "white",
            "linecolor": "white",
            "ticks": ""
           },
           "baxis": {
            "gridcolor": "white",
            "linecolor": "white",
            "ticks": ""
           },
           "bgcolor": "#E5ECF6",
           "caxis": {
            "gridcolor": "white",
            "linecolor": "white",
            "ticks": ""
           }
          },
          "title": {
           "x": 0.05
          },
          "xaxis": {
           "automargin": true,
           "gridcolor": "white",
           "linecolor": "white",
           "ticks": "",
           "title": {
            "standoff": 15
           },
           "zerolinecolor": "white",
           "zerolinewidth": 2
          },
          "yaxis": {
           "automargin": true,
           "gridcolor": "white",
           "linecolor": "white",
           "ticks": "",
           "title": {
            "standoff": 15
           },
           "zerolinecolor": "white",
           "zerolinewidth": 2
          }
         }
        },
        "title": {
         "text": "Total Spending per Month"
        },
        "xaxis": {
         "anchor": "y",
         "domain": [
          0,
          1
         ],
         "tickangle": -45,
         "title": {
          "text": "Month (YYYY-MM)"
         }
        },
        "yaxis": {
         "anchor": "x",
         "domain": [
          0,
          1
         ],
         "tickprefix": "₹",
         "title": {
          "text": "Total Amount (INR)"
         }
        }
       }
      }
     },
     "metadata": {},
     "output_type": "display_data"
    },
    {
     "name": "stderr",
     "output_type": "stream",
     "text": [
      "INFO: All monthly totals meet or exceed the minimum target (₹60,000).\n",
      "ERROR: 22 months found SIGNIFICANTLY ABOVE ₹120,000 target (>5% overshoot): ['2023-01', '2023-02', '2023-03', '2023-04', '2023-06', '2023-07', '2023-08', '2023-09', '2023-10', '2023-11', '2023-12', '2024-01', '2024-02', '2024-03', '2024-04', '2024-05', '2024-06', '2024-07', '2024-09', '2024-11', '2025-01', '2025-03']\n"
     ]
    },
    {
     "name": "stdout",
     "output_type": "stream",
     "text": [
      "\n",
      "--- Monthly Total Validation ---\n",
      "Minimum monthly total found: ₹121,309.91\n",
      "Maximum monthly total found: ₹183,334.33\n"
     ]
    }
   ],
   "source": [
    "if not df.empty and 'month' in df.columns and 'amount' in df.columns:\n",
    "    monthly_totals = df.groupby('month')['amount'].sum().reset_index(name='total_amount')\n",
    "\n",
    "    fig_monthly_totals = px.bar(monthly_totals, x='month', y='total_amount',\n",
    "                                title='Total Spending per Month',\n",
    "                                labels={'month': 'Month (YYYY-MM)', 'total_amount': 'Total Amount (INR)'},\n",
    "                                height=400)\n",
    "    fig_monthly_totals.add_hline(y=60000, line_dash=\"dash\", line_color=\"orange\", annotation_text=\"Min Target (60k)\")\n",
    "    fig_monthly_totals.add_hline(y=120000, line_dash=\"dash\", line_color=\"red\", annotation_text=\"Max Target (120k)\")\n",
    "    fig_monthly_totals.update_layout(yaxis_tickprefix=\"₹\", xaxis_tickangle=-45)\n",
    "    fig_monthly_totals.show() # Display inline\n",
    "\n",
    "    # Save image (Commented out)\n",
    "    # try:\n",
    "    #     img_path = IMG_DIR / \"monthly_total_spending.png\"\n",
    "    #     fig_monthly_totals.write_image(img_path)\n",
    "    #     logging.info(f\"Saved monthly total spending plot to {img_path}\")\n",
    "    # except Exception as e:\n",
    "    #     logging.error(f\"Failed to save monthly total spending plot: {e}\")\n",
    "\n",
    "    # Discrepancy Check\n",
    "    min_monthly_total = monthly_totals['total_amount'].min()\n",
    "    max_monthly_total = monthly_totals['total_amount'].max()\n",
    "    months_below_min = monthly_totals[monthly_totals['total_amount'] < 60000]\n",
    "    months_above_max = monthly_totals[monthly_totals['total_amount'] > 120000]\n",
    "\n",
    "    print(f\"\\n--- Monthly Total Validation ---\")\n",
    "    print(f\"Minimum monthly total found: ₹{min_monthly_total:,.2f}\")\n",
    "    print(f\"Maximum monthly total found: ₹{max_monthly_total:,.2f}\")\n",
    "\n",
    "    if not months_below_min.empty:\n",
    "        logging.warning(f\"{len(months_below_min)} months found BELOW ₹60,000 target: {months_below_min['month'].tolist()}\")\n",
    "    else:\n",
    "        logging.info(\"All monthly totals meet or exceed the minimum target (₹60,000).\")\n",
    "\n",
    "    if not months_above_max.empty:\n",
    "        # Allow slightly above (e.g. 5%) due to fixed costs potentially pushing it over\n",
    "        months_significantly_above_max = monthly_totals[monthly_totals['total_amount'] > 120000 * 1.05]\n",
    "        if not months_significantly_above_max.empty:\n",
    "            logging.error(f\"{len(months_significantly_above_max)} months found SIGNIFICANTLY ABOVE ₹120,000 target (>5% overshoot): {months_significantly_above_max['month'].tolist()}\")\n",
    "        else:\n",
    "            logging.warning(f\"{len(months_above_max)} months found slightly above ₹120,000 target (<=5% overshoot - check if acceptable): {months_above_max['month'].tolist()}\")\n",
    "    else:\n",
    "        logging.info(\"All monthly totals are within or acceptably close to the maximum target (<= ₹120,000).\")\n",
    "else:\n",
    "    print(\"Skipping monthly total validation.\")"
   ]
  },
  {
   "cell_type": "markdown",
   "id": "83bfb2b9",
   "metadata": {},
   "source": [
    "## 5. Mapping Validation: User vs. Account\n",
    "\n",
    "Ensure that the `user` column correctly corresponds to the `account` column based on the metadata rules."
   ]
  },
  {
   "cell_type": "code",
   "execution_count": 24,
   "id": "3965f380",
   "metadata": {},
   "outputs": [
    {
     "name": "stdout",
     "output_type": "stream",
     "text": [
      "\n",
      "--- User-Account Mapping Validation ---\n",
      "Observed User-Account Combinations (Transaction Counts):\n",
      "account  Anirban-ICICI  Anirban-SBI  Puspita-Bandhan  Puspita-SBI\n",
      "user                                                             \n",
      "Anirban            412          101                0            0\n",
      "Puspita              0            0               62          376\n"
     ]
    },
    {
     "data": {
      "application/vnd.jupyter.widget-view+json": {
       "model_id": "0d0d09cefa9a4d088150bc1871e4b369",
       "version_major": 2,
       "version_minor": 0
      },
      "text/plain": [
       "Checking User-Account:   0%|          | 0/951 [00:00<?, ?it/s]"
      ]
     },
     "metadata": {},
     "output_type": "display_data"
    },
    {
     "name": "stderr",
     "output_type": "stream",
     "text": [
      "INFO: User-Account mapping appears consistent with metadata for all transactions.\n"
     ]
    }
   ],
   "source": [
    "if not df.empty and metadata and 'User' in metadata:\n",
    "    print(\"\\n--- User-Account Mapping Validation ---\")\n",
    "    # Display counts of each combination\n",
    "    user_account_crosstab = pd.crosstab(df['user'], df['account'])\n",
    "    print(\"Observed User-Account Combinations (Transaction Counts):\")\n",
    "    print(user_account_crosstab)\n",
    "\n",
    "    # Discrepancy Check against metadata\n",
    "    valid_map = metadata.get(\"User\", {})\n",
    "    invalid_combos_found = False\n",
    "    checked_accounts = set()\n",
    "\n",
    "    # Use tqdm if iterating over many rows, otherwise direct iteration is fine\n",
    "    from tqdm.notebook import tqdm # Use notebook version\n",
    "    for index, row in tqdm(df.iterrows(), total=df.shape[0], desc=\"Checking User-Account\"):\n",
    "    # for index, row in df.iterrows(): # Direct iteration for <2500 rows is okay\n",
    "        account = row['account']\n",
    "        user = row['user']\n",
    "        # Avoid re-checking same account if metadata is missing\n",
    "        if account in checked_accounts: continue\n",
    "\n",
    "        expected_user = valid_map.get(account)\n",
    "\n",
    "        if expected_user is None:\n",
    "            logging.error(f\"FATAL: Account '{account}' found in data but MISSING in metadata User map! Cannot validate.\")\n",
    "            invalid_combos_found = True\n",
    "            checked_accounts.add(account) # Mark as checked to avoid repeating error\n",
    "        elif user != expected_user:\n",
    "            logging.error(f\"User-Account MISMATCH! Account: '{account}', Expected User: '{expected_user}', Found User: '{user}'. Row index: {index}\")\n",
    "            invalid_combos_found = True\n",
    "            # Don't add to checked_accounts here, allow finding more mismatches for same account if they exist\n",
    "\n",
    "    if not invalid_combos_found:\n",
    "        logging.info(\"User-Account mapping appears consistent with metadata for all transactions.\")\n",
    "    else:\n",
    "        logging.error(\"CRITICAL User-Account mapping inconsistencies detected! Review generation logic or metadata.\")\n",
    "else:\n",
    "    print(\"Skipping User-Account validation (Data or Metadata missing/incomplete).\")"
   ]
  },
  {
   "cell_type": "markdown",
   "id": "dddcbe0c",
   "metadata": {},
   "source": [
    "## 6. Mapping Validation: Category vs. Sub-Category\n",
    "\n",
    "Check if all non-blank `sub_category` values are valid for their corresponding `category` based on the metadata."
   ]
  },
  {
   "cell_type": "code",
   "execution_count": 25,
   "id": "19e899df",
   "metadata": {},
   "outputs": [
    {
     "name": "stdout",
     "output_type": "stream",
     "text": [
      "\n",
      "--- Category-SubCategory Mapping Validation ---\n"
     ]
    },
    {
     "data": {
      "application/vnd.jupyter.widget-view+json": {
       "model_id": "08c39562969e4463b6d692023b8d59c3",
       "version_major": 2,
       "version_minor": 0
      },
      "text/plain": [
       "Checking Cat-SubCat:   0%|          | 0/951 [00:00<?, ?it/s]"
      ]
     },
     "metadata": {},
     "output_type": "display_data"
    },
    {
     "name": "stderr",
     "output_type": "stream",
     "text": [
      "INFO: Category-SubCategory mapping appears consistent with metadata for all non-blank sub-categories.\n"
     ]
    }
   ],
   "source": [
    "if not df.empty and metadata and 'categories' in metadata:\n",
    "    print(\"\\n--- Category-SubCategory Mapping Validation ---\")\n",
    "    category_map = metadata.get(\"categories\", {})\n",
    "    invalid_subcats_found = False\n",
    "    invalid_details = [] # Store details of invalid rows\n",
    "\n",
    "    from tqdm.notebook import tqdm\n",
    "    for index, row in tqdm(df.iterrows(), total=df.shape[0], desc=\"Checking Cat-SubCat\"):\n",
    "    # for index, row in df.iterrows():\n",
    "        category = row['category']\n",
    "        sub_category = row['sub_category']\n",
    "\n",
    "        # Only validate if sub_category is present (not NaN or empty string)\n",
    "        if pd.notna(sub_category) and sub_category != \"\":\n",
    "            valid_subcats = category_map.get(category)\n",
    "\n",
    "            if valid_subcats is None:\n",
    "                detail = f\"Category '{category}' (Row {index}) not found in metadata map.\"\n",
    "                if detail not in [d[0] for d in invalid_details]: # Log category error once\n",
    "                    logging.error(detail)\n",
    "                    invalid_details.append((detail, index))\n",
    "                invalid_subcats_found = True\n",
    "            elif sub_category not in valid_subcats:\n",
    "                detail = f\"Invalid Sub-category! Category: '{category}', Found Sub-cat: '{sub_category}'. Valid: {valid_subcats}. Row Index: {index}\"\n",
    "                logging.error(detail)\n",
    "                invalid_details.append((detail, index))\n",
    "                invalid_subcats_found = True\n",
    "\n",
    "    if not invalid_subcats_found:\n",
    "        logging.info(\"Category-SubCategory mapping appears consistent with metadata for all non-blank sub-categories.\")\n",
    "    else:\n",
    "        logging.error(f\"CRITICAL Category-SubCategory mapping inconsistencies detected! Found {len(invalid_details)} issues.\")\n",
    "        # print(\"\\nSample Invalid Details:\")\n",
    "        # for detail, idx in invalid_details[:min(5, len(invalid_details))]:\n",
    "        #     print(f\"- {detail}\")\n",
    "else:\n",
    "    print(\"Skipping Category-SubCategory validation (Data or Metadata missing/incomplete).\")"
   ]
  },
  {
   "cell_type": "markdown",
   "id": "1624e291",
   "metadata": {},
   "source": [
    "## 7. Fixed Expense Validation: Rent\n",
    "\n",
    "Check frequency (1/month), amount (30k), payer (Anirban/ICICI)."
   ]
  },
  {
   "cell_type": "code",
   "execution_count": 26,
   "id": "409a5dfe",
   "metadata": {},
   "outputs": [
    {
     "name": "stdout",
     "output_type": "stream",
     "text": [
      "\n",
      "--- Rent Validation ---\n"
     ]
    },
    {
     "name": "stderr",
     "output_type": "stream",
     "text": [
      "INFO: Rent transactions appear correct (Amount, Payer, Frequency).\n"
     ]
    },
    {
     "data": {
      "application/vnd.plotly.v1+json": {
       "config": {
        "plotlyServerURL": "https://plot.ly"
       },
       "data": [
        {
         "hovertemplate": "month=%{x}<br>count=%{y}<extra></extra>",
         "legendgroup": "",
         "marker": {
          "color": "#636efa",
          "pattern": {
           "shape": ""
          }
         },
         "name": "",
         "orientation": "v",
         "showlegend": false,
         "textposition": "auto",
         "type": "bar",
         "x": [
          "2023-01",
          "2023-02",
          "2023-03",
          "2023-04",
          "2023-05",
          "2023-06",
          "2023-07",
          "2023-08",
          "2023-09",
          "2023-10",
          "2023-11",
          "2023-12",
          "2024-01",
          "2024-02",
          "2024-03",
          "2024-04",
          "2024-05",
          "2024-06",
          "2024-07",
          "2024-08",
          "2024-09",
          "2024-10",
          "2024-11",
          "2024-12",
          "2025-01",
          "2025-02",
          "2025-03",
          "2025-04"
         ],
         "xaxis": "x",
         "y": {
          "bdata": "AQEBAQEBAQEBAQEBAQEBAQEBAQEBAQEBAQEBAQ==",
          "dtype": "i1"
         },
         "yaxis": "y"
        }
       ],
       "layout": {
        "barmode": "relative",
        "height": 300,
        "legend": {
         "tracegroupgap": 0
        },
        "showlegend": false,
        "template": {
         "data": {
          "bar": [
           {
            "error_x": {
             "color": "#2a3f5f"
            },
            "error_y": {
             "color": "#2a3f5f"
            },
            "marker": {
             "line": {
              "color": "#E5ECF6",
              "width": 0.5
             },
             "pattern": {
              "fillmode": "overlay",
              "size": 10,
              "solidity": 0.2
             }
            },
            "type": "bar"
           }
          ],
          "barpolar": [
           {
            "marker": {
             "line": {
              "color": "#E5ECF6",
              "width": 0.5
             },
             "pattern": {
              "fillmode": "overlay",
              "size": 10,
              "solidity": 0.2
             }
            },
            "type": "barpolar"
           }
          ],
          "carpet": [
           {
            "aaxis": {
             "endlinecolor": "#2a3f5f",
             "gridcolor": "white",
             "linecolor": "white",
             "minorgridcolor": "white",
             "startlinecolor": "#2a3f5f"
            },
            "baxis": {
             "endlinecolor": "#2a3f5f",
             "gridcolor": "white",
             "linecolor": "white",
             "minorgridcolor": "white",
             "startlinecolor": "#2a3f5f"
            },
            "type": "carpet"
           }
          ],
          "choropleth": [
           {
            "colorbar": {
             "outlinewidth": 0,
             "ticks": ""
            },
            "type": "choropleth"
           }
          ],
          "contour": [
           {
            "colorbar": {
             "outlinewidth": 0,
             "ticks": ""
            },
            "colorscale": [
             [
              0,
              "#0d0887"
             ],
             [
              0.1111111111111111,
              "#46039f"
             ],
             [
              0.2222222222222222,
              "#7201a8"
             ],
             [
              0.3333333333333333,
              "#9c179e"
             ],
             [
              0.4444444444444444,
              "#bd3786"
             ],
             [
              0.5555555555555556,
              "#d8576b"
             ],
             [
              0.6666666666666666,
              "#ed7953"
             ],
             [
              0.7777777777777778,
              "#fb9f3a"
             ],
             [
              0.8888888888888888,
              "#fdca26"
             ],
             [
              1,
              "#f0f921"
             ]
            ],
            "type": "contour"
           }
          ],
          "contourcarpet": [
           {
            "colorbar": {
             "outlinewidth": 0,
             "ticks": ""
            },
            "type": "contourcarpet"
           }
          ],
          "heatmap": [
           {
            "colorbar": {
             "outlinewidth": 0,
             "ticks": ""
            },
            "colorscale": [
             [
              0,
              "#0d0887"
             ],
             [
              0.1111111111111111,
              "#46039f"
             ],
             [
              0.2222222222222222,
              "#7201a8"
             ],
             [
              0.3333333333333333,
              "#9c179e"
             ],
             [
              0.4444444444444444,
              "#bd3786"
             ],
             [
              0.5555555555555556,
              "#d8576b"
             ],
             [
              0.6666666666666666,
              "#ed7953"
             ],
             [
              0.7777777777777778,
              "#fb9f3a"
             ],
             [
              0.8888888888888888,
              "#fdca26"
             ],
             [
              1,
              "#f0f921"
             ]
            ],
            "type": "heatmap"
           }
          ],
          "histogram": [
           {
            "marker": {
             "pattern": {
              "fillmode": "overlay",
              "size": 10,
              "solidity": 0.2
             }
            },
            "type": "histogram"
           }
          ],
          "histogram2d": [
           {
            "colorbar": {
             "outlinewidth": 0,
             "ticks": ""
            },
            "colorscale": [
             [
              0,
              "#0d0887"
             ],
             [
              0.1111111111111111,
              "#46039f"
             ],
             [
              0.2222222222222222,
              "#7201a8"
             ],
             [
              0.3333333333333333,
              "#9c179e"
             ],
             [
              0.4444444444444444,
              "#bd3786"
             ],
             [
              0.5555555555555556,
              "#d8576b"
             ],
             [
              0.6666666666666666,
              "#ed7953"
             ],
             [
              0.7777777777777778,
              "#fb9f3a"
             ],
             [
              0.8888888888888888,
              "#fdca26"
             ],
             [
              1,
              "#f0f921"
             ]
            ],
            "type": "histogram2d"
           }
          ],
          "histogram2dcontour": [
           {
            "colorbar": {
             "outlinewidth": 0,
             "ticks": ""
            },
            "colorscale": [
             [
              0,
              "#0d0887"
             ],
             [
              0.1111111111111111,
              "#46039f"
             ],
             [
              0.2222222222222222,
              "#7201a8"
             ],
             [
              0.3333333333333333,
              "#9c179e"
             ],
             [
              0.4444444444444444,
              "#bd3786"
             ],
             [
              0.5555555555555556,
              "#d8576b"
             ],
             [
              0.6666666666666666,
              "#ed7953"
             ],
             [
              0.7777777777777778,
              "#fb9f3a"
             ],
             [
              0.8888888888888888,
              "#fdca26"
             ],
             [
              1,
              "#f0f921"
             ]
            ],
            "type": "histogram2dcontour"
           }
          ],
          "mesh3d": [
           {
            "colorbar": {
             "outlinewidth": 0,
             "ticks": ""
            },
            "type": "mesh3d"
           }
          ],
          "parcoords": [
           {
            "line": {
             "colorbar": {
              "outlinewidth": 0,
              "ticks": ""
             }
            },
            "type": "parcoords"
           }
          ],
          "pie": [
           {
            "automargin": true,
            "type": "pie"
           }
          ],
          "scatter": [
           {
            "fillpattern": {
             "fillmode": "overlay",
             "size": 10,
             "solidity": 0.2
            },
            "type": "scatter"
           }
          ],
          "scatter3d": [
           {
            "line": {
             "colorbar": {
              "outlinewidth": 0,
              "ticks": ""
             }
            },
            "marker": {
             "colorbar": {
              "outlinewidth": 0,
              "ticks": ""
             }
            },
            "type": "scatter3d"
           }
          ],
          "scattercarpet": [
           {
            "marker": {
             "colorbar": {
              "outlinewidth": 0,
              "ticks": ""
             }
            },
            "type": "scattercarpet"
           }
          ],
          "scattergeo": [
           {
            "marker": {
             "colorbar": {
              "outlinewidth": 0,
              "ticks": ""
             }
            },
            "type": "scattergeo"
           }
          ],
          "scattergl": [
           {
            "marker": {
             "colorbar": {
              "outlinewidth": 0,
              "ticks": ""
             }
            },
            "type": "scattergl"
           }
          ],
          "scattermap": [
           {
            "marker": {
             "colorbar": {
              "outlinewidth": 0,
              "ticks": ""
             }
            },
            "type": "scattermap"
           }
          ],
          "scattermapbox": [
           {
            "marker": {
             "colorbar": {
              "outlinewidth": 0,
              "ticks": ""
             }
            },
            "type": "scattermapbox"
           }
          ],
          "scatterpolar": [
           {
            "marker": {
             "colorbar": {
              "outlinewidth": 0,
              "ticks": ""
             }
            },
            "type": "scatterpolar"
           }
          ],
          "scatterpolargl": [
           {
            "marker": {
             "colorbar": {
              "outlinewidth": 0,
              "ticks": ""
             }
            },
            "type": "scatterpolargl"
           }
          ],
          "scatterternary": [
           {
            "marker": {
             "colorbar": {
              "outlinewidth": 0,
              "ticks": ""
             }
            },
            "type": "scatterternary"
           }
          ],
          "surface": [
           {
            "colorbar": {
             "outlinewidth": 0,
             "ticks": ""
            },
            "colorscale": [
             [
              0,
              "#0d0887"
             ],
             [
              0.1111111111111111,
              "#46039f"
             ],
             [
              0.2222222222222222,
              "#7201a8"
             ],
             [
              0.3333333333333333,
              "#9c179e"
             ],
             [
              0.4444444444444444,
              "#bd3786"
             ],
             [
              0.5555555555555556,
              "#d8576b"
             ],
             [
              0.6666666666666666,
              "#ed7953"
             ],
             [
              0.7777777777777778,
              "#fb9f3a"
             ],
             [
              0.8888888888888888,
              "#fdca26"
             ],
             [
              1,
              "#f0f921"
             ]
            ],
            "type": "surface"
           }
          ],
          "table": [
           {
            "cells": {
             "fill": {
              "color": "#EBF0F8"
             },
             "line": {
              "color": "white"
             }
            },
            "header": {
             "fill": {
              "color": "#C8D4E3"
             },
             "line": {
              "color": "white"
             }
            },
            "type": "table"
           }
          ]
         },
         "layout": {
          "annotationdefaults": {
           "arrowcolor": "#2a3f5f",
           "arrowhead": 0,
           "arrowwidth": 1
          },
          "autotypenumbers": "strict",
          "coloraxis": {
           "colorbar": {
            "outlinewidth": 0,
            "ticks": ""
           }
          },
          "colorscale": {
           "diverging": [
            [
             0,
             "#8e0152"
            ],
            [
             0.1,
             "#c51b7d"
            ],
            [
             0.2,
             "#de77ae"
            ],
            [
             0.3,
             "#f1b6da"
            ],
            [
             0.4,
             "#fde0ef"
            ],
            [
             0.5,
             "#f7f7f7"
            ],
            [
             0.6,
             "#e6f5d0"
            ],
            [
             0.7,
             "#b8e186"
            ],
            [
             0.8,
             "#7fbc41"
            ],
            [
             0.9,
             "#4d9221"
            ],
            [
             1,
             "#276419"
            ]
           ],
           "sequential": [
            [
             0,
             "#0d0887"
            ],
            [
             0.1111111111111111,
             "#46039f"
            ],
            [
             0.2222222222222222,
             "#7201a8"
            ],
            [
             0.3333333333333333,
             "#9c179e"
            ],
            [
             0.4444444444444444,
             "#bd3786"
            ],
            [
             0.5555555555555556,
             "#d8576b"
            ],
            [
             0.6666666666666666,
             "#ed7953"
            ],
            [
             0.7777777777777778,
             "#fb9f3a"
            ],
            [
             0.8888888888888888,
             "#fdca26"
            ],
            [
             1,
             "#f0f921"
            ]
           ],
           "sequentialminus": [
            [
             0,
             "#0d0887"
            ],
            [
             0.1111111111111111,
             "#46039f"
            ],
            [
             0.2222222222222222,
             "#7201a8"
            ],
            [
             0.3333333333333333,
             "#9c179e"
            ],
            [
             0.4444444444444444,
             "#bd3786"
            ],
            [
             0.5555555555555556,
             "#d8576b"
            ],
            [
             0.6666666666666666,
             "#ed7953"
            ],
            [
             0.7777777777777778,
             "#fb9f3a"
            ],
            [
             0.8888888888888888,
             "#fdca26"
            ],
            [
             1,
             "#f0f921"
            ]
           ]
          },
          "colorway": [
           "#636efa",
           "#EF553B",
           "#00cc96",
           "#ab63fa",
           "#FFA15A",
           "#19d3f3",
           "#FF6692",
           "#B6E880",
           "#FF97FF",
           "#FECB52"
          ],
          "font": {
           "color": "#2a3f5f"
          },
          "geo": {
           "bgcolor": "white",
           "lakecolor": "white",
           "landcolor": "#E5ECF6",
           "showlakes": true,
           "showland": true,
           "subunitcolor": "white"
          },
          "hoverlabel": {
           "align": "left"
          },
          "hovermode": "closest",
          "mapbox": {
           "style": "light"
          },
          "paper_bgcolor": "white",
          "plot_bgcolor": "#E5ECF6",
          "polar": {
           "angularaxis": {
            "gridcolor": "white",
            "linecolor": "white",
            "ticks": ""
           },
           "bgcolor": "#E5ECF6",
           "radialaxis": {
            "gridcolor": "white",
            "linecolor": "white",
            "ticks": ""
           }
          },
          "scene": {
           "xaxis": {
            "backgroundcolor": "#E5ECF6",
            "gridcolor": "white",
            "gridwidth": 2,
            "linecolor": "white",
            "showbackground": true,
            "ticks": "",
            "zerolinecolor": "white"
           },
           "yaxis": {
            "backgroundcolor": "#E5ECF6",
            "gridcolor": "white",
            "gridwidth": 2,
            "linecolor": "white",
            "showbackground": true,
            "ticks": "",
            "zerolinecolor": "white"
           },
           "zaxis": {
            "backgroundcolor": "#E5ECF6",
            "gridcolor": "white",
            "gridwidth": 2,
            "linecolor": "white",
            "showbackground": true,
            "ticks": "",
            "zerolinecolor": "white"
           }
          },
          "shapedefaults": {
           "line": {
            "color": "#2a3f5f"
           }
          },
          "ternary": {
           "aaxis": {
            "gridcolor": "white",
            "linecolor": "white",
            "ticks": ""
           },
           "baxis": {
            "gridcolor": "white",
            "linecolor": "white",
            "ticks": ""
           },
           "bgcolor": "#E5ECF6",
           "caxis": {
            "gridcolor": "white",
            "linecolor": "white",
            "ticks": ""
           }
          },
          "title": {
           "x": 0.05
          },
          "xaxis": {
           "automargin": true,
           "gridcolor": "white",
           "linecolor": "white",
           "ticks": "",
           "title": {
            "standoff": 15
           },
           "zerolinecolor": "white",
           "zerolinewidth": 2
          },
          "yaxis": {
           "automargin": true,
           "gridcolor": "white",
           "linecolor": "white",
           "ticks": "",
           "title": {
            "standoff": 15
           },
           "zerolinecolor": "white",
           "zerolinewidth": 2
          }
         }
        },
        "title": {
         "text": "Monthly Rent Transaction Count"
        },
        "xaxis": {
         "anchor": "y",
         "domain": [
          0,
          1
         ],
         "title": {
          "text": "Month (YYYY-MM)"
         }
        },
        "yaxis": {
         "anchor": "x",
         "domain": [
          0,
          1
         ],
         "dtick": 1,
         "tickmode": "linear",
         "title": {
          "text": "Count"
         }
        }
       }
      }
     },
     "metadata": {},
     "output_type": "display_data"
    }
   ],
   "source": [
    "if not df.empty and 'month' in df.columns:\n",
    "    print(\"\\n--- Rent Validation ---\")\n",
    "    rent_df = df[(df['category'] == 'Rent') & (df['sub_category'] == 'House Rent')].copy()\n",
    "\n",
    "    if rent_df.empty:\n",
    "        logging.warning(\"No Rent transactions found!\")\n",
    "    else:\n",
    "        valid = True\n",
    "        # Check Amount\n",
    "        if not (rent_df['amount'] == 30000).all():\n",
    "            logging.error(f\"Rent amount incorrect! Found values != 30000: {rent_df[rent_df['amount'] != 30000]['amount'].unique()}\")\n",
    "            valid = False\n",
    "        # Check User/Account\n",
    "        if not ((rent_df['user'] == 'Anirban') & (rent_df['account'] == 'Anirban-ICICI')).all():\n",
    "            logging.error(f\"Rent payer incorrect! Found instances not paid by Anirban/Anirban-ICICI.\")\n",
    "            valid = False\n",
    "        # Check Frequency\n",
    "        rent_monthly_counts = rent_df.groupby('month').size()\n",
    "        if (rent_monthly_counts != 1).any():\n",
    "            logging.error(f\"Rent frequency incorrect! Months with counts != 1: {rent_monthly_counts[rent_monthly_counts != 1].index.tolist()}\")\n",
    "            valid = False\n",
    "\n",
    "        if valid:\n",
    "            logging.info(\"Rent transactions appear correct (Amount, Payer, Frequency).\")\n",
    "\n",
    "        # Visualize counts even if correct\n",
    "        fig_rent_counts = px.bar(rent_monthly_counts.reset_index(name='count'), x='month', y='count', title='Monthly Rent Transaction Count', height=300)\n",
    "        fig_rent_counts.update_layout(yaxis_title='Count', xaxis_title='Month (YYYY-MM)', showlegend=False, yaxis=dict(tickmode='linear', dtick=1))\n",
    "        fig_rent_counts.show() # Display inline\n",
    "        # try: fig_rent_counts.write_image(IMG_DIR / \"rent_monthly_counts.png\") # Commented out\n",
    "        # except Exception as e: logging.error(f\"Failed to save rent counts plot: {e}\")\n",
    "\n",
    "else:\n",
    "    print(\"Skipping Rent validation.\")"
   ]
  },
  {
   "cell_type": "markdown",
   "id": "094e3696",
   "metadata": {},
   "source": [
    "## 8. Fixed Expense Validation: SIP & ULIP\n",
    "\n",
    "Check monthly frequency, amounts (SIP=3k, ULIP=4k), and payer (Anirban-ICICI)."
   ]
  },
  {
   "cell_type": "code",
   "execution_count": 27,
   "id": "e631899a",
   "metadata": {},
   "outputs": [
    {
     "name": "stderr",
     "output_type": "stream",
     "text": [
      "INFO: SIP transactions appear correct (Amount, Payer, Frequency<=1). Check warnings for missed months.\n",
      "INFO: ULIP transactions appear correct (Amount, Payer, Frequency<=1). Check warnings for missed months.\n"
     ]
    },
    {
     "name": "stdout",
     "output_type": "stream",
     "text": [
      "\n",
      "--- SIP & ULIP Validation ---\n"
     ]
    }
   ],
   "source": [
    "if not df.empty and 'month' in df.columns:\n",
    "    print(\"\\n--- SIP & ULIP Validation ---\")\n",
    "    sip_df = df[(df['category'] == 'Investment') & (df['sub_category'] == 'SIP')].copy()\n",
    "    ulip_df = df[(df['category'] == 'Insurance Premium') & (df['sub_category'] == 'ULIP')].copy()\n",
    "    valid_sip = True; valid_ulip = True\n",
    "\n",
    "    # --- SIP ---\n",
    "    if sip_df.empty: logging.warning(\"No SIP transactions found!\")\n",
    "    else:\n",
    "        if not (sip_df['amount'] == 3000).all(): logging.error(f\"SIP amount incorrect! Found values != 3000.\"); valid_sip = False\n",
    "        if not ((sip_df['user'] == 'Anirban') & (sip_df['account'] == 'Anirban-ICICI')).all(): logging.error(\"SIP payer incorrect!\"); valid_sip = False\n",
    "        sip_counts = sip_df.groupby('month').size()\n",
    "        if (sip_counts > 1).any(): logging.error(f\"SIP frequency incorrect (>1 per month)!\"); valid_sip = False\n",
    "        # Check for missing months more accurately\n",
    "        all_months_in_data = set(df['month'].unique()) # Get all unique months from the main dataframe\n",
    "        sip_months_found = set(sip_df['month'].unique())\n",
    "        missing_sip_months = all_months_in_data - sip_months_found\n",
    "        if missing_sip_months and valid_sip: logging.warning(f\"SIP seems missing in {len(missing_sip_months)} months: {sorted(list(missing_sip_months))[:5]}...\")\n",
    "\n",
    "        if valid_sip: logging.info(\"SIP transactions appear correct (Amount, Payer, Frequency<=1). Check warnings for missed months.\")\n",
    "\n",
    "    # --- ULIP ---\n",
    "    if ulip_df.empty: logging.warning(\"No ULIP transactions found!\")\n",
    "    else:\n",
    "        if not (ulip_df['amount'] == 4000).all(): logging.error(f\"ULIP amount incorrect! Found values != 4000.\"); valid_ulip = False\n",
    "        if not ((ulip_df['user'] == 'Anirban') & (ulip_df['account'] == 'Anirban-ICICI')).all(): logging.error(\"ULIP payer incorrect!\"); valid_ulip = False\n",
    "        ulip_counts = ulip_df.groupby('month').size()\n",
    "        if (ulip_counts > 1).any(): logging.error(f\"ULIP frequency incorrect (>1 per month)!\"); valid_ulip = False\n",
    "        ulip_months_found = set(ulip_df['month'].unique())\n",
    "        missing_ulip_months = all_months_in_data - ulip_months_found\n",
    "        if missing_ulip_months and valid_ulip: logging.warning(f\"ULIP seems missing in {len(missing_ulip_months)} months: {sorted(list(missing_ulip_months))[:5]}...\")\n",
    "\n",
    "        if valid_ulip: logging.info(\"ULIP transactions appear correct (Amount, Payer, Frequency<=1). Check warnings for missed months.\")\n",
    "\n",
    "else:\n",
    "    print(\"Skipping SIP/ULIP validation.\")"
   ]
  },
  {
   "cell_type": "markdown",
   "id": "c01f665e",
   "metadata": {},
   "source": [
    "## 9. Fixed Expense Validation: Maid Salary\n",
    "\n",
    "Check monthly frequency (once), amount (₹2500), and payer (Puspita-SBI)."
   ]
  },
  {
   "cell_type": "code",
   "execution_count": 28,
   "id": "e335ad6d",
   "metadata": {},
   "outputs": [
    {
     "name": "stderr",
     "output_type": "stream",
     "text": [
      "INFO: Maid Salary transactions appear correct.\n"
     ]
    },
    {
     "name": "stdout",
     "output_type": "stream",
     "text": [
      "\n",
      "--- Maid Salary Validation ---\n"
     ]
    }
   ],
   "source": [
    "if not df.empty and 'month' in df.columns:\n",
    "    print(\"\\n--- Maid Salary Validation ---\")\n",
    "    maid_df = df[(df['category'] == 'Household') & (df['sub_category'] == 'Maid')].copy()\n",
    "    valid_maid = True\n",
    "\n",
    "    if maid_df.empty: logging.warning(\"No Maid transactions found!\")\n",
    "    else:\n",
    "        if not (maid_df['amount'] == 2500).all(): logging.error(f\"Maid amount incorrect!\"); valid_maid = False\n",
    "        if not ((maid_df['user'] == 'Puspita') & (maid_df['account'] == 'Puspita-SBI')).all(): logging.error(\"Maid payer incorrect!\"); valid_maid = False\n",
    "        maid_counts = maid_df.groupby('month').size()\n",
    "        if (maid_counts != 1).any(): logging.error(f\"Maid frequency incorrect (!=1 per month)!\"); valid_maid = False\n",
    "        if valid_maid: logging.info(\"Maid Salary transactions appear correct.\")\n",
    "else:\n",
    "    print(\"Skipping Maid Salary validation.\")"
   ]
  },
  {
   "cell_type": "markdown",
   "id": "4cedf86b",
   "metadata": {},
   "source": [
    "## 10. Ad-hoc Amount Distribution: Key Categories (Box Plot)\n",
    "\n",
    "Visualize amount distributions for major variable spending areas."
   ]
  },
  {
   "cell_type": "code",
   "execution_count": 29,
   "id": "68829a91",
   "metadata": {},
   "outputs": [
    {
     "name": "stdout",
     "output_type": "stream",
     "text": [
      "\n",
      "--- Ad-hoc Amount Distributions (Box Plots) ---\n"
     ]
    },
    {
     "data": {
      "application/vnd.plotly.v1+json": {
       "config": {
        "plotlyServerURL": "https://plot.ly"
       },
       "data": [
        {
         "alignmentgroup": "True",
         "boxpoints": "outliers",
         "hovertemplate": "Category=%{x}<br>Amount (INR)=%{y}<extra></extra>",
         "legendgroup": "",
         "marker": {
          "color": "#636efa"
         },
         "name": "",
         "notched": false,
         "offsetgroup": "",
         "orientation": "v",
         "showlegend": false,
         "type": "box",
         "x": [
          "Grocery",
          "Grocery",
          "Restaurant",
          "Travel",
          "Grocery",
          "Travel",
          "Household",
          "Grocery",
          "Grocery",
          "Grocery",
          "Household",
          "Shopping",
          "Shopping",
          "Travel",
          "Travel",
          "Shopping",
          "Household",
          "Travel",
          "Grocery",
          "Restaurant",
          "Travel",
          "Grocery",
          "Shopping",
          "Grocery",
          "Restaurant",
          "Entertainment",
          "Shopping",
          "Household",
          "Restaurant",
          "Household",
          "Grocery",
          "Restaurant",
          "Restaurant",
          "Grocery",
          "Household",
          "Health",
          "Entertainment",
          "Shopping",
          "Travel",
          "Restaurant",
          "Entertainment",
          "Travel",
          "Household",
          "Grocery",
          "Health",
          "Travel",
          "Restaurant",
          "Grocery",
          "Entertainment",
          "Grocery",
          "Travel",
          "Entertainment",
          "Travel",
          "Health",
          "Restaurant",
          "Grocery",
          "Household",
          "Household",
          "Health",
          "Travel",
          "Shopping",
          "Travel",
          "Grocery",
          "Grocery",
          "Shopping",
          "Travel",
          "Travel",
          "Travel",
          "Household",
          "Travel",
          "Household",
          "Shopping",
          "Grocery",
          "Grocery",
          "Health",
          "Shopping",
          "Household",
          "Travel",
          "Grocery",
          "Household",
          "Shopping",
          "Restaurant",
          "Shopping",
          "Grocery",
          "Restaurant",
          "Grocery",
          "Health",
          "Household",
          "Travel",
          "Health",
          "Shopping",
          "Grocery",
          "Shopping",
          "Household",
          "Shopping",
          "Shopping",
          "Shopping",
          "Travel",
          "Health",
          "Household",
          "Shopping",
          "Travel",
          "Entertainment",
          "Household",
          "Shopping",
          "Health",
          "Travel",
          "Restaurant",
          "Household",
          "Health",
          "Household",
          "Travel",
          "Restaurant",
          "Travel",
          "Travel",
          "Restaurant",
          "Grocery",
          "Travel",
          "Travel",
          "Household",
          "Household",
          "Travel",
          "Shopping",
          "Travel",
          "Entertainment",
          "Household",
          "Travel",
          "Restaurant",
          "Restaurant",
          "Travel",
          "Shopping",
          "Shopping",
          "Household",
          "Shopping",
          "Shopping",
          "Household",
          "Household",
          "Grocery",
          "Travel",
          "Grocery",
          "Household",
          "Travel",
          "Health",
          "Grocery",
          "Shopping",
          "Household",
          "Household",
          "Entertainment",
          "Travel",
          "Travel",
          "Health",
          "Entertainment",
          "Household",
          "Travel",
          "Travel",
          "Travel",
          "Grocery",
          "Household",
          "Grocery",
          "Health",
          "Health",
          "Travel",
          "Travel",
          "Travel",
          "Household",
          "Shopping",
          "Household",
          "Shopping",
          "Restaurant",
          "Household",
          "Health",
          "Travel",
          "Travel",
          "Household",
          "Grocery",
          "Restaurant",
          "Travel",
          "Health",
          "Grocery",
          "Travel",
          "Household",
          "Household",
          "Travel",
          "Grocery",
          "Grocery",
          "Grocery",
          "Entertainment",
          "Shopping",
          "Travel",
          "Household",
          "Travel",
          "Health",
          "Shopping",
          "Shopping",
          "Shopping",
          "Travel",
          "Household",
          "Restaurant",
          "Restaurant",
          "Travel",
          "Grocery",
          "Restaurant",
          "Travel",
          "Household",
          "Shopping",
          "Restaurant",
          "Health",
          "Household",
          "Shopping",
          "Household",
          "Travel",
          "Restaurant",
          "Health",
          "Travel",
          "Household",
          "Travel",
          "Grocery",
          "Travel",
          "Travel",
          "Restaurant",
          "Restaurant",
          "Household",
          "Household",
          "Travel",
          "Shopping",
          "Travel",
          "Health",
          "Grocery",
          "Restaurant",
          "Travel",
          "Travel",
          "Restaurant",
          "Restaurant",
          "Restaurant",
          "Travel",
          "Grocery",
          "Restaurant",
          "Household",
          "Restaurant",
          "Travel",
          "Shopping",
          "Grocery",
          "Entertainment",
          "Household",
          "Grocery",
          "Shopping",
          "Shopping",
          "Shopping",
          "Household",
          "Household",
          "Shopping",
          "Shopping",
          "Travel",
          "Grocery",
          "Grocery",
          "Shopping",
          "Health",
          "Shopping",
          "Health",
          "Shopping",
          "Household",
          "Shopping",
          "Travel",
          "Restaurant",
          "Restaurant",
          "Travel",
          "Travel",
          "Travel",
          "Shopping",
          "Travel",
          "Household",
          "Household",
          "Travel",
          "Travel",
          "Grocery",
          "Shopping",
          "Shopping",
          "Health",
          "Household",
          "Entertainment",
          "Restaurant",
          "Household",
          "Restaurant",
          "Travel",
          "Travel",
          "Travel",
          "Grocery",
          "Household",
          "Grocery",
          "Household",
          "Grocery",
          "Travel",
          "Grocery",
          "Travel",
          "Travel",
          "Health",
          "Household",
          "Household",
          "Travel",
          "Restaurant",
          "Travel",
          "Travel",
          "Shopping",
          "Restaurant",
          "Shopping",
          "Health",
          "Travel",
          "Household",
          "Shopping",
          "Household",
          "Shopping",
          "Grocery",
          "Grocery",
          "Travel",
          "Shopping",
          "Travel",
          "Shopping",
          "Travel",
          "Household",
          "Grocery",
          "Travel",
          "Household",
          "Shopping",
          "Restaurant",
          "Restaurant",
          "Shopping",
          "Shopping",
          "Health",
          "Restaurant",
          "Shopping",
          "Shopping",
          "Household",
          "Travel",
          "Shopping",
          "Health",
          "Travel",
          "Household",
          "Restaurant",
          "Household",
          "Travel",
          "Travel",
          "Restaurant",
          "Household",
          "Travel",
          "Restaurant",
          "Shopping",
          "Health",
          "Travel",
          "Travel",
          "Travel",
          "Household",
          "Shopping",
          "Grocery",
          "Travel",
          "Travel",
          "Restaurant",
          "Household",
          "Grocery",
          "Shopping",
          "Travel",
          "Shopping",
          "Travel",
          "Grocery",
          "Shopping",
          "Entertainment",
          "Restaurant",
          "Travel",
          "Shopping",
          "Household",
          "Household",
          "Restaurant",
          "Entertainment",
          "Grocery",
          "Restaurant",
          "Travel",
          "Grocery",
          "Travel",
          "Grocery",
          "Grocery",
          "Grocery",
          "Health",
          "Shopping",
          "Household",
          "Travel",
          "Shopping",
          "Health",
          "Travel",
          "Entertainment",
          "Household",
          "Shopping",
          "Grocery",
          "Household",
          "Restaurant",
          "Shopping",
          "Shopping",
          "Restaurant",
          "Shopping",
          "Travel",
          "Grocery",
          "Household",
          "Entertainment",
          "Travel",
          "Household",
          "Health",
          "Travel",
          "Restaurant",
          "Shopping",
          "Health",
          "Shopping",
          "Shopping",
          "Travel",
          "Shopping",
          "Restaurant",
          "Entertainment",
          "Health",
          "Shopping",
          "Restaurant",
          "Entertainment",
          "Household",
          "Household",
          "Shopping",
          "Shopping",
          "Shopping",
          "Household",
          "Health",
          "Restaurant",
          "Household",
          "Travel",
          "Household",
          "Household",
          "Grocery",
          "Shopping",
          "Restaurant",
          "Household",
          "Travel",
          "Household",
          "Household",
          "Shopping",
          "Household",
          "Restaurant",
          "Household",
          "Shopping",
          "Shopping",
          "Household",
          "Household",
          "Travel",
          "Shopping",
          "Travel",
          "Restaurant",
          "Travel",
          "Travel",
          "Travel",
          "Shopping",
          "Travel",
          "Entertainment",
          "Shopping",
          "Shopping",
          "Household",
          "Grocery",
          "Shopping",
          "Entertainment",
          "Household",
          "Grocery",
          "Household",
          "Restaurant",
          "Shopping",
          "Grocery",
          "Health",
          "Grocery",
          "Entertainment",
          "Restaurant",
          "Health",
          "Grocery",
          "Restaurant",
          "Household",
          "Grocery",
          "Health",
          "Travel",
          "Shopping",
          "Health",
          "Travel",
          "Grocery",
          "Shopping",
          "Shopping",
          "Travel",
          "Household",
          "Health",
          "Travel",
          "Health",
          "Shopping",
          "Shopping",
          "Travel",
          "Household",
          "Household",
          "Health",
          "Restaurant",
          "Household",
          "Entertainment",
          "Travel",
          "Household",
          "Shopping",
          "Entertainment",
          "Travel",
          "Health",
          "Shopping",
          "Entertainment",
          "Entertainment",
          "Shopping",
          "Restaurant",
          "Household",
          "Health",
          "Entertainment",
          "Grocery",
          "Shopping",
          "Health",
          "Household",
          "Shopping",
          "Health",
          "Shopping",
          "Grocery",
          "Household",
          "Household",
          "Travel",
          "Household",
          "Travel",
          "Travel",
          "Entertainment",
          "Shopping",
          "Shopping",
          "Shopping",
          "Travel",
          "Travel",
          "Health",
          "Travel",
          "Grocery",
          "Grocery",
          "Travel",
          "Travel",
          "Entertainment",
          "Restaurant",
          "Shopping",
          "Shopping",
          "Travel",
          "Health",
          "Health",
          "Shopping",
          "Health",
          "Shopping",
          "Shopping",
          "Health",
          "Household",
          "Household",
          "Shopping",
          "Restaurant",
          "Entertainment",
          "Travel",
          "Grocery",
          "Shopping",
          "Travel",
          "Grocery",
          "Travel",
          "Travel",
          "Health",
          "Household",
          "Restaurant",
          "Shopping",
          "Restaurant",
          "Travel",
          "Household",
          "Health",
          "Shopping",
          "Grocery",
          "Household",
          "Household",
          "Household",
          "Travel",
          "Shopping",
          "Restaurant",
          "Travel",
          "Travel",
          "Travel",
          "Travel",
          "Travel",
          "Restaurant",
          "Household",
          "Household",
          "Household",
          "Household",
          "Travel",
          "Household",
          "Grocery",
          "Shopping",
          "Travel",
          "Grocery",
          "Household",
          "Restaurant",
          "Travel",
          "Travel",
          "Grocery",
          "Household",
          "Restaurant",
          "Grocery",
          "Shopping",
          "Travel",
          "Household",
          "Travel",
          "Restaurant",
          "Shopping",
          "Household",
          "Shopping",
          "Entertainment",
          "Travel",
          "Travel",
          "Restaurant",
          "Entertainment",
          "Restaurant",
          "Household",
          "Travel",
          "Restaurant",
          "Shopping",
          "Travel",
          "Restaurant",
          "Restaurant",
          "Shopping",
          "Travel",
          "Shopping",
          "Grocery",
          "Restaurant",
          "Household",
          "Travel",
          "Grocery",
          "Entertainment",
          "Shopping",
          "Entertainment",
          "Shopping",
          "Restaurant",
          "Grocery",
          "Restaurant",
          "Household",
          "Entertainment",
          "Grocery",
          "Restaurant",
          "Travel"
         ],
         "x0": " ",
         "xaxis": "x",
         "y": {
          "bdata": "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",
          "dtype": "f8"
         },
         "y0": " ",
         "yaxis": "y"
        }
       ],
       "layout": {
        "boxmode": "group",
        "height": 500,
        "legend": {
         "tracegroupgap": 0
        },
        "template": {
         "data": {
          "bar": [
           {
            "error_x": {
             "color": "#2a3f5f"
            },
            "error_y": {
             "color": "#2a3f5f"
            },
            "marker": {
             "line": {
              "color": "#E5ECF6",
              "width": 0.5
             },
             "pattern": {
              "fillmode": "overlay",
              "size": 10,
              "solidity": 0.2
             }
            },
            "type": "bar"
           }
          ],
          "barpolar": [
           {
            "marker": {
             "line": {
              "color": "#E5ECF6",
              "width": 0.5
             },
             "pattern": {
              "fillmode": "overlay",
              "size": 10,
              "solidity": 0.2
             }
            },
            "type": "barpolar"
           }
          ],
          "carpet": [
           {
            "aaxis": {
             "endlinecolor": "#2a3f5f",
             "gridcolor": "white",
             "linecolor": "white",
             "minorgridcolor": "white",
             "startlinecolor": "#2a3f5f"
            },
            "baxis": {
             "endlinecolor": "#2a3f5f",
             "gridcolor": "white",
             "linecolor": "white",
             "minorgridcolor": "white",
             "startlinecolor": "#2a3f5f"
            },
            "type": "carpet"
           }
          ],
          "choropleth": [
           {
            "colorbar": {
             "outlinewidth": 0,
             "ticks": ""
            },
            "type": "choropleth"
           }
          ],
          "contour": [
           {
            "colorbar": {
             "outlinewidth": 0,
             "ticks": ""
            },
            "colorscale": [
             [
              0,
              "#0d0887"
             ],
             [
              0.1111111111111111,
              "#46039f"
             ],
             [
              0.2222222222222222,
              "#7201a8"
             ],
             [
              0.3333333333333333,
              "#9c179e"
             ],
             [
              0.4444444444444444,
              "#bd3786"
             ],
             [
              0.5555555555555556,
              "#d8576b"
             ],
             [
              0.6666666666666666,
              "#ed7953"
             ],
             [
              0.7777777777777778,
              "#fb9f3a"
             ],
             [
              0.8888888888888888,
              "#fdca26"
             ],
             [
              1,
              "#f0f921"
             ]
            ],
            "type": "contour"
           }
          ],
          "contourcarpet": [
           {
            "colorbar": {
             "outlinewidth": 0,
             "ticks": ""
            },
            "type": "contourcarpet"
           }
          ],
          "heatmap": [
           {
            "colorbar": {
             "outlinewidth": 0,
             "ticks": ""
            },
            "colorscale": [
             [
              0,
              "#0d0887"
             ],
             [
              0.1111111111111111,
              "#46039f"
             ],
             [
              0.2222222222222222,
              "#7201a8"
             ],
             [
              0.3333333333333333,
              "#9c179e"
             ],
             [
              0.4444444444444444,
              "#bd3786"
             ],
             [
              0.5555555555555556,
              "#d8576b"
             ],
             [
              0.6666666666666666,
              "#ed7953"
             ],
             [
              0.7777777777777778,
              "#fb9f3a"
             ],
             [
              0.8888888888888888,
              "#fdca26"
             ],
             [
              1,
              "#f0f921"
             ]
            ],
            "type": "heatmap"
           }
          ],
          "histogram": [
           {
            "marker": {
             "pattern": {
              "fillmode": "overlay",
              "size": 10,
              "solidity": 0.2
             }
            },
            "type": "histogram"
           }
          ],
          "histogram2d": [
           {
            "colorbar": {
             "outlinewidth": 0,
             "ticks": ""
            },
            "colorscale": [
             [
              0,
              "#0d0887"
             ],
             [
              0.1111111111111111,
              "#46039f"
             ],
             [
              0.2222222222222222,
              "#7201a8"
             ],
             [
              0.3333333333333333,
              "#9c179e"
             ],
             [
              0.4444444444444444,
              "#bd3786"
             ],
             [
              0.5555555555555556,
              "#d8576b"
             ],
             [
              0.6666666666666666,
              "#ed7953"
             ],
             [
              0.7777777777777778,
              "#fb9f3a"
             ],
             [
              0.8888888888888888,
              "#fdca26"
             ],
             [
              1,
              "#f0f921"
             ]
            ],
            "type": "histogram2d"
           }
          ],
          "histogram2dcontour": [
           {
            "colorbar": {
             "outlinewidth": 0,
             "ticks": ""
            },
            "colorscale": [
             [
              0,
              "#0d0887"
             ],
             [
              0.1111111111111111,
              "#46039f"
             ],
             [
              0.2222222222222222,
              "#7201a8"
             ],
             [
              0.3333333333333333,
              "#9c179e"
             ],
             [
              0.4444444444444444,
              "#bd3786"
             ],
             [
              0.5555555555555556,
              "#d8576b"
             ],
             [
              0.6666666666666666,
              "#ed7953"
             ],
             [
              0.7777777777777778,
              "#fb9f3a"
             ],
             [
              0.8888888888888888,
              "#fdca26"
             ],
             [
              1,
              "#f0f921"
             ]
            ],
            "type": "histogram2dcontour"
           }
          ],
          "mesh3d": [
           {
            "colorbar": {
             "outlinewidth": 0,
             "ticks": ""
            },
            "type": "mesh3d"
           }
          ],
          "parcoords": [
           {
            "line": {
             "colorbar": {
              "outlinewidth": 0,
              "ticks": ""
             }
            },
            "type": "parcoords"
           }
          ],
          "pie": [
           {
            "automargin": true,
            "type": "pie"
           }
          ],
          "scatter": [
           {
            "fillpattern": {
             "fillmode": "overlay",
             "size": 10,
             "solidity": 0.2
            },
            "type": "scatter"
           }
          ],
          "scatter3d": [
           {
            "line": {
             "colorbar": {
              "outlinewidth": 0,
              "ticks": ""
             }
            },
            "marker": {
             "colorbar": {
              "outlinewidth": 0,
              "ticks": ""
             }
            },
            "type": "scatter3d"
           }
          ],
          "scattercarpet": [
           {
            "marker": {
             "colorbar": {
              "outlinewidth": 0,
              "ticks": ""
             }
            },
            "type": "scattercarpet"
           }
          ],
          "scattergeo": [
           {
            "marker": {
             "colorbar": {
              "outlinewidth": 0,
              "ticks": ""
             }
            },
            "type": "scattergeo"
           }
          ],
          "scattergl": [
           {
            "marker": {
             "colorbar": {
              "outlinewidth": 0,
              "ticks": ""
             }
            },
            "type": "scattergl"
           }
          ],
          "scattermap": [
           {
            "marker": {
             "colorbar": {
              "outlinewidth": 0,
              "ticks": ""
             }
            },
            "type": "scattermap"
           }
          ],
          "scattermapbox": [
           {
            "marker": {
             "colorbar": {
              "outlinewidth": 0,
              "ticks": ""
             }
            },
            "type": "scattermapbox"
           }
          ],
          "scatterpolar": [
           {
            "marker": {
             "colorbar": {
              "outlinewidth": 0,
              "ticks": ""
             }
            },
            "type": "scatterpolar"
           }
          ],
          "scatterpolargl": [
           {
            "marker": {
             "colorbar": {
              "outlinewidth": 0,
              "ticks": ""
             }
            },
            "type": "scatterpolargl"
           }
          ],
          "scatterternary": [
           {
            "marker": {
             "colorbar": {
              "outlinewidth": 0,
              "ticks": ""
             }
            },
            "type": "scatterternary"
           }
          ],
          "surface": [
           {
            "colorbar": {
             "outlinewidth": 0,
             "ticks": ""
            },
            "colorscale": [
             [
              0,
              "#0d0887"
             ],
             [
              0.1111111111111111,
              "#46039f"
             ],
             [
              0.2222222222222222,
              "#7201a8"
             ],
             [
              0.3333333333333333,
              "#9c179e"
             ],
             [
              0.4444444444444444,
              "#bd3786"
             ],
             [
              0.5555555555555556,
              "#d8576b"
             ],
             [
              0.6666666666666666,
              "#ed7953"
             ],
             [
              0.7777777777777778,
              "#fb9f3a"
             ],
             [
              0.8888888888888888,
              "#fdca26"
             ],
             [
              1,
              "#f0f921"
             ]
            ],
            "type": "surface"
           }
          ],
          "table": [
           {
            "cells": {
             "fill": {
              "color": "#EBF0F8"
             },
             "line": {
              "color": "white"
             }
            },
            "header": {
             "fill": {
              "color": "#C8D4E3"
             },
             "line": {
              "color": "white"
             }
            },
            "type": "table"
           }
          ]
         },
         "layout": {
          "annotationdefaults": {
           "arrowcolor": "#2a3f5f",
           "arrowhead": 0,
           "arrowwidth": 1
          },
          "autotypenumbers": "strict",
          "coloraxis": {
           "colorbar": {
            "outlinewidth": 0,
            "ticks": ""
           }
          },
          "colorscale": {
           "diverging": [
            [
             0,
             "#8e0152"
            ],
            [
             0.1,
             "#c51b7d"
            ],
            [
             0.2,
             "#de77ae"
            ],
            [
             0.3,
             "#f1b6da"
            ],
            [
             0.4,
             "#fde0ef"
            ],
            [
             0.5,
             "#f7f7f7"
            ],
            [
             0.6,
             "#e6f5d0"
            ],
            [
             0.7,
             "#b8e186"
            ],
            [
             0.8,
             "#7fbc41"
            ],
            [
             0.9,
             "#4d9221"
            ],
            [
             1,
             "#276419"
            ]
           ],
           "sequential": [
            [
             0,
             "#0d0887"
            ],
            [
             0.1111111111111111,
             "#46039f"
            ],
            [
             0.2222222222222222,
             "#7201a8"
            ],
            [
             0.3333333333333333,
             "#9c179e"
            ],
            [
             0.4444444444444444,
             "#bd3786"
            ],
            [
             0.5555555555555556,
             "#d8576b"
            ],
            [
             0.6666666666666666,
             "#ed7953"
            ],
            [
             0.7777777777777778,
             "#fb9f3a"
            ],
            [
             0.8888888888888888,
             "#fdca26"
            ],
            [
             1,
             "#f0f921"
            ]
           ],
           "sequentialminus": [
            [
             0,
             "#0d0887"
            ],
            [
             0.1111111111111111,
             "#46039f"
            ],
            [
             0.2222222222222222,
             "#7201a8"
            ],
            [
             0.3333333333333333,
             "#9c179e"
            ],
            [
             0.4444444444444444,
             "#bd3786"
            ],
            [
             0.5555555555555556,
             "#d8576b"
            ],
            [
             0.6666666666666666,
             "#ed7953"
            ],
            [
             0.7777777777777778,
             "#fb9f3a"
            ],
            [
             0.8888888888888888,
             "#fdca26"
            ],
            [
             1,
             "#f0f921"
            ]
           ]
          },
          "colorway": [
           "#636efa",
           "#EF553B",
           "#00cc96",
           "#ab63fa",
           "#FFA15A",
           "#19d3f3",
           "#FF6692",
           "#B6E880",
           "#FF97FF",
           "#FECB52"
          ],
          "font": {
           "color": "#2a3f5f"
          },
          "geo": {
           "bgcolor": "white",
           "lakecolor": "white",
           "landcolor": "#E5ECF6",
           "showlakes": true,
           "showland": true,
           "subunitcolor": "white"
          },
          "hoverlabel": {
           "align": "left"
          },
          "hovermode": "closest",
          "mapbox": {
           "style": "light"
          },
          "paper_bgcolor": "white",
          "plot_bgcolor": "#E5ECF6",
          "polar": {
           "angularaxis": {
            "gridcolor": "white",
            "linecolor": "white",
            "ticks": ""
           },
           "bgcolor": "#E5ECF6",
           "radialaxis": {
            "gridcolor": "white",
            "linecolor": "white",
            "ticks": ""
           }
          },
          "scene": {
           "xaxis": {
            "backgroundcolor": "#E5ECF6",
            "gridcolor": "white",
            "gridwidth": 2,
            "linecolor": "white",
            "showbackground": true,
            "ticks": "",
            "zerolinecolor": "white"
           },
           "yaxis": {
            "backgroundcolor": "#E5ECF6",
            "gridcolor": "white",
            "gridwidth": 2,
            "linecolor": "white",
            "showbackground": true,
            "ticks": "",
            "zerolinecolor": "white"
           },
           "zaxis": {
            "backgroundcolor": "#E5ECF6",
            "gridcolor": "white",
            "gridwidth": 2,
            "linecolor": "white",
            "showbackground": true,
            "ticks": "",
            "zerolinecolor": "white"
           }
          },
          "shapedefaults": {
           "line": {
            "color": "#2a3f5f"
           }
          },
          "ternary": {
           "aaxis": {
            "gridcolor": "white",
            "linecolor": "white",
            "ticks": ""
           },
           "baxis": {
            "gridcolor": "white",
            "linecolor": "white",
            "ticks": ""
           },
           "bgcolor": "#E5ECF6",
           "caxis": {
            "gridcolor": "white",
            "linecolor": "white",
            "ticks": ""
           }
          },
          "title": {
           "x": 0.05
          },
          "xaxis": {
           "automargin": true,
           "gridcolor": "white",
           "linecolor": "white",
           "ticks": "",
           "title": {
            "standoff": 15
           },
           "zerolinecolor": "white",
           "zerolinewidth": 2
          },
          "yaxis": {
           "automargin": true,
           "gridcolor": "white",
           "linecolor": "white",
           "ticks": "",
           "title": {
            "standoff": 15
           },
           "zerolinecolor": "white",
           "zerolinewidth": 2
          }
         }
        },
        "title": {
         "text": "Amount Distribution by Major Variable Category (Log Scale, Excl. Maid/Large Furniture/Vacation)"
        },
        "xaxis": {
         "anchor": "y",
         "domain": [
          0,
          1
         ],
         "tickangle": -45,
         "title": {
          "text": "Category"
         }
        },
        "yaxis": {
         "anchor": "x",
         "domain": [
          0,
          1
         ],
         "title": {
          "text": "Amount (INR)"
         },
         "type": "log"
        }
       }
      }
     },
     "metadata": {},
     "output_type": "display_data"
    },
    {
     "name": "stderr",
     "output_type": "stream",
     "text": [
      "INFO: Review box plot/stats: Do medians/ranges seem realistic for Bangalore daily/weekly expenses in these categories?\n"
     ]
    },
    {
     "name": "stdout",
     "output_type": "stream",
     "text": [
      "               count         mean          std     min        25%       50%  \\\n",
      "category                                                                      \n",
      "Entertainment   34.0  1858.921176  1037.274908  484.32  1039.2350  1554.955   \n",
      "Grocery         83.0  1317.318313  1086.638861  118.41   398.4200   903.230   \n",
      "Health          52.0  3298.279808  2711.537050  540.44  1153.2025  2264.335   \n",
      "Household      120.0  2051.820250  2157.755727   70.99   781.8050  1444.155   \n",
      "Restaurant      79.0   945.827595   831.638598   63.74   336.9350   573.160   \n",
      "Shopping       122.0  4939.460984  2925.484306  307.33  2913.7725  4402.180   \n",
      "Travel         153.0  4067.852810  5407.537065   53.94   439.1700  1878.090   \n",
      "\n",
      "                     75%       max  \n",
      "category                            \n",
      "Entertainment  2444.9575   4763.75  \n",
      "Grocery        2221.5200   4124.14  \n",
      "Health         4809.3100   9084.03  \n",
      "Household      2317.8000  11323.94  \n",
      "Restaurant     1542.0300   3476.31  \n",
      "Shopping       6655.8950  14021.59  \n",
      "Travel         4689.6200  26310.16  \n"
     ]
    }
   ],
   "source": [
    "if not df.empty and 'amount' in df.columns and 'category' in df.columns:\n",
    "    print(\"\\n--- Ad-hoc Amount Distributions (Box Plots) ---\")\n",
    "    major_variable_cats = ['Grocery', 'Restaurant', 'Shopping', 'Travel', 'Household', 'Health', 'Entertainment']\n",
    "    plot_df = df[df['category'].isin(major_variable_cats)].copy() # Make a copy\n",
    "    # Exclude known large fixed costs from Household/Travel for better visualization of variable costs\n",
    "    plot_df = plot_df[~((plot_df['category'] == 'Household') & (plot_df['sub_category'] == 'Maid'))]\n",
    "    # Exclude potential large vacation sums if they skew too much\n",
    "    # plot_df = plot_df[~((plot_df['category'] == 'Travel') & (plot_df['sub_category'] == 'Vacation') & (plot_df['amount'] > 15000))] \n",
    "    # Exclude large furniture costs\n",
    "    plot_df = plot_df[~((plot_df['category'] == 'Household') & (plot_df['sub_category'] == 'Furniture') & (plot_df['amount'] > 10000))]\n",
    "\n",
    "    if not plot_df.empty:\n",
    "        fig_box_cat = px.box(plot_df, x='category', y='amount', points=\"outliers\",\n",
    "                             title='Amount Distribution by Major Variable Category (Log Scale, Excl. Maid/Large Furniture/Vacation)',\n",
    "                             labels={'category': 'Category', 'amount': 'Amount (INR)'},\n",
    "                             log_y=True, height=500)\n",
    "        fig_box_cat.update_layout(xaxis_tickangle=-45)\n",
    "        fig_box_cat.show() # Display inline\n",
    "        # try: fig_box_cat.write_image(IMG_DIR / \"category_amount_boxplot.png\") # Commented out\n",
    "        # except Exception as e: logging.error(f\"Failed to save category box plot: {e}\")\n",
    "\n",
    "        # Discrepancy Check:\n",
    "        print(plot_df.groupby('category')['amount'].describe())\n",
    "        logging.info(\"Review box plot/stats: Do medians/ranges seem realistic for Bangalore daily/weekly expenses in these categories?\")\n",
    "    else:\n",
    "        logging.info(\"No data for major variable categories found after filtering fixed/large items.\")\n",
    "else:\n",
    "    print(\"Skipping amount distribution analysis (missing columns).\")"
   ]
  },
  {
   "cell_type": "markdown",
   "id": "f9944b89",
   "metadata": {},
   "source": [
    "## 11. Ad-hoc Amount Distribution: Grocery Sub-Categories (Box Plot)\n",
    "\n",
    "Compare spending ranges for different grocery platforms/stores."
   ]
  },
  {
   "cell_type": "code",
   "execution_count": 30,
   "id": "0a574c09",
   "metadata": {},
   "outputs": [
    {
     "name": "stdout",
     "output_type": "stream",
     "text": [
      "\n",
      "--- Grocery Sub-Category Amount Distributions ---\n"
     ]
    },
    {
     "data": {
      "application/vnd.plotly.v1+json": {
       "config": {
        "plotlyServerURL": "https://plot.ly"
       },
       "data": [
        {
         "alignmentgroup": "True",
         "boxpoints": "outliers",
         "hovertemplate": "Store/Platform=%{x}<br>Amount (INR)=%{y}<extra></extra>",
         "legendgroup": "",
         "marker": {
          "color": "#636efa"
         },
         "name": "",
         "notched": false,
         "offsetgroup": "",
         "orientation": "v",
         "showlegend": false,
         "type": "box",
         "x": [
          "Flipkart Grocery",
          "Local Store",
          "Amazon",
          "BigBasket",
          "Zepto",
          "Local Store",
          "Flipkart Grocery",
          "Flipkart Grocery",
          "Local Store",
          "Amazon",
          "BigBasket",
          "Amazon",
          "BigBasket",
          "Zepto",
          "Amazon",
          "Flipkart Grocery",
          "Local Store",
          "Flipkart Grocery",
          "Amazon",
          "Local Store",
          "Zepto",
          "Amazon",
          "Zepto",
          "Amazon",
          "Amazon",
          "Amazon",
          "Flipkart Grocery",
          "Zepto",
          "BigBasket",
          "Flipkart Grocery",
          "BigBasket",
          "Local Store",
          "BigBasket",
          "Zepto",
          "Zepto",
          "Flipkart Grocery",
          "Local Store",
          "BigBasket",
          "BigBasket",
          "Local Store",
          "Amazon",
          "Local Store",
          "Flipkart Grocery",
          "Zepto",
          "Flipkart Grocery",
          "Flipkart Grocery",
          "Amazon",
          "BigBasket",
          "Local Store",
          "Zepto",
          "BigBasket",
          "Zepto",
          "Zepto",
          "Amazon",
          "Zepto",
          "Zepto",
          "Local Store",
          "Zepto",
          "Zepto",
          "Zepto",
          "BigBasket",
          "Zepto",
          "Local Store",
          "Amazon",
          "Amazon"
         ],
         "x0": " ",
         "xaxis": "x",
         "y": {
          "bdata": "MzMzMzPSpkApXI/C9VabQPYoXI9CCK9APQrXo3A3h0BI4XoUrndsQOF6FK5HR5VAuB6F69EypUBcj8L1KNSEQNejcD0Kj45A7FG4HoVmp0AUrkfheiilQHE9CtejDaNAuB6F61G4lEDhehSuRwqTQBSuR+F6PKFAMzMzMzPffEBxPQrXoxh+QIXrUbie8qRApHA9Ctc5jECuR+F6FKqGQOxRuB6Fa5FAZmZmZuZYq0ApXI/C9TmSQOxRuB4FXKBAZmZmZma5nUAUrkfhev6uQFK4HoXrOKJApHA9CteTdkCamZmZmTucQFyPwvUogaVAcT0K1yMcsEDhehSuRzl5QNejcD0KH6dAmpmZmZmSkEAfhetRuOZvQI/C9Sjcd6VA16NwPQoPcEBSuB6FazCjQJqZmZmZfJ9AhetRuB4ZkEBxPQrXo5iCQArXo3A98olAmpmZmZn/lkBmZmZmZu5zQOF6FK5HKqJAAAAAAACIk0BxPQrXow+jQJqZmZmZeaFAUrgehesxdEBcj8L1KJR4QOxRuB4FYKNApHA9CtfLhUAK16NwPdpnQHE9CtcjEqRAj8L1KFythEBmZmZmZryCQFK4HoXraYNAexSuR+HKa0CkcD0K10+VQEjhehSut5NAexSuR+HDq0A9CtejcBV0QOF6FK5HEWJAzczMzMzsmkAAAAAAAMOaQA==",
          "dtype": "f8"
         },
         "y0": " ",
         "yaxis": "y"
        }
       ],
       "layout": {
        "boxmode": "group",
        "height": 500,
        "legend": {
         "tracegroupgap": 0
        },
        "template": {
         "data": {
          "bar": [
           {
            "error_x": {
             "color": "#2a3f5f"
            },
            "error_y": {
             "color": "#2a3f5f"
            },
            "marker": {
             "line": {
              "color": "#E5ECF6",
              "width": 0.5
             },
             "pattern": {
              "fillmode": "overlay",
              "size": 10,
              "solidity": 0.2
             }
            },
            "type": "bar"
           }
          ],
          "barpolar": [
           {
            "marker": {
             "line": {
              "color": "#E5ECF6",
              "width": 0.5
             },
             "pattern": {
              "fillmode": "overlay",
              "size": 10,
              "solidity": 0.2
             }
            },
            "type": "barpolar"
           }
          ],
          "carpet": [
           {
            "aaxis": {
             "endlinecolor": "#2a3f5f",
             "gridcolor": "white",
             "linecolor": "white",
             "minorgridcolor": "white",
             "startlinecolor": "#2a3f5f"
            },
            "baxis": {
             "endlinecolor": "#2a3f5f",
             "gridcolor": "white",
             "linecolor": "white",
             "minorgridcolor": "white",
             "startlinecolor": "#2a3f5f"
            },
            "type": "carpet"
           }
          ],
          "choropleth": [
           {
            "colorbar": {
             "outlinewidth": 0,
             "ticks": ""
            },
            "type": "choropleth"
           }
          ],
          "contour": [
           {
            "colorbar": {
             "outlinewidth": 0,
             "ticks": ""
            },
            "colorscale": [
             [
              0,
              "#0d0887"
             ],
             [
              0.1111111111111111,
              "#46039f"
             ],
             [
              0.2222222222222222,
              "#7201a8"
             ],
             [
              0.3333333333333333,
              "#9c179e"
             ],
             [
              0.4444444444444444,
              "#bd3786"
             ],
             [
              0.5555555555555556,
              "#d8576b"
             ],
             [
              0.6666666666666666,
              "#ed7953"
             ],
             [
              0.7777777777777778,
              "#fb9f3a"
             ],
             [
              0.8888888888888888,
              "#fdca26"
             ],
             [
              1,
              "#f0f921"
             ]
            ],
            "type": "contour"
           }
          ],
          "contourcarpet": [
           {
            "colorbar": {
             "outlinewidth": 0,
             "ticks": ""
            },
            "type": "contourcarpet"
           }
          ],
          "heatmap": [
           {
            "colorbar": {
             "outlinewidth": 0,
             "ticks": ""
            },
            "colorscale": [
             [
              0,
              "#0d0887"
             ],
             [
              0.1111111111111111,
              "#46039f"
             ],
             [
              0.2222222222222222,
              "#7201a8"
             ],
             [
              0.3333333333333333,
              "#9c179e"
             ],
             [
              0.4444444444444444,
              "#bd3786"
             ],
             [
              0.5555555555555556,
              "#d8576b"
             ],
             [
              0.6666666666666666,
              "#ed7953"
             ],
             [
              0.7777777777777778,
              "#fb9f3a"
             ],
             [
              0.8888888888888888,
              "#fdca26"
             ],
             [
              1,
              "#f0f921"
             ]
            ],
            "type": "heatmap"
           }
          ],
          "histogram": [
           {
            "marker": {
             "pattern": {
              "fillmode": "overlay",
              "size": 10,
              "solidity": 0.2
             }
            },
            "type": "histogram"
           }
          ],
          "histogram2d": [
           {
            "colorbar": {
             "outlinewidth": 0,
             "ticks": ""
            },
            "colorscale": [
             [
              0,
              "#0d0887"
             ],
             [
              0.1111111111111111,
              "#46039f"
             ],
             [
              0.2222222222222222,
              "#7201a8"
             ],
             [
              0.3333333333333333,
              "#9c179e"
             ],
             [
              0.4444444444444444,
              "#bd3786"
             ],
             [
              0.5555555555555556,
              "#d8576b"
             ],
             [
              0.6666666666666666,
              "#ed7953"
             ],
             [
              0.7777777777777778,
              "#fb9f3a"
             ],
             [
              0.8888888888888888,
              "#fdca26"
             ],
             [
              1,
              "#f0f921"
             ]
            ],
            "type": "histogram2d"
           }
          ],
          "histogram2dcontour": [
           {
            "colorbar": {
             "outlinewidth": 0,
             "ticks": ""
            },
            "colorscale": [
             [
              0,
              "#0d0887"
             ],
             [
              0.1111111111111111,
              "#46039f"
             ],
             [
              0.2222222222222222,
              "#7201a8"
             ],
             [
              0.3333333333333333,
              "#9c179e"
             ],
             [
              0.4444444444444444,
              "#bd3786"
             ],
             [
              0.5555555555555556,
              "#d8576b"
             ],
             [
              0.6666666666666666,
              "#ed7953"
             ],
             [
              0.7777777777777778,
              "#fb9f3a"
             ],
             [
              0.8888888888888888,
              "#fdca26"
             ],
             [
              1,
              "#f0f921"
             ]
            ],
            "type": "histogram2dcontour"
           }
          ],
          "mesh3d": [
           {
            "colorbar": {
             "outlinewidth": 0,
             "ticks": ""
            },
            "type": "mesh3d"
           }
          ],
          "parcoords": [
           {
            "line": {
             "colorbar": {
              "outlinewidth": 0,
              "ticks": ""
             }
            },
            "type": "parcoords"
           }
          ],
          "pie": [
           {
            "automargin": true,
            "type": "pie"
           }
          ],
          "scatter": [
           {
            "fillpattern": {
             "fillmode": "overlay",
             "size": 10,
             "solidity": 0.2
            },
            "type": "scatter"
           }
          ],
          "scatter3d": [
           {
            "line": {
             "colorbar": {
              "outlinewidth": 0,
              "ticks": ""
             }
            },
            "marker": {
             "colorbar": {
              "outlinewidth": 0,
              "ticks": ""
             }
            },
            "type": "scatter3d"
           }
          ],
          "scattercarpet": [
           {
            "marker": {
             "colorbar": {
              "outlinewidth": 0,
              "ticks": ""
             }
            },
            "type": "scattercarpet"
           }
          ],
          "scattergeo": [
           {
            "marker": {
             "colorbar": {
              "outlinewidth": 0,
              "ticks": ""
             }
            },
            "type": "scattergeo"
           }
          ],
          "scattergl": [
           {
            "marker": {
             "colorbar": {
              "outlinewidth": 0,
              "ticks": ""
             }
            },
            "type": "scattergl"
           }
          ],
          "scattermap": [
           {
            "marker": {
             "colorbar": {
              "outlinewidth": 0,
              "ticks": ""
             }
            },
            "type": "scattermap"
           }
          ],
          "scattermapbox": [
           {
            "marker": {
             "colorbar": {
              "outlinewidth": 0,
              "ticks": ""
             }
            },
            "type": "scattermapbox"
           }
          ],
          "scatterpolar": [
           {
            "marker": {
             "colorbar": {
              "outlinewidth": 0,
              "ticks": ""
             }
            },
            "type": "scatterpolar"
           }
          ],
          "scatterpolargl": [
           {
            "marker": {
             "colorbar": {
              "outlinewidth": 0,
              "ticks": ""
             }
            },
            "type": "scatterpolargl"
           }
          ],
          "scatterternary": [
           {
            "marker": {
             "colorbar": {
              "outlinewidth": 0,
              "ticks": ""
             }
            },
            "type": "scatterternary"
           }
          ],
          "surface": [
           {
            "colorbar": {
             "outlinewidth": 0,
             "ticks": ""
            },
            "colorscale": [
             [
              0,
              "#0d0887"
             ],
             [
              0.1111111111111111,
              "#46039f"
             ],
             [
              0.2222222222222222,
              "#7201a8"
             ],
             [
              0.3333333333333333,
              "#9c179e"
             ],
             [
              0.4444444444444444,
              "#bd3786"
             ],
             [
              0.5555555555555556,
              "#d8576b"
             ],
             [
              0.6666666666666666,
              "#ed7953"
             ],
             [
              0.7777777777777778,
              "#fb9f3a"
             ],
             [
              0.8888888888888888,
              "#fdca26"
             ],
             [
              1,
              "#f0f921"
             ]
            ],
            "type": "surface"
           }
          ],
          "table": [
           {
            "cells": {
             "fill": {
              "color": "#EBF0F8"
             },
             "line": {
              "color": "white"
             }
            },
            "header": {
             "fill": {
              "color": "#C8D4E3"
             },
             "line": {
              "color": "white"
             }
            },
            "type": "table"
           }
          ]
         },
         "layout": {
          "annotationdefaults": {
           "arrowcolor": "#2a3f5f",
           "arrowhead": 0,
           "arrowwidth": 1
          },
          "autotypenumbers": "strict",
          "coloraxis": {
           "colorbar": {
            "outlinewidth": 0,
            "ticks": ""
           }
          },
          "colorscale": {
           "diverging": [
            [
             0,
             "#8e0152"
            ],
            [
             0.1,
             "#c51b7d"
            ],
            [
             0.2,
             "#de77ae"
            ],
            [
             0.3,
             "#f1b6da"
            ],
            [
             0.4,
             "#fde0ef"
            ],
            [
             0.5,
             "#f7f7f7"
            ],
            [
             0.6,
             "#e6f5d0"
            ],
            [
             0.7,
             "#b8e186"
            ],
            [
             0.8,
             "#7fbc41"
            ],
            [
             0.9,
             "#4d9221"
            ],
            [
             1,
             "#276419"
            ]
           ],
           "sequential": [
            [
             0,
             "#0d0887"
            ],
            [
             0.1111111111111111,
             "#46039f"
            ],
            [
             0.2222222222222222,
             "#7201a8"
            ],
            [
             0.3333333333333333,
             "#9c179e"
            ],
            [
             0.4444444444444444,
             "#bd3786"
            ],
            [
             0.5555555555555556,
             "#d8576b"
            ],
            [
             0.6666666666666666,
             "#ed7953"
            ],
            [
             0.7777777777777778,
             "#fb9f3a"
            ],
            [
             0.8888888888888888,
             "#fdca26"
            ],
            [
             1,
             "#f0f921"
            ]
           ],
           "sequentialminus": [
            [
             0,
             "#0d0887"
            ],
            [
             0.1111111111111111,
             "#46039f"
            ],
            [
             0.2222222222222222,
             "#7201a8"
            ],
            [
             0.3333333333333333,
             "#9c179e"
            ],
            [
             0.4444444444444444,
             "#bd3786"
            ],
            [
             0.5555555555555556,
             "#d8576b"
            ],
            [
             0.6666666666666666,
             "#ed7953"
            ],
            [
             0.7777777777777778,
             "#fb9f3a"
            ],
            [
             0.8888888888888888,
             "#fdca26"
            ],
            [
             1,
             "#f0f921"
            ]
           ]
          },
          "colorway": [
           "#636efa",
           "#EF553B",
           "#00cc96",
           "#ab63fa",
           "#FFA15A",
           "#19d3f3",
           "#FF6692",
           "#B6E880",
           "#FF97FF",
           "#FECB52"
          ],
          "font": {
           "color": "#2a3f5f"
          },
          "geo": {
           "bgcolor": "white",
           "lakecolor": "white",
           "landcolor": "#E5ECF6",
           "showlakes": true,
           "showland": true,
           "subunitcolor": "white"
          },
          "hoverlabel": {
           "align": "left"
          },
          "hovermode": "closest",
          "mapbox": {
           "style": "light"
          },
          "paper_bgcolor": "white",
          "plot_bgcolor": "#E5ECF6",
          "polar": {
           "angularaxis": {
            "gridcolor": "white",
            "linecolor": "white",
            "ticks": ""
           },
           "bgcolor": "#E5ECF6",
           "radialaxis": {
            "gridcolor": "white",
            "linecolor": "white",
            "ticks": ""
           }
          },
          "scene": {
           "xaxis": {
            "backgroundcolor": "#E5ECF6",
            "gridcolor": "white",
            "gridwidth": 2,
            "linecolor": "white",
            "showbackground": true,
            "ticks": "",
            "zerolinecolor": "white"
           },
           "yaxis": {
            "backgroundcolor": "#E5ECF6",
            "gridcolor": "white",
            "gridwidth": 2,
            "linecolor": "white",
            "showbackground": true,
            "ticks": "",
            "zerolinecolor": "white"
           },
           "zaxis": {
            "backgroundcolor": "#E5ECF6",
            "gridcolor": "white",
            "gridwidth": 2,
            "linecolor": "white",
            "showbackground": true,
            "ticks": "",
            "zerolinecolor": "white"
           }
          },
          "shapedefaults": {
           "line": {
            "color": "#2a3f5f"
           }
          },
          "ternary": {
           "aaxis": {
            "gridcolor": "white",
            "linecolor": "white",
            "ticks": ""
           },
           "baxis": {
            "gridcolor": "white",
            "linecolor": "white",
            "ticks": ""
           },
           "bgcolor": "#E5ECF6",
           "caxis": {
            "gridcolor": "white",
            "linecolor": "white",
            "ticks": ""
           }
          },
          "title": {
           "x": 0.05
          },
          "xaxis": {
           "automargin": true,
           "gridcolor": "white",
           "linecolor": "white",
           "ticks": "",
           "title": {
            "standoff": 15
           },
           "zerolinecolor": "white",
           "zerolinewidth": 2
          },
          "yaxis": {
           "automargin": true,
           "gridcolor": "white",
           "linecolor": "white",
           "ticks": "",
           "title": {
            "standoff": 15
           },
           "zerolinecolor": "white",
           "zerolinewidth": 2
          }
         }
        },
        "title": {
         "text": "Grocery Amount Distribution by Store/Platform (Log Scale)"
        },
        "xaxis": {
         "anchor": "y",
         "categoryarray": [
          "BigBasket",
          "Zepto",
          "Local Store",
          "Amazon",
          "Flipkart Grocery"
         ],
         "categoryorder": "array",
         "domain": [
          0,
          1
         ],
         "title": {
          "text": "Store/Platform"
         }
        },
        "yaxis": {
         "anchor": "x",
         "domain": [
          0,
          1
         ],
         "title": {
          "text": "Amount (INR)"
         },
         "type": "log"
        }
       }
      }
     },
     "metadata": {},
     "output_type": "display_data"
    },
    {
     "name": "stderr",
     "output_type": "stream",
     "text": [
      "INFO: Check if distributions align with expectations (e.g., BigBasket/Amazon generally higher median/IQR than Zepto/Local Store).\n"
     ]
    },
    {
     "name": "stdout",
     "output_type": "stream",
     "text": [
      "                  count         mean          std     min        25%      50%  \\\n",
      "sub_category                                                                    \n",
      "Amazon             14.0  2358.546429  1011.778104  595.08  1767.9875  2322.53   \n",
      "BigBasket          11.0  2400.901818   956.428750  742.93  1911.0250  2456.21   \n",
      "Flipkart Grocery   11.0  2029.481818   902.174004  461.95  1360.9500  2332.46   \n",
      "Local Store        12.0   742.185000   477.796766  144.54   383.4650   673.25   \n",
      "Zepto              17.0   672.707059   429.387667  190.82   318.9000   599.55   \n",
      "\n",
      "                        75%      max  \n",
      "sub_category                          \n",
      "Amazon            2888.7125  3972.13  \n",
      "BigBasket         2833.8800  4124.14  \n",
      "Flipkart Grocery  2730.6700  2921.10  \n",
      "Local Store        990.9800  1749.74  \n",
      "Zepto             1114.8800  1363.96  \n"
     ]
    }
   ],
   "source": [
    "if not df.empty and 'sub_category' in df.columns and 'category' in df.columns:\n",
    "    print(\"\\n--- Grocery Sub-Category Amount Distributions ---\")\n",
    "    grocery_subs = ['BigBasket', 'Zepto', 'Local Store', 'Amazon', 'Flipkart Grocery']\n",
    "    plot_df_grocery = df[(df['category'] == 'Grocery') & (df['sub_category'].isin(grocery_subs))]\n",
    "\n",
    "    if not plot_df_grocery.empty:\n",
    "        fig_box_grocery = px.box(plot_df_grocery, x='sub_category', y='amount', points=\"outliers\",\n",
    "                                 title='Grocery Amount Distribution by Store/Platform (Log Scale)',\n",
    "                                 labels={'sub_category': 'Store/Platform', 'amount': 'Amount (INR)'},\n",
    "                                 category_orders={\"sub_category\": grocery_subs}, # Control order\n",
    "                                 log_y=True, height=500)\n",
    "        fig_box_grocery.show() # Display inline\n",
    "        # try: fig_box_grocery.write_image(IMG_DIR / \"grocery_subcat_boxplot.png\") # Commented out\n",
    "        # except Exception as e: logging.error(f\"Failed to save grocery box plot: {e}\")\n",
    "\n",
    "        # Discrepancy Check\n",
    "        print(plot_df_grocery.groupby('sub_category')['amount'].describe())\n",
    "        logging.info(\"Check if distributions align with expectations (e.g., BigBasket/Amazon generally higher median/IQR than Zepto/Local Store).\")\n",
    "    else:\n",
    "        logging.info(\"No data found for specified Grocery sub-categories.\")\n",
    "else:\n",
    "    print(\"Skipping grocery sub-category analysis.\")"
   ]
  },
  {
   "cell_type": "markdown",
   "id": "57335010",
   "metadata": {},
   "source": [
    "## 12. Frequency Validation: Ad-hoc Monthly Counts\n",
    "\n",
    "Check adherence to `Max-times-per-month` for specific ad-hoc rules (Waste, Gifts, Entertainment)."
   ]
  },
  {
   "cell_type": "code",
   "execution_count": 31,
   "id": "e2a56823",
   "metadata": {},
   "outputs": [
    {
     "name": "stdout",
     "output_type": "stream",
     "text": [
      "\n",
      "--- Ad-hoc Monthly Frequency Validation (Waste/Gifts/Ent) ---\n"
     ]
    },
    {
     "name": "stderr",
     "output_type": "stream",
     "text": [
      "C:\\Users\\Teertha's PC\\AppData\\Local\\Temp\\ipykernel_11796\\1882847337.py:28: FutureWarning:\n",
      "\n",
      "A value is trying to be set on a copy of a DataFrame or Series through chained assignment using an inplace method.\n",
      "The behavior will change in pandas 3.0. This inplace method will never work because the intermediate object on which we are setting values always behaves as a copy.\n",
      "\n",
      "For example, when doing 'df[col].method(value, inplace=True)', try using 'df.method({col: value}, inplace=True)' or df[col] = df[col].method(value) instead, to perform the operation inplace on the original object.\n",
      "\n",
      "\n",
      "\n",
      "INFO: Loaded and preprocessed 177 rules from E:\\Code\\Projects\\App-PersonalFinance\\app-personal-finance\\sample_data_generation.csv\n",
      "INFO: Ad-hoc frequency constraints (Max-times-per-month) for Waste/Gifts/Entertainment appear satisfied.\n"
     ]
    }
   ],
   "source": [
    "if not df.empty and 'month' in df.columns:\n",
    "    print(\"\\n--- Ad-hoc Monthly Frequency Validation (Waste/Gifts/Ent) ---\")\n",
    "    df_rules_loaded = load_rules(RULES_FILE) # Use the function defined earlier\n",
    "\n",
    "    if df_rules_loaded is not None:\n",
    "        # Define the rules we want to check explicitly based on the constraints given\n",
    "        rules_to_check_criteria = (\n",
    "            (df_rules_loaded['Expense-Frequency'] == 'ad-hoc') &\n",
    "            (\n",
    "                (df_rules_loaded['Category'] == 'Waste') |\n",
    "                (df_rules_loaded['Category'] == 'Gifts & Donations') |\n",
    "                (df_rules_loaded['Category'] == 'Entertainment')\n",
    "            )\n",
    "        )\n",
    "        rules_to_check_df = df_rules_loaded[rules_to_check_criteria].copy()\n",
    "\n",
    "        if not rules_to_check_df.empty:\n",
    "            # Create a unique key combining relevant fields from BOTH data and rules\n",
    "            # Use lowercase for robust matching if casing differs slightly\n",
    "            df['rule_match_key'] = df.apply(lambda r: f\"{r['category'].lower()}|{r['sub_category'].lower()}|{r['user'].lower()}|{r['account'].lower()}\", axis=1)\n",
    "            rules_to_check_df['rule_match_key'] = rules_to_check_df.apply(lambda r: f\"{r['Category'].lower()}|{r['Sub-category'].lower()}|{r['User'].lower()}|{r['Account'].lower()}\", axis=1)\n",
    "\n",
    "            # Group transactions by month and rule_key to count actual occurrences\n",
    "            monthly_actual_counts = df[df['rule_match_key'].isin(rules_to_check_df['rule_match_key'])].groupby(['month', 'rule_match_key']).size().reset_index(name='actual_count')\n",
    "\n",
    "            # Merge actual counts with the limits from the rules file\n",
    "            merged_counts = pd.merge(\n",
    "                monthly_actual_counts,\n",
    "                rules_to_check_df[['rule_match_key', 'Max-times-per-month']],\n",
    "                on='rule_match_key',\n",
    "                how='left' # Keep all actual counts, match rules where possible\n",
    "            )\n",
    "            # Drop rows where the rule couldn't be matched (shouldn't happen if keys are correct)\n",
    "            merged_counts.dropna(subset=['Max-times-per-month'], inplace=True)\n",
    "            merged_counts['Max-times-per-month'] = merged_counts['Max-times-per-month'].astype(int) # Ensure integer comparison\n",
    "\n",
    "            # Find violations\n",
    "            merged_counts['exceeded'] = merged_counts['actual_count'] > merged_counts['Max-times-per-month']\n",
    "            exceeded_df = merged_counts[merged_counts['exceeded']]\n",
    "\n",
    "            if not exceeded_df.empty:\n",
    "                logging.error(\"Max-times-per-month constraint VIOLATED for some ad-hoc rules!\")\n",
    "                print(\"Violations Found (Rule Key | Month | Actual Count | Max Allowed):\")\n",
    "                # Improve display for readability\n",
    "                exceeded_df_display = exceeded_df[['rule_match_key', 'month', 'actual_count', 'Max-times-per-month']].copy()\n",
    "                exceeded_df_display['Rule_Info'] = exceeded_df_display['rule_match_key'].str.replace('|', ' | ', regex=False)\n",
    "                print(exceeded_df_display[['Rule_Info', 'month', 'actual_count', 'Max-times-per-month']].to_string(index=False))\n",
    "            else:\n",
    "                logging.info(\"Ad-hoc frequency constraints (Max-times-per-month) for Waste/Gifts/Entertainment appear satisfied.\")\n",
    "\n",
    "            # Clean up added column from main df\n",
    "            if 'rule_match_key' in df.columns: df.drop(columns=['rule_match_key'], inplace=True, errors='ignore')\n",
    "        else:\n",
    "            logging.info(\"No specific Waste/Gifts/Entertainment ad-hoc rules found in the rules file for frequency validation.\")\n",
    "    else:\n",
    "        logging.warning(\"Could not load rules file, skipping ad-hoc frequency validation.\")\n",
    "else:\n",
    "    print(\"Skipping ad-hoc frequency validation.\")"
   ]
  },
  {
   "cell_type": "markdown",
   "metadata": {},
   "source": [
    "## 13. Account Usage Bias Check\n",
    "\n",
    "Verify Puspita-Bandhan use for Travel/Beauty and Anirban-ICICI dominance."
   ]
  },
  {
   "cell_type": "code",
   "execution_count": 32,
   "metadata": {},
   "outputs": [
    {
     "name": "stdout",
     "output_type": "stream",
     "text": [
      "\n",
      "--- Account Usage Validation ---\n"
     ]
    },
    {
     "data": {
      "application/vnd.plotly.v1+json": {
       "config": {
        "plotlyServerURL": "https://plot.ly"
       },
       "data": [
        {
         "domain": {
          "x": [
           0,
           1
          ],
          "y": [
           0,
           1
          ]
         },
         "hole": 0.3,
         "hovertemplate": "<b>%{label}</b><br>Total: ₹%{value:,.0f}<br>(%{percent})<extra></extra>",
         "labels": [
          "Anirban-ICICI",
          "Anirban-SBI",
          "Puspita-Bandhan",
          "Puspita-SBI"
         ],
         "legendgroup": "",
         "name": "",
         "showlegend": true,
         "textinfo": "percent+label",
         "type": "pie",
         "values": {
          "bdata": "pHA9Ss15PEG4HoXrCpsjQetRuB6FtBFBSOF6FBZDL0E=",
          "dtype": "f8"
         }
        }
       ],
       "layout": {
        "legend": {
         "tracegroupgap": 0
        },
        "template": {
         "data": {
          "bar": [
           {
            "error_x": {
             "color": "#2a3f5f"
            },
            "error_y": {
             "color": "#2a3f5f"
            },
            "marker": {
             "line": {
              "color": "#E5ECF6",
              "width": 0.5
             },
             "pattern": {
              "fillmode": "overlay",
              "size": 10,
              "solidity": 0.2
             }
            },
            "type": "bar"
           }
          ],
          "barpolar": [
           {
            "marker": {
             "line": {
              "color": "#E5ECF6",
              "width": 0.5
             },
             "pattern": {
              "fillmode": "overlay",
              "size": 10,
              "solidity": 0.2
             }
            },
            "type": "barpolar"
           }
          ],
          "carpet": [
           {
            "aaxis": {
             "endlinecolor": "#2a3f5f",
             "gridcolor": "white",
             "linecolor": "white",
             "minorgridcolor": "white",
             "startlinecolor": "#2a3f5f"
            },
            "baxis": {
             "endlinecolor": "#2a3f5f",
             "gridcolor": "white",
             "linecolor": "white",
             "minorgridcolor": "white",
             "startlinecolor": "#2a3f5f"
            },
            "type": "carpet"
           }
          ],
          "choropleth": [
           {
            "colorbar": {
             "outlinewidth": 0,
             "ticks": ""
            },
            "type": "choropleth"
           }
          ],
          "contour": [
           {
            "colorbar": {
             "outlinewidth": 0,
             "ticks": ""
            },
            "colorscale": [
             [
              0,
              "#0d0887"
             ],
             [
              0.1111111111111111,
              "#46039f"
             ],
             [
              0.2222222222222222,
              "#7201a8"
             ],
             [
              0.3333333333333333,
              "#9c179e"
             ],
             [
              0.4444444444444444,
              "#bd3786"
             ],
             [
              0.5555555555555556,
              "#d8576b"
             ],
             [
              0.6666666666666666,
              "#ed7953"
             ],
             [
              0.7777777777777778,
              "#fb9f3a"
             ],
             [
              0.8888888888888888,
              "#fdca26"
             ],
             [
              1,
              "#f0f921"
             ]
            ],
            "type": "contour"
           }
          ],
          "contourcarpet": [
           {
            "colorbar": {
             "outlinewidth": 0,
             "ticks": ""
            },
            "type": "contourcarpet"
           }
          ],
          "heatmap": [
           {
            "colorbar": {
             "outlinewidth": 0,
             "ticks": ""
            },
            "colorscale": [
             [
              0,
              "#0d0887"
             ],
             [
              0.1111111111111111,
              "#46039f"
             ],
             [
              0.2222222222222222,
              "#7201a8"
             ],
             [
              0.3333333333333333,
              "#9c179e"
             ],
             [
              0.4444444444444444,
              "#bd3786"
             ],
             [
              0.5555555555555556,
              "#d8576b"
             ],
             [
              0.6666666666666666,
              "#ed7953"
             ],
             [
              0.7777777777777778,
              "#fb9f3a"
             ],
             [
              0.8888888888888888,
              "#fdca26"
             ],
             [
              1,
              "#f0f921"
             ]
            ],
            "type": "heatmap"
           }
          ],
          "histogram": [
           {
            "marker": {
             "pattern": {
              "fillmode": "overlay",
              "size": 10,
              "solidity": 0.2
             }
            },
            "type": "histogram"
           }
          ],
          "histogram2d": [
           {
            "colorbar": {
             "outlinewidth": 0,
             "ticks": ""
            },
            "colorscale": [
             [
              0,
              "#0d0887"
             ],
             [
              0.1111111111111111,
              "#46039f"
             ],
             [
              0.2222222222222222,
              "#7201a8"
             ],
             [
              0.3333333333333333,
              "#9c179e"
             ],
             [
              0.4444444444444444,
              "#bd3786"
             ],
             [
              0.5555555555555556,
              "#d8576b"
             ],
             [
              0.6666666666666666,
              "#ed7953"
             ],
             [
              0.7777777777777778,
              "#fb9f3a"
             ],
             [
              0.8888888888888888,
              "#fdca26"
             ],
             [
              1,
              "#f0f921"
             ]
            ],
            "type": "histogram2d"
           }
          ],
          "histogram2dcontour": [
           {
            "colorbar": {
             "outlinewidth": 0,
             "ticks": ""
            },
            "colorscale": [
             [
              0,
              "#0d0887"
             ],
             [
              0.1111111111111111,
              "#46039f"
             ],
             [
              0.2222222222222222,
              "#7201a8"
             ],
             [
              0.3333333333333333,
              "#9c179e"
             ],
             [
              0.4444444444444444,
              "#bd3786"
             ],
             [
              0.5555555555555556,
              "#d8576b"
             ],
             [
              0.6666666666666666,
              "#ed7953"
             ],
             [
              0.7777777777777778,
              "#fb9f3a"
             ],
             [
              0.8888888888888888,
              "#fdca26"
             ],
             [
              1,
              "#f0f921"
             ]
            ],
            "type": "histogram2dcontour"
           }
          ],
          "mesh3d": [
           {
            "colorbar": {
             "outlinewidth": 0,
             "ticks": ""
            },
            "type": "mesh3d"
           }
          ],
          "parcoords": [
           {
            "line": {
             "colorbar": {
              "outlinewidth": 0,
              "ticks": ""
             }
            },
            "type": "parcoords"
           }
          ],
          "pie": [
           {
            "automargin": true,
            "type": "pie"
           }
          ],
          "scatter": [
           {
            "fillpattern": {
             "fillmode": "overlay",
             "size": 10,
             "solidity": 0.2
            },
            "type": "scatter"
           }
          ],
          "scatter3d": [
           {
            "line": {
             "colorbar": {
              "outlinewidth": 0,
              "ticks": ""
             }
            },
            "marker": {
             "colorbar": {
              "outlinewidth": 0,
              "ticks": ""
             }
            },
            "type": "scatter3d"
           }
          ],
          "scattercarpet": [
           {
            "marker": {
             "colorbar": {
              "outlinewidth": 0,
              "ticks": ""
             }
            },
            "type": "scattercarpet"
           }
          ],
          "scattergeo": [
           {
            "marker": {
             "colorbar": {
              "outlinewidth": 0,
              "ticks": ""
             }
            },
            "type": "scattergeo"
           }
          ],
          "scattergl": [
           {
            "marker": {
             "colorbar": {
              "outlinewidth": 0,
              "ticks": ""
             }
            },
            "type": "scattergl"
           }
          ],
          "scattermap": [
           {
            "marker": {
             "colorbar": {
              "outlinewidth": 0,
              "ticks": ""
             }
            },
            "type": "scattermap"
           }
          ],
          "scattermapbox": [
           {
            "marker": {
             "colorbar": {
              "outlinewidth": 0,
              "ticks": ""
             }
            },
            "type": "scattermapbox"
           }
          ],
          "scatterpolar": [
           {
            "marker": {
             "colorbar": {
              "outlinewidth": 0,
              "ticks": ""
             }
            },
            "type": "scatterpolar"
           }
          ],
          "scatterpolargl": [
           {
            "marker": {
             "colorbar": {
              "outlinewidth": 0,
              "ticks": ""
             }
            },
            "type": "scatterpolargl"
           }
          ],
          "scatterternary": [
           {
            "marker": {
             "colorbar": {
              "outlinewidth": 0,
              "ticks": ""
             }
            },
            "type": "scatterternary"
           }
          ],
          "surface": [
           {
            "colorbar": {
             "outlinewidth": 0,
             "ticks": ""
            },
            "colorscale": [
             [
              0,
              "#0d0887"
             ],
             [
              0.1111111111111111,
              "#46039f"
             ],
             [
              0.2222222222222222,
              "#7201a8"
             ],
             [
              0.3333333333333333,
              "#9c179e"
             ],
             [
              0.4444444444444444,
              "#bd3786"
             ],
             [
              0.5555555555555556,
              "#d8576b"
             ],
             [
              0.6666666666666666,
              "#ed7953"
             ],
             [
              0.7777777777777778,
              "#fb9f3a"
             ],
             [
              0.8888888888888888,
              "#fdca26"
             ],
             [
              1,
              "#f0f921"
             ]
            ],
            "type": "surface"
           }
          ],
          "table": [
           {
            "cells": {
             "fill": {
              "color": "#EBF0F8"
             },
             "line": {
              "color": "white"
             }
            },
            "header": {
             "fill": {
              "color": "#C8D4E3"
             },
             "line": {
              "color": "white"
             }
            },
            "type": "table"
           }
          ]
         },
         "layout": {
          "annotationdefaults": {
           "arrowcolor": "#2a3f5f",
           "arrowhead": 0,
           "arrowwidth": 1
          },
          "autotypenumbers": "strict",
          "coloraxis": {
           "colorbar": {
            "outlinewidth": 0,
            "ticks": ""
           }
          },
          "colorscale": {
           "diverging": [
            [
             0,
             "#8e0152"
            ],
            [
             0.1,
             "#c51b7d"
            ],
            [
             0.2,
             "#de77ae"
            ],
            [
             0.3,
             "#f1b6da"
            ],
            [
             0.4,
             "#fde0ef"
            ],
            [
             0.5,
             "#f7f7f7"
            ],
            [
             0.6,
             "#e6f5d0"
            ],
            [
             0.7,
             "#b8e186"
            ],
            [
             0.8,
             "#7fbc41"
            ],
            [
             0.9,
             "#4d9221"
            ],
            [
             1,
             "#276419"
            ]
           ],
           "sequential": [
            [
             0,
             "#0d0887"
            ],
            [
             0.1111111111111111,
             "#46039f"
            ],
            [
             0.2222222222222222,
             "#7201a8"
            ],
            [
             0.3333333333333333,
             "#9c179e"
            ],
            [
             0.4444444444444444,
             "#bd3786"
            ],
            [
             0.5555555555555556,
             "#d8576b"
            ],
            [
             0.6666666666666666,
             "#ed7953"
            ],
            [
             0.7777777777777778,
             "#fb9f3a"
            ],
            [
             0.8888888888888888,
             "#fdca26"
            ],
            [
             1,
             "#f0f921"
            ]
           ],
           "sequentialminus": [
            [
             0,
             "#0d0887"
            ],
            [
             0.1111111111111111,
             "#46039f"
            ],
            [
             0.2222222222222222,
             "#7201a8"
            ],
            [
             0.3333333333333333,
             "#9c179e"
            ],
            [
             0.4444444444444444,
             "#bd3786"
            ],
            [
             0.5555555555555556,
             "#d8576b"
            ],
            [
             0.6666666666666666,
             "#ed7953"
            ],
            [
             0.7777777777777778,
             "#fb9f3a"
            ],
            [
             0.8888888888888888,
             "#fdca26"
            ],
            [
             1,
             "#f0f921"
            ]
           ]
          },
          "colorway": [
           "#636efa",
           "#EF553B",
           "#00cc96",
           "#ab63fa",
           "#FFA15A",
           "#19d3f3",
           "#FF6692",
           "#B6E880",
           "#FF97FF",
           "#FECB52"
          ],
          "font": {
           "color": "#2a3f5f"
          },
          "geo": {
           "bgcolor": "white",
           "lakecolor": "white",
           "landcolor": "#E5ECF6",
           "showlakes": true,
           "showland": true,
           "subunitcolor": "white"
          },
          "hoverlabel": {
           "align": "left"
          },
          "hovermode": "closest",
          "mapbox": {
           "style": "light"
          },
          "paper_bgcolor": "white",
          "plot_bgcolor": "#E5ECF6",
          "polar": {
           "angularaxis": {
            "gridcolor": "white",
            "linecolor": "white",
            "ticks": ""
           },
           "bgcolor": "#E5ECF6",
           "radialaxis": {
            "gridcolor": "white",
            "linecolor": "white",
            "ticks": ""
           }
          },
          "scene": {
           "xaxis": {
            "backgroundcolor": "#E5ECF6",
            "gridcolor": "white",
            "gridwidth": 2,
            "linecolor": "white",
            "showbackground": true,
            "ticks": "",
            "zerolinecolor": "white"
           },
           "yaxis": {
            "backgroundcolor": "#E5ECF6",
            "gridcolor": "white",
            "gridwidth": 2,
            "linecolor": "white",
            "showbackground": true,
            "ticks": "",
            "zerolinecolor": "white"
           },
           "zaxis": {
            "backgroundcolor": "#E5ECF6",
            "gridcolor": "white",
            "gridwidth": 2,
            "linecolor": "white",
            "showbackground": true,
            "ticks": "",
            "zerolinecolor": "white"
           }
          },
          "shapedefaults": {
           "line": {
            "color": "#2a3f5f"
           }
          },
          "ternary": {
           "aaxis": {
            "gridcolor": "white",
            "linecolor": "white",
            "ticks": ""
           },
           "baxis": {
            "gridcolor": "white",
            "linecolor": "white",
            "ticks": ""
           },
           "bgcolor": "#E5ECF6",
           "caxis": {
            "gridcolor": "white",
            "linecolor": "white",
            "ticks": ""
           }
          },
          "title": {
           "x": 0.05
          },
          "xaxis": {
           "automargin": true,
           "gridcolor": "white",
           "linecolor": "white",
           "ticks": "",
           "title": {
            "standoff": 15
           },
           "zerolinecolor": "white",
           "zerolinewidth": 2
          },
          "yaxis": {
           "automargin": true,
           "gridcolor": "white",
           "linecolor": "white",
           "ticks": "",
           "title": {
            "standoff": 15
           },
           "zerolinecolor": "white",
           "zerolinewidth": 2
          }
         }
        },
        "title": {
         "text": "Overall Spending Proportion by Account"
        }
       }
      }
     },
     "metadata": {},
     "output_type": "display_data"
    },
    {
     "name": "stderr",
     "output_type": "stream",
     "text": [
      "INFO: Puspita-Bandhan usage appears focused on Travel/Beauty.\n"
     ]
    },
    {
     "name": "stdout",
     "output_type": "stream",
     "text": [
      "\n",
      "Puspita-Bandhan Category Distribution (% of transactions):\n",
      "category\n",
      "Travel    58.1\n",
      "Beauty    41.9\n",
      "Name: proportion, dtype: float64\n"
     ]
    },
    {
     "data": {
      "application/vnd.plotly.v1+json": {
       "config": {
        "plotlyServerURL": "https://plot.ly"
       },
       "data": [
        {
         "domain": {
          "x": [
           0,
           1
          ],
          "y": [
           0,
           1
          ]
         },
         "hole": 0.3,
         "hovertemplate": "category=%{label}<extra></extra>",
         "labels": [
          "Travel",
          "Beauty",
          "Beauty",
          "Travel",
          "Beauty",
          "Travel",
          "Travel",
          "Travel",
          "Beauty",
          "Beauty",
          "Travel",
          "Travel",
          "Travel",
          "Travel",
          "Travel",
          "Travel",
          "Travel",
          "Travel",
          "Travel",
          "Beauty",
          "Beauty",
          "Beauty",
          "Travel",
          "Travel",
          "Travel",
          "Beauty",
          "Travel",
          "Beauty",
          "Travel",
          "Beauty",
          "Beauty",
          "Travel",
          "Travel",
          "Beauty",
          "Travel",
          "Beauty",
          "Beauty",
          "Beauty",
          "Travel",
          "Travel",
          "Beauty",
          "Travel",
          "Beauty",
          "Beauty",
          "Travel",
          "Travel",
          "Beauty",
          "Travel",
          "Beauty",
          "Travel",
          "Beauty",
          "Travel",
          "Travel",
          "Beauty",
          "Beauty",
          "Travel",
          "Travel",
          "Beauty",
          "Beauty",
          "Travel",
          "Travel",
          "Travel"
         ],
         "legendgroup": "",
         "name": "",
         "showlegend": true,
         "textinfo": "percent+label",
         "type": "pie"
        }
       ],
       "layout": {
        "legend": {
         "tracegroupgap": 0
        },
        "template": {
         "data": {
          "bar": [
           {
            "error_x": {
             "color": "#2a3f5f"
            },
            "error_y": {
             "color": "#2a3f5f"
            },
            "marker": {
             "line": {
              "color": "#E5ECF6",
              "width": 0.5
             },
             "pattern": {
              "fillmode": "overlay",
              "size": 10,
              "solidity": 0.2
             }
            },
            "type": "bar"
           }
          ],
          "barpolar": [
           {
            "marker": {
             "line": {
              "color": "#E5ECF6",
              "width": 0.5
             },
             "pattern": {
              "fillmode": "overlay",
              "size": 10,
              "solidity": 0.2
             }
            },
            "type": "barpolar"
           }
          ],
          "carpet": [
           {
            "aaxis": {
             "endlinecolor": "#2a3f5f",
             "gridcolor": "white",
             "linecolor": "white",
             "minorgridcolor": "white",
             "startlinecolor": "#2a3f5f"
            },
            "baxis": {
             "endlinecolor": "#2a3f5f",
             "gridcolor": "white",
             "linecolor": "white",
             "minorgridcolor": "white",
             "startlinecolor": "#2a3f5f"
            },
            "type": "carpet"
           }
          ],
          "choropleth": [
           {
            "colorbar": {
             "outlinewidth": 0,
             "ticks": ""
            },
            "type": "choropleth"
           }
          ],
          "contour": [
           {
            "colorbar": {
             "outlinewidth": 0,
             "ticks": ""
            },
            "colorscale": [
             [
              0,
              "#0d0887"
             ],
             [
              0.1111111111111111,
              "#46039f"
             ],
             [
              0.2222222222222222,
              "#7201a8"
             ],
             [
              0.3333333333333333,
              "#9c179e"
             ],
             [
              0.4444444444444444,
              "#bd3786"
             ],
             [
              0.5555555555555556,
              "#d8576b"
             ],
             [
              0.6666666666666666,
              "#ed7953"
             ],
             [
              0.7777777777777778,
              "#fb9f3a"
             ],
             [
              0.8888888888888888,
              "#fdca26"
             ],
             [
              1,
              "#f0f921"
             ]
            ],
            "type": "contour"
           }
          ],
          "contourcarpet": [
           {
            "colorbar": {
             "outlinewidth": 0,
             "ticks": ""
            },
            "type": "contourcarpet"
           }
          ],
          "heatmap": [
           {
            "colorbar": {
             "outlinewidth": 0,
             "ticks": ""
            },
            "colorscale": [
             [
              0,
              "#0d0887"
             ],
             [
              0.1111111111111111,
              "#46039f"
             ],
             [
              0.2222222222222222,
              "#7201a8"
             ],
             [
              0.3333333333333333,
              "#9c179e"
             ],
             [
              0.4444444444444444,
              "#bd3786"
             ],
             [
              0.5555555555555556,
              "#d8576b"
             ],
             [
              0.6666666666666666,
              "#ed7953"
             ],
             [
              0.7777777777777778,
              "#fb9f3a"
             ],
             [
              0.8888888888888888,
              "#fdca26"
             ],
             [
              1,
              "#f0f921"
             ]
            ],
            "type": "heatmap"
           }
          ],
          "histogram": [
           {
            "marker": {
             "pattern": {
              "fillmode": "overlay",
              "size": 10,
              "solidity": 0.2
             }
            },
            "type": "histogram"
           }
          ],
          "histogram2d": [
           {
            "colorbar": {
             "outlinewidth": 0,
             "ticks": ""
            },
            "colorscale": [
             [
              0,
              "#0d0887"
             ],
             [
              0.1111111111111111,
              "#46039f"
             ],
             [
              0.2222222222222222,
              "#7201a8"
             ],
             [
              0.3333333333333333,
              "#9c179e"
             ],
             [
              0.4444444444444444,
              "#bd3786"
             ],
             [
              0.5555555555555556,
              "#d8576b"
             ],
             [
              0.6666666666666666,
              "#ed7953"
             ],
             [
              0.7777777777777778,
              "#fb9f3a"
             ],
             [
              0.8888888888888888,
              "#fdca26"
             ],
             [
              1,
              "#f0f921"
             ]
            ],
            "type": "histogram2d"
           }
          ],
          "histogram2dcontour": [
           {
            "colorbar": {
             "outlinewidth": 0,
             "ticks": ""
            },
            "colorscale": [
             [
              0,
              "#0d0887"
             ],
             [
              0.1111111111111111,
              "#46039f"
             ],
             [
              0.2222222222222222,
              "#7201a8"
             ],
             [
              0.3333333333333333,
              "#9c179e"
             ],
             [
              0.4444444444444444,
              "#bd3786"
             ],
             [
              0.5555555555555556,
              "#d8576b"
             ],
             [
              0.6666666666666666,
              "#ed7953"
             ],
             [
              0.7777777777777778,
              "#fb9f3a"
             ],
             [
              0.8888888888888888,
              "#fdca26"
             ],
             [
              1,
              "#f0f921"
             ]
            ],
            "type": "histogram2dcontour"
           }
          ],
          "mesh3d": [
           {
            "colorbar": {
             "outlinewidth": 0,
             "ticks": ""
            },
            "type": "mesh3d"
           }
          ],
          "parcoords": [
           {
            "line": {
             "colorbar": {
              "outlinewidth": 0,
              "ticks": ""
             }
            },
            "type": "parcoords"
           }
          ],
          "pie": [
           {
            "automargin": true,
            "type": "pie"
           }
          ],
          "scatter": [
           {
            "fillpattern": {
             "fillmode": "overlay",
             "size": 10,
             "solidity": 0.2
            },
            "type": "scatter"
           }
          ],
          "scatter3d": [
           {
            "line": {
             "colorbar": {
              "outlinewidth": 0,
              "ticks": ""
             }
            },
            "marker": {
             "colorbar": {
              "outlinewidth": 0,
              "ticks": ""
             }
            },
            "type": "scatter3d"
           }
          ],
          "scattercarpet": [
           {
            "marker": {
             "colorbar": {
              "outlinewidth": 0,
              "ticks": ""
             }
            },
            "type": "scattercarpet"
           }
          ],
          "scattergeo": [
           {
            "marker": {
             "colorbar": {
              "outlinewidth": 0,
              "ticks": ""
             }
            },
            "type": "scattergeo"
           }
          ],
          "scattergl": [
           {
            "marker": {
             "colorbar": {
              "outlinewidth": 0,
              "ticks": ""
             }
            },
            "type": "scattergl"
           }
          ],
          "scattermap": [
           {
            "marker": {
             "colorbar": {
              "outlinewidth": 0,
              "ticks": ""
             }
            },
            "type": "scattermap"
           }
          ],
          "scattermapbox": [
           {
            "marker": {
             "colorbar": {
              "outlinewidth": 0,
              "ticks": ""
             }
            },
            "type": "scattermapbox"
           }
          ],
          "scatterpolar": [
           {
            "marker": {
             "colorbar": {
              "outlinewidth": 0,
              "ticks": ""
             }
            },
            "type": "scatterpolar"
           }
          ],
          "scatterpolargl": [
           {
            "marker": {
             "colorbar": {
              "outlinewidth": 0,
              "ticks": ""
             }
            },
            "type": "scatterpolargl"
           }
          ],
          "scatterternary": [
           {
            "marker": {
             "colorbar": {
              "outlinewidth": 0,
              "ticks": ""
             }
            },
            "type": "scatterternary"
           }
          ],
          "surface": [
           {
            "colorbar": {
             "outlinewidth": 0,
             "ticks": ""
            },
            "colorscale": [
             [
              0,
              "#0d0887"
             ],
             [
              0.1111111111111111,
              "#46039f"
             ],
             [
              0.2222222222222222,
              "#7201a8"
             ],
             [
              0.3333333333333333,
              "#9c179e"
             ],
             [
              0.4444444444444444,
              "#bd3786"
             ],
             [
              0.5555555555555556,
              "#d8576b"
             ],
             [
              0.6666666666666666,
              "#ed7953"
             ],
             [
              0.7777777777777778,
              "#fb9f3a"
             ],
             [
              0.8888888888888888,
              "#fdca26"
             ],
             [
              1,
              "#f0f921"
             ]
            ],
            "type": "surface"
           }
          ],
          "table": [
           {
            "cells": {
             "fill": {
              "color": "#EBF0F8"
             },
             "line": {
              "color": "white"
             }
            },
            "header": {
             "fill": {
              "color": "#C8D4E3"
             },
             "line": {
              "color": "white"
             }
            },
            "type": "table"
           }
          ]
         },
         "layout": {
          "annotationdefaults": {
           "arrowcolor": "#2a3f5f",
           "arrowhead": 0,
           "arrowwidth": 1
          },
          "autotypenumbers": "strict",
          "coloraxis": {
           "colorbar": {
            "outlinewidth": 0,
            "ticks": ""
           }
          },
          "colorscale": {
           "diverging": [
            [
             0,
             "#8e0152"
            ],
            [
             0.1,
             "#c51b7d"
            ],
            [
             0.2,
             "#de77ae"
            ],
            [
             0.3,
             "#f1b6da"
            ],
            [
             0.4,
             "#fde0ef"
            ],
            [
             0.5,
             "#f7f7f7"
            ],
            [
             0.6,
             "#e6f5d0"
            ],
            [
             0.7,
             "#b8e186"
            ],
            [
             0.8,
             "#7fbc41"
            ],
            [
             0.9,
             "#4d9221"
            ],
            [
             1,
             "#276419"
            ]
           ],
           "sequential": [
            [
             0,
             "#0d0887"
            ],
            [
             0.1111111111111111,
             "#46039f"
            ],
            [
             0.2222222222222222,
             "#7201a8"
            ],
            [
             0.3333333333333333,
             "#9c179e"
            ],
            [
             0.4444444444444444,
             "#bd3786"
            ],
            [
             0.5555555555555556,
             "#d8576b"
            ],
            [
             0.6666666666666666,
             "#ed7953"
            ],
            [
             0.7777777777777778,
             "#fb9f3a"
            ],
            [
             0.8888888888888888,
             "#fdca26"
            ],
            [
             1,
             "#f0f921"
            ]
           ],
           "sequentialminus": [
            [
             0,
             "#0d0887"
            ],
            [
             0.1111111111111111,
             "#46039f"
            ],
            [
             0.2222222222222222,
             "#7201a8"
            ],
            [
             0.3333333333333333,
             "#9c179e"
            ],
            [
             0.4444444444444444,
             "#bd3786"
            ],
            [
             0.5555555555555556,
             "#d8576b"
            ],
            [
             0.6666666666666666,
             "#ed7953"
            ],
            [
             0.7777777777777778,
             "#fb9f3a"
            ],
            [
             0.8888888888888888,
             "#fdca26"
            ],
            [
             1,
             "#f0f921"
            ]
           ]
          },
          "colorway": [
           "#636efa",
           "#EF553B",
           "#00cc96",
           "#ab63fa",
           "#FFA15A",
           "#19d3f3",
           "#FF6692",
           "#B6E880",
           "#FF97FF",
           "#FECB52"
          ],
          "font": {
           "color": "#2a3f5f"
          },
          "geo": {
           "bgcolor": "white",
           "lakecolor": "white",
           "landcolor": "#E5ECF6",
           "showlakes": true,
           "showland": true,
           "subunitcolor": "white"
          },
          "hoverlabel": {
           "align": "left"
          },
          "hovermode": "closest",
          "mapbox": {
           "style": "light"
          },
          "paper_bgcolor": "white",
          "plot_bgcolor": "#E5ECF6",
          "polar": {
           "angularaxis": {
            "gridcolor": "white",
            "linecolor": "white",
            "ticks": ""
           },
           "bgcolor": "#E5ECF6",
           "radialaxis": {
            "gridcolor": "white",
            "linecolor": "white",
            "ticks": ""
           }
          },
          "scene": {
           "xaxis": {
            "backgroundcolor": "#E5ECF6",
            "gridcolor": "white",
            "gridwidth": 2,
            "linecolor": "white",
            "showbackground": true,
            "ticks": "",
            "zerolinecolor": "white"
           },
           "yaxis": {
            "backgroundcolor": "#E5ECF6",
            "gridcolor": "white",
            "gridwidth": 2,
            "linecolor": "white",
            "showbackground": true,
            "ticks": "",
            "zerolinecolor": "white"
           },
           "zaxis": {
            "backgroundcolor": "#E5ECF6",
            "gridcolor": "white",
            "gridwidth": 2,
            "linecolor": "white",
            "showbackground": true,
            "ticks": "",
            "zerolinecolor": "white"
           }
          },
          "shapedefaults": {
           "line": {
            "color": "#2a3f5f"
           }
          },
          "ternary": {
           "aaxis": {
            "gridcolor": "white",
            "linecolor": "white",
            "ticks": ""
           },
           "baxis": {
            "gridcolor": "white",
            "linecolor": "white",
            "ticks": ""
           },
           "bgcolor": "#E5ECF6",
           "caxis": {
            "gridcolor": "white",
            "linecolor": "white",
            "ticks": ""
           }
          },
          "title": {
           "x": 0.05
          },
          "xaxis": {
           "automargin": true,
           "gridcolor": "white",
           "linecolor": "white",
           "ticks": "",
           "title": {
            "standoff": 15
           },
           "zerolinecolor": "white",
           "zerolinewidth": 2
          },
          "yaxis": {
           "automargin": true,
           "gridcolor": "white",
           "linecolor": "white",
           "ticks": "",
           "title": {
            "standoff": 15
           },
           "zerolinecolor": "white",
           "zerolinewidth": 2
          }
         }
        },
        "title": {
         "text": "Puspita-Bandhan Spending by Category"
        }
       }
      }
     },
     "metadata": {},
     "output_type": "display_data"
    },
    {
     "name": "stderr",
     "output_type": "stream",
     "text": [
      "INFO: Anirban-ICICI appears dominant for Anirban's spending (>=60%).\n"
     ]
    },
    {
     "name": "stdout",
     "output_type": "stream",
     "text": [
      "\n",
      "Anirban-ICICI accounts for 74.4% of Anirban's total spending amount.\n"
     ]
    }
   ],
   "source": [
    "if not df.empty and 'account' in df.columns and 'user' in df.columns and 'category' in df.columns:\n",
    "    print(\"\\n--- Account Usage Validation ---\")\n",
    "\n",
    "    # Overall Spend per Account (Pie Chart)\n",
    "    account_totals = df.groupby('account')['amount'].sum().reset_index()\n",
    "    fig_acc_pie = px.pie(account_totals, values='amount', names='account',\n",
    "                         title='Overall Spending Proportion by Account', hole=0.3)\n",
    "    fig_acc_pie.update_traces(textinfo='percent+label', hovertemplate=\"<b>%{label}</b><br>Total: ₹%{value:,.0f}<br>(%{percent})<extra></extra>\")\n",
    "    fig_acc_pie.show() # Display inline\n",
    "    # try: fig_acc_pie.write_image(IMG_DIR / \"account_spending_pie.png\") # Commented out\n",
    "    # except Exception as e: logging.error(f\"Failed to save account pie plot: {e}\")\n",
    "\n",
    "    # Puspita-Bandhan: Travel & Beauty focus?\n",
    "    puspita_bandhan_df = df[df['account'] == 'Puspita-Bandhan']\n",
    "    if not puspita_bandhan_df.empty:\n",
    "        pb_cat_dist = puspita_bandhan_df['category'].value_counts(normalize=True) * 100\n",
    "        print(\"\\nPuspita-Bandhan Category Distribution (% of transactions):\")\n",
    "        print(pb_cat_dist.round(1))\n",
    "        allowed_cats = ['Travel', 'Beauty']\n",
    "        other_cats_used = [cat for cat in pb_cat_dist.index if cat not in allowed_cats]\n",
    "        if other_cats_used:\n",
    "            logging.warning(f\"Puspita-Bandhan account used for categories other than Travel/Beauty: {other_cats_used}\")\n",
    "        else:\n",
    "             logging.info(\"Puspita-Bandhan usage appears focused on Travel/Beauty.\")\n",
    "        # Pie chart for Puspita-Bandhan\n",
    "        fig_pb_cat = px.pie(puspita_bandhan_df, names='category', title='Puspita-Bandhan Spending by Category', hole=0.3)\n",
    "        fig_pb_cat.update_traces(textinfo='percent+label')\n",
    "        fig_pb_cat.show() # Display inline\n",
    "        # try: fig_pb_cat.write_image(IMG_DIR / \"puspita_bandhan_category_pie.png\") # Commented out\n",
    "        # except Exception as e: logging.error(f\"Failed to save Puspita-Bandhan pie plot: {e}\")\n",
    "    else:\n",
    "        logging.info(\"No transactions found for Puspita-Bandhan.\")\n",
    "\n",
    "    # Anirban-ICICI Dominance Check\n",
    "    anirban_df = df[df['user'] == 'Anirban']\n",
    "    if not anirban_df.empty:\n",
    "         total_anirban_spend = anirban_df['amount'].sum()\n",
    "         if total_anirban_spend > 0:\n",
    "              icici_spend = anirban_df[anirban_df['account'] == 'Anirban-ICICI']['amount'].sum()\n",
    "              icici_share = (icici_spend / total_anirban_spend) * 100\n",
    "              print(f\"\\nAnirban-ICICI accounts for {icici_share:.1f}% of Anirban's total spending amount.\")\n",
    "              if icici_share < 60: # Arbitrary threshold\n",
    "                   logging.warning(\"Anirban-ICICI share of Anirban's spending seems lower than expected (<60%).\")\n",
    "              else:\n",
    "                   logging.info(\"Anirban-ICICI appears dominant for Anirban's spending (>=60%).\")\n",
    "         else:\n",
    "              logging.info(\"Anirban has zero total spending.\")\n",
    "    else:\n",
    "         logging.info(\"No transactions found for Anirban.\")\n",
    "else:\n",
    "    print(\"Skipping account usage validation (missing columns).\")"
   ]
  },
  {
   "cell_type": "markdown",
   "metadata": {},
   "source": [
    "## 14. Temporal Pattern: Spending Over Month Day\n",
    "\n",
    "Check if Grocery/Shopping spending is concentrated early in the month."
   ]
  },
  {
   "cell_type": "code",
   "execution_count": 33,
   "metadata": {},
   "outputs": [
    {
     "name": "stdout",
     "output_type": "stream",
     "text": [
      "\n",
      "--- Intra-Month Spending Pattern (Grocery/Shopping) ---\n"
     ]
    },
    {
     "data": {
      "application/vnd.plotly.v1+json": {
       "config": {
        "plotlyServerURL": "https://plot.ly"
       },
       "data": [
        {
         "hovertemplate": "Day of Month=%{x}<br>Total Amount (INR)=%{y}<extra></extra>",
         "legendgroup": "",
         "marker": {
          "color": "#636efa",
          "pattern": {
           "shape": ""
          }
         },
         "name": "",
         "orientation": "v",
         "showlegend": false,
         "textposition": "auto",
         "type": "bar",
         "x": {
          "bdata": "AQAAAAIAAAADAAAABAAAAAUAAAAGAAAABwAAAAgAAAAJAAAACgAAAAsAAAAMAAAA",
          "dtype": "i4"
         },
         "xaxis": "x",
         "y": {
          "bdata": "7FG4HmWQ9EDNzMzMPDL5QD0K16Po3fFAZmZmZnSsAEGuR+F68LH5QD4K16NIS+dAXI/C9eA14EAK16NwBffrQClcj8LlCdJArkfheuSq20DiehSuZ1bHQArXo3D9i8hA",
          "dtype": "f8"
         },
         "yaxis": "y"
        }
       ],
       "layout": {
        "barmode": "relative",
        "height": 400,
        "legend": {
         "tracegroupgap": 0
        },
        "template": {
         "data": {
          "bar": [
           {
            "error_x": {
             "color": "#2a3f5f"
            },
            "error_y": {
             "color": "#2a3f5f"
            },
            "marker": {
             "line": {
              "color": "#E5ECF6",
              "width": 0.5
             },
             "pattern": {
              "fillmode": "overlay",
              "size": 10,
              "solidity": 0.2
             }
            },
            "type": "bar"
           }
          ],
          "barpolar": [
           {
            "marker": {
             "line": {
              "color": "#E5ECF6",
              "width": 0.5
             },
             "pattern": {
              "fillmode": "overlay",
              "size": 10,
              "solidity": 0.2
             }
            },
            "type": "barpolar"
           }
          ],
          "carpet": [
           {
            "aaxis": {
             "endlinecolor": "#2a3f5f",
             "gridcolor": "white",
             "linecolor": "white",
             "minorgridcolor": "white",
             "startlinecolor": "#2a3f5f"
            },
            "baxis": {
             "endlinecolor": "#2a3f5f",
             "gridcolor": "white",
             "linecolor": "white",
             "minorgridcolor": "white",
             "startlinecolor": "#2a3f5f"
            },
            "type": "carpet"
           }
          ],
          "choropleth": [
           {
            "colorbar": {
             "outlinewidth": 0,
             "ticks": ""
            },
            "type": "choropleth"
           }
          ],
          "contour": [
           {
            "colorbar": {
             "outlinewidth": 0,
             "ticks": ""
            },
            "colorscale": [
             [
              0,
              "#0d0887"
             ],
             [
              0.1111111111111111,
              "#46039f"
             ],
             [
              0.2222222222222222,
              "#7201a8"
             ],
             [
              0.3333333333333333,
              "#9c179e"
             ],
             [
              0.4444444444444444,
              "#bd3786"
             ],
             [
              0.5555555555555556,
              "#d8576b"
             ],
             [
              0.6666666666666666,
              "#ed7953"
             ],
             [
              0.7777777777777778,
              "#fb9f3a"
             ],
             [
              0.8888888888888888,
              "#fdca26"
             ],
             [
              1,
              "#f0f921"
             ]
            ],
            "type": "contour"
           }
          ],
          "contourcarpet": [
           {
            "colorbar": {
             "outlinewidth": 0,
             "ticks": ""
            },
            "type": "contourcarpet"
           }
          ],
          "heatmap": [
           {
            "colorbar": {
             "outlinewidth": 0,
             "ticks": ""
            },
            "colorscale": [
             [
              0,
              "#0d0887"
             ],
             [
              0.1111111111111111,
              "#46039f"
             ],
             [
              0.2222222222222222,
              "#7201a8"
             ],
             [
              0.3333333333333333,
              "#9c179e"
             ],
             [
              0.4444444444444444,
              "#bd3786"
             ],
             [
              0.5555555555555556,
              "#d8576b"
             ],
             [
              0.6666666666666666,
              "#ed7953"
             ],
             [
              0.7777777777777778,
              "#fb9f3a"
             ],
             [
              0.8888888888888888,
              "#fdca26"
             ],
             [
              1,
              "#f0f921"
             ]
            ],
            "type": "heatmap"
           }
          ],
          "histogram": [
           {
            "marker": {
             "pattern": {
              "fillmode": "overlay",
              "size": 10,
              "solidity": 0.2
             }
            },
            "type": "histogram"
           }
          ],
          "histogram2d": [
           {
            "colorbar": {
             "outlinewidth": 0,
             "ticks": ""
            },
            "colorscale": [
             [
              0,
              "#0d0887"
             ],
             [
              0.1111111111111111,
              "#46039f"
             ],
             [
              0.2222222222222222,
              "#7201a8"
             ],
             [
              0.3333333333333333,
              "#9c179e"
             ],
             [
              0.4444444444444444,
              "#bd3786"
             ],
             [
              0.5555555555555556,
              "#d8576b"
             ],
             [
              0.6666666666666666,
              "#ed7953"
             ],
             [
              0.7777777777777778,
              "#fb9f3a"
             ],
             [
              0.8888888888888888,
              "#fdca26"
             ],
             [
              1,
              "#f0f921"
             ]
            ],
            "type": "histogram2d"
           }
          ],
          "histogram2dcontour": [
           {
            "colorbar": {
             "outlinewidth": 0,
             "ticks": ""
            },
            "colorscale": [
             [
              0,
              "#0d0887"
             ],
             [
              0.1111111111111111,
              "#46039f"
             ],
             [
              0.2222222222222222,
              "#7201a8"
             ],
             [
              0.3333333333333333,
              "#9c179e"
             ],
             [
              0.4444444444444444,
              "#bd3786"
             ],
             [
              0.5555555555555556,
              "#d8576b"
             ],
             [
              0.6666666666666666,
              "#ed7953"
             ],
             [
              0.7777777777777778,
              "#fb9f3a"
             ],
             [
              0.8888888888888888,
              "#fdca26"
             ],
             [
              1,
              "#f0f921"
             ]
            ],
            "type": "histogram2dcontour"
           }
          ],
          "mesh3d": [
           {
            "colorbar": {
             "outlinewidth": 0,
             "ticks": ""
            },
            "type": "mesh3d"
           }
          ],
          "parcoords": [
           {
            "line": {
             "colorbar": {
              "outlinewidth": 0,
              "ticks": ""
             }
            },
            "type": "parcoords"
           }
          ],
          "pie": [
           {
            "automargin": true,
            "type": "pie"
           }
          ],
          "scatter": [
           {
            "fillpattern": {
             "fillmode": "overlay",
             "size": 10,
             "solidity": 0.2
            },
            "type": "scatter"
           }
          ],
          "scatter3d": [
           {
            "line": {
             "colorbar": {
              "outlinewidth": 0,
              "ticks": ""
             }
            },
            "marker": {
             "colorbar": {
              "outlinewidth": 0,
              "ticks": ""
             }
            },
            "type": "scatter3d"
           }
          ],
          "scattercarpet": [
           {
            "marker": {
             "colorbar": {
              "outlinewidth": 0,
              "ticks": ""
             }
            },
            "type": "scattercarpet"
           }
          ],
          "scattergeo": [
           {
            "marker": {
             "colorbar": {
              "outlinewidth": 0,
              "ticks": ""
             }
            },
            "type": "scattergeo"
           }
          ],
          "scattergl": [
           {
            "marker": {
             "colorbar": {
              "outlinewidth": 0,
              "ticks": ""
             }
            },
            "type": "scattergl"
           }
          ],
          "scattermap": [
           {
            "marker": {
             "colorbar": {
              "outlinewidth": 0,
              "ticks": ""
             }
            },
            "type": "scattermap"
           }
          ],
          "scattermapbox": [
           {
            "marker": {
             "colorbar": {
              "outlinewidth": 0,
              "ticks": ""
             }
            },
            "type": "scattermapbox"
           }
          ],
          "scatterpolar": [
           {
            "marker": {
             "colorbar": {
              "outlinewidth": 0,
              "ticks": ""
             }
            },
            "type": "scatterpolar"
           }
          ],
          "scatterpolargl": [
           {
            "marker": {
             "colorbar": {
              "outlinewidth": 0,
              "ticks": ""
             }
            },
            "type": "scatterpolargl"
           }
          ],
          "scatterternary": [
           {
            "marker": {
             "colorbar": {
              "outlinewidth": 0,
              "ticks": ""
             }
            },
            "type": "scatterternary"
           }
          ],
          "surface": [
           {
            "colorbar": {
             "outlinewidth": 0,
             "ticks": ""
            },
            "colorscale": [
             [
              0,
              "#0d0887"
             ],
             [
              0.1111111111111111,
              "#46039f"
             ],
             [
              0.2222222222222222,
              "#7201a8"
             ],
             [
              0.3333333333333333,
              "#9c179e"
             ],
             [
              0.4444444444444444,
              "#bd3786"
             ],
             [
              0.5555555555555556,
              "#d8576b"
             ],
             [
              0.6666666666666666,
              "#ed7953"
             ],
             [
              0.7777777777777778,
              "#fb9f3a"
             ],
             [
              0.8888888888888888,
              "#fdca26"
             ],
             [
              1,
              "#f0f921"
             ]
            ],
            "type": "surface"
           }
          ],
          "table": [
           {
            "cells": {
             "fill": {
              "color": "#EBF0F8"
             },
             "line": {
              "color": "white"
             }
            },
            "header": {
             "fill": {
              "color": "#C8D4E3"
             },
             "line": {
              "color": "white"
             }
            },
            "type": "table"
           }
          ]
         },
         "layout": {
          "annotationdefaults": {
           "arrowcolor": "#2a3f5f",
           "arrowhead": 0,
           "arrowwidth": 1
          },
          "autotypenumbers": "strict",
          "coloraxis": {
           "colorbar": {
            "outlinewidth": 0,
            "ticks": ""
           }
          },
          "colorscale": {
           "diverging": [
            [
             0,
             "#8e0152"
            ],
            [
             0.1,
             "#c51b7d"
            ],
            [
             0.2,
             "#de77ae"
            ],
            [
             0.3,
             "#f1b6da"
            ],
            [
             0.4,
             "#fde0ef"
            ],
            [
             0.5,
             "#f7f7f7"
            ],
            [
             0.6,
             "#e6f5d0"
            ],
            [
             0.7,
             "#b8e186"
            ],
            [
             0.8,
             "#7fbc41"
            ],
            [
             0.9,
             "#4d9221"
            ],
            [
             1,
             "#276419"
            ]
           ],
           "sequential": [
            [
             0,
             "#0d0887"
            ],
            [
             0.1111111111111111,
             "#46039f"
            ],
            [
             0.2222222222222222,
             "#7201a8"
            ],
            [
             0.3333333333333333,
             "#9c179e"
            ],
            [
             0.4444444444444444,
             "#bd3786"
            ],
            [
             0.5555555555555556,
             "#d8576b"
            ],
            [
             0.6666666666666666,
             "#ed7953"
            ],
            [
             0.7777777777777778,
             "#fb9f3a"
            ],
            [
             0.8888888888888888,
             "#fdca26"
            ],
            [
             1,
             "#f0f921"
            ]
           ],
           "sequentialminus": [
            [
             0,
             "#0d0887"
            ],
            [
             0.1111111111111111,
             "#46039f"
            ],
            [
             0.2222222222222222,
             "#7201a8"
            ],
            [
             0.3333333333333333,
             "#9c179e"
            ],
            [
             0.4444444444444444,
             "#bd3786"
            ],
            [
             0.5555555555555556,
             "#d8576b"
            ],
            [
             0.6666666666666666,
             "#ed7953"
            ],
            [
             0.7777777777777778,
             "#fb9f3a"
            ],
            [
             0.8888888888888888,
             "#fdca26"
            ],
            [
             1,
             "#f0f921"
            ]
           ]
          },
          "colorway": [
           "#636efa",
           "#EF553B",
           "#00cc96",
           "#ab63fa",
           "#FFA15A",
           "#19d3f3",
           "#FF6692",
           "#B6E880",
           "#FF97FF",
           "#FECB52"
          ],
          "font": {
           "color": "#2a3f5f"
          },
          "geo": {
           "bgcolor": "white",
           "lakecolor": "white",
           "landcolor": "#E5ECF6",
           "showlakes": true,
           "showland": true,
           "subunitcolor": "white"
          },
          "hoverlabel": {
           "align": "left"
          },
          "hovermode": "closest",
          "mapbox": {
           "style": "light"
          },
          "paper_bgcolor": "white",
          "plot_bgcolor": "#E5ECF6",
          "polar": {
           "angularaxis": {
            "gridcolor": "white",
            "linecolor": "white",
            "ticks": ""
           },
           "bgcolor": "#E5ECF6",
           "radialaxis": {
            "gridcolor": "white",
            "linecolor": "white",
            "ticks": ""
           }
          },
          "scene": {
           "xaxis": {
            "backgroundcolor": "#E5ECF6",
            "gridcolor": "white",
            "gridwidth": 2,
            "linecolor": "white",
            "showbackground": true,
            "ticks": "",
            "zerolinecolor": "white"
           },
           "yaxis": {
            "backgroundcolor": "#E5ECF6",
            "gridcolor": "white",
            "gridwidth": 2,
            "linecolor": "white",
            "showbackground": true,
            "ticks": "",
            "zerolinecolor": "white"
           },
           "zaxis": {
            "backgroundcolor": "#E5ECF6",
            "gridcolor": "white",
            "gridwidth": 2,
            "linecolor": "white",
            "showbackground": true,
            "ticks": "",
            "zerolinecolor": "white"
           }
          },
          "shapedefaults": {
           "line": {
            "color": "#2a3f5f"
           }
          },
          "ternary": {
           "aaxis": {
            "gridcolor": "white",
            "linecolor": "white",
            "ticks": ""
           },
           "baxis": {
            "gridcolor": "white",
            "linecolor": "white",
            "ticks": ""
           },
           "bgcolor": "#E5ECF6",
           "caxis": {
            "gridcolor": "white",
            "linecolor": "white",
            "ticks": ""
           }
          },
          "title": {
           "x": 0.05
          },
          "xaxis": {
           "automargin": true,
           "gridcolor": "white",
           "linecolor": "white",
           "ticks": "",
           "title": {
            "standoff": 15
           },
           "zerolinecolor": "white",
           "zerolinewidth": 2
          },
          "yaxis": {
           "automargin": true,
           "gridcolor": "white",
           "linecolor": "white",
           "ticks": "",
           "title": {
            "standoff": 15
           },
           "zerolinecolor": "white",
           "zerolinewidth": 2
          }
         }
        },
        "title": {
         "text": "Total Grocery/Shopping Spend by Day of Month"
        },
        "xaxis": {
         "anchor": "y",
         "domain": [
          0,
          1
         ],
         "dtick": 1,
         "tickmode": "linear",
         "title": {
          "text": "Day of Month"
         }
        },
        "yaxis": {
         "anchor": "x",
         "domain": [
          0,
          1
         ],
         "title": {
          "text": "Total Amount (INR)"
         }
        }
       }
      }
     },
     "metadata": {},
     "output_type": "display_data"
    },
    {
     "name": "stderr",
     "output_type": "stream",
     "text": [
      "INFO: Check bar chart: Is spending clearly higher in the first ~10 days?\n",
      "INFO: Spending concentration early in the month observed (First 10 days: ~₹687,435 vs Last 10 days: ~₹0).\n"
     ]
    }
   ],
   "source": [
    "if not df.empty and 'date_dt' in df.columns and 'category' in df.columns:\n",
    "    print(\"\\n--- Intra-Month Spending Pattern (Grocery/Shopping) ---\")\n",
    "    df['day_of_month'] = df['date_dt'].dt.day\n",
    "    # Filter for relevant categories AND non-fixed amounts (exclude large monthly rent etc. if miscategorized)\n",
    "    monthly_pattern_df = df[\n",
    "        df['category'].isin(['Grocery', 'Shopping']) & (df['amount'] < 20000) # Avoid huge one-offs like Furniture if in Shopping\n",
    "    ]\n",
    "\n",
    "    if not monthly_pattern_df.empty:\n",
    "        daily_total = monthly_pattern_df.groupby('day_of_month')['amount'].sum().reset_index() # Look at SUM not mean per day\n",
    "\n",
    "        fig_month_day = px.bar(daily_total, x='day_of_month', y='amount',\n",
    "                               title='Total Grocery/Shopping Spend by Day of Month',\n",
    "                               labels={'day_of_month': 'Day of Month', 'amount': 'Total Amount (INR)'},\n",
    "                               height=400)\n",
    "        fig_month_day.update_layout(xaxis=dict(tickmode='linear', dtick=1)) # Ensure all days are shown\n",
    "        fig_month_day.show() # Display inline\n",
    "        # try: fig_month_day.write_image(IMG_DIR / \"monthly_day_spend_pattern.png\") # Commented out\n",
    "        # except Exception as e: logging.error(f\"Failed to save monthly pattern plot: {e}\")\n",
    "\n",
    "        # Discrepancy Check (Visual Inspection + Quantitative)\n",
    "        logging.info(\"Check bar chart: Is spending clearly higher in the first ~10 days?\")\n",
    "        total_first_10 = daily_total[daily_total['day_of_month'] <= 10]['amount'].sum()\n",
    "        total_last_10 = daily_total[daily_total['day_of_month'] >= 22]['amount'].sum()\n",
    "        total_overall = daily_total['amount'].sum()\n",
    "\n",
    "        if total_overall > 0 and total_first_10 > total_last_10 * 1.3: # Check if first 10 days sum is >30% higher than last 10\n",
    "             logging.info(f\"Spending concentration early in the month observed (First 10 days: ~₹{total_first_10:,.0f} vs Last 10 days: ~₹{total_last_10:,.0f}).\")\n",
    "        elif total_overall > 0:\n",
    "             logging.warning(f\"Grocery/Shopping spending doesn't seem strongly concentrated early in the month (First 10: ~₹{total_first_10:,.0f} vs Last 10: ~₹{total_last_10:,.0f}).\")\n",
    "        else:\n",
    "            logging.info(\"Not enough spending data to assess intra-month pattern.\")\n",
    "\n",
    "    else:\n",
    "        logging.info(\"No relevant Grocery or Shopping data found for monthly pattern analysis.\")\n",
    "    # Clean up added column\n",
    "    if 'day_of_month' in df.columns: df.drop(columns=['day_of_month'], inplace=True)\n",
    "else:\n",
    "    print(\"Skipping intra-month pattern analysis.\")"
   ]
  },
  {
   "cell_type": "markdown",
   "metadata": {},
   "source": [
    "## 15. ML Suitability Check: Regression Potential (Flight Cost vs Month)\n",
    "\n",
    "Explore potential relationship for regression model."
   ]
  },
  {
   "cell_type": "code",
   "execution_count": 34,
   "metadata": {},
   "outputs": [
    {
     "name": "stdout",
     "output_type": "stream",
     "text": [
      "\n",
      "--- ML Check: Regression Potential (Flight Cost vs Month) ---\n"
     ]
    },
    {
     "data": {
      "application/vnd.plotly.v1+json": {
       "config": {
        "plotlyServerURL": "https://plot.ly"
       },
       "data": [
        {
         "hovertemplate": "Month (1-12)=%{x}<br>Flight Amount (INR)=%{y}<extra></extra>",
         "legendgroup": "",
         "marker": {
          "color": "#636efa",
          "symbol": "circle"
         },
         "mode": "markers",
         "name": "",
         "orientation": "v",
         "showlegend": false,
         "type": "scatter",
         "x": {
          "bdata": "AgAAAAMAAAADAAAABQAAAAUAAAAFAAAABwAAAAcAAAAIAAAACAAAAAsAAAAMAAAADAAAAAEAAAACAAAAAwAAAAMAAAAFAAAABgAAAAwAAAACAAAAAwAAAA==",
          "dtype": "i4"
         },
         "xaxis": "x",
         "y": {
          "bdata": "FK5H4foNxkBI4XoUrnytQLgeheuRgMZAhetRuF7EvkDXo3A9iuu9QDMzMzNztrdAKVyPwhWRw0CF61G43jm1QArXo3A91q1AH4XrUbgUxEDsUbgeZUTIQBSuR+G6eshAXI/C9SgAq0AK16NwvR3HQLgehetxUsJA16NwPYrLvEBI4XoUDjLFQFyPwvW45dBAMzMzMzP/rEAfhetRuEe+QHE9CtejLL1A4XoUrscfwEA=",
          "dtype": "f8"
         },
         "yaxis": "y"
        },
        {
         "hovertemplate": "<b>OLS trendline</b><br>amount = -103.772 * month_num + 9230.12<br>R<sup>2</sup>=0.010861<br><br>Month (1-12)=%{x}<br>Flight Amount (INR)=%{y} <b>(trend)</b><extra></extra>",
         "legendgroup": "",
         "marker": {
          "color": "#636efa",
          "symbol": "circle"
         },
         "mode": "lines",
         "name": "",
         "showlegend": false,
         "type": "scatter",
         "x": {
          "bdata": "AQAAAAIAAAACAAAAAgAAAAMAAAADAAAAAwAAAAMAAAADAAAABQAAAAUAAAAFAAAABQAAAAYAAAAHAAAABwAAAAgAAAAIAAAACwAAAAwAAAAMAAAADAAAAA==",
          "dtype": "i4"
         },
         "xaxis": "x",
         "y": {
          "bdata": "h+uCrSzTwUDbw6nbSZ/BQNvDqdtJn8FA28Op20mfwUAwnNAJZ2vBQDCc0Alna8FAMJzQCWdrwUAwnNAJZ2vBQDCc0Alna8FA2UweZqEDwUDZTB5moQPBQNlMHmahA8FA2UweZqEDwUAuJUWUvs/AQIP9a8Lbm8BAg/1rwtubwEDX1ZLw+GfAQNfVkvD4Z8BAqr0O9qCYv0BUblxS2zC/QFRuXFLbML9AVG5cUtswv0A=",
          "dtype": "f8"
         },
         "yaxis": "y"
        }
       ],
       "layout": {
        "height": 400,
        "legend": {
         "tracegroupgap": 0
        },
        "template": {
         "data": {
          "bar": [
           {
            "error_x": {
             "color": "#2a3f5f"
            },
            "error_y": {
             "color": "#2a3f5f"
            },
            "marker": {
             "line": {
              "color": "#E5ECF6",
              "width": 0.5
             },
             "pattern": {
              "fillmode": "overlay",
              "size": 10,
              "solidity": 0.2
             }
            },
            "type": "bar"
           }
          ],
          "barpolar": [
           {
            "marker": {
             "line": {
              "color": "#E5ECF6",
              "width": 0.5
             },
             "pattern": {
              "fillmode": "overlay",
              "size": 10,
              "solidity": 0.2
             }
            },
            "type": "barpolar"
           }
          ],
          "carpet": [
           {
            "aaxis": {
             "endlinecolor": "#2a3f5f",
             "gridcolor": "white",
             "linecolor": "white",
             "minorgridcolor": "white",
             "startlinecolor": "#2a3f5f"
            },
            "baxis": {
             "endlinecolor": "#2a3f5f",
             "gridcolor": "white",
             "linecolor": "white",
             "minorgridcolor": "white",
             "startlinecolor": "#2a3f5f"
            },
            "type": "carpet"
           }
          ],
          "choropleth": [
           {
            "colorbar": {
             "outlinewidth": 0,
             "ticks": ""
            },
            "type": "choropleth"
           }
          ],
          "contour": [
           {
            "colorbar": {
             "outlinewidth": 0,
             "ticks": ""
            },
            "colorscale": [
             [
              0,
              "#0d0887"
             ],
             [
              0.1111111111111111,
              "#46039f"
             ],
             [
              0.2222222222222222,
              "#7201a8"
             ],
             [
              0.3333333333333333,
              "#9c179e"
             ],
             [
              0.4444444444444444,
              "#bd3786"
             ],
             [
              0.5555555555555556,
              "#d8576b"
             ],
             [
              0.6666666666666666,
              "#ed7953"
             ],
             [
              0.7777777777777778,
              "#fb9f3a"
             ],
             [
              0.8888888888888888,
              "#fdca26"
             ],
             [
              1,
              "#f0f921"
             ]
            ],
            "type": "contour"
           }
          ],
          "contourcarpet": [
           {
            "colorbar": {
             "outlinewidth": 0,
             "ticks": ""
            },
            "type": "contourcarpet"
           }
          ],
          "heatmap": [
           {
            "colorbar": {
             "outlinewidth": 0,
             "ticks": ""
            },
            "colorscale": [
             [
              0,
              "#0d0887"
             ],
             [
              0.1111111111111111,
              "#46039f"
             ],
             [
              0.2222222222222222,
              "#7201a8"
             ],
             [
              0.3333333333333333,
              "#9c179e"
             ],
             [
              0.4444444444444444,
              "#bd3786"
             ],
             [
              0.5555555555555556,
              "#d8576b"
             ],
             [
              0.6666666666666666,
              "#ed7953"
             ],
             [
              0.7777777777777778,
              "#fb9f3a"
             ],
             [
              0.8888888888888888,
              "#fdca26"
             ],
             [
              1,
              "#f0f921"
             ]
            ],
            "type": "heatmap"
           }
          ],
          "histogram": [
           {
            "marker": {
             "pattern": {
              "fillmode": "overlay",
              "size": 10,
              "solidity": 0.2
             }
            },
            "type": "histogram"
           }
          ],
          "histogram2d": [
           {
            "colorbar": {
             "outlinewidth": 0,
             "ticks": ""
            },
            "colorscale": [
             [
              0,
              "#0d0887"
             ],
             [
              0.1111111111111111,
              "#46039f"
             ],
             [
              0.2222222222222222,
              "#7201a8"
             ],
             [
              0.3333333333333333,
              "#9c179e"
             ],
             [
              0.4444444444444444,
              "#bd3786"
             ],
             [
              0.5555555555555556,
              "#d8576b"
             ],
             [
              0.6666666666666666,
              "#ed7953"
             ],
             [
              0.7777777777777778,
              "#fb9f3a"
             ],
             [
              0.8888888888888888,
              "#fdca26"
             ],
             [
              1,
              "#f0f921"
             ]
            ],
            "type": "histogram2d"
           }
          ],
          "histogram2dcontour": [
           {
            "colorbar": {
             "outlinewidth": 0,
             "ticks": ""
            },
            "colorscale": [
             [
              0,
              "#0d0887"
             ],
             [
              0.1111111111111111,
              "#46039f"
             ],
             [
              0.2222222222222222,
              "#7201a8"
             ],
             [
              0.3333333333333333,
              "#9c179e"
             ],
             [
              0.4444444444444444,
              "#bd3786"
             ],
             [
              0.5555555555555556,
              "#d8576b"
             ],
             [
              0.6666666666666666,
              "#ed7953"
             ],
             [
              0.7777777777777778,
              "#fb9f3a"
             ],
             [
              0.8888888888888888,
              "#fdca26"
             ],
             [
              1,
              "#f0f921"
             ]
            ],
            "type": "histogram2dcontour"
           }
          ],
          "mesh3d": [
           {
            "colorbar": {
             "outlinewidth": 0,
             "ticks": ""
            },
            "type": "mesh3d"
           }
          ],
          "parcoords": [
           {
            "line": {
             "colorbar": {
              "outlinewidth": 0,
              "ticks": ""
             }
            },
            "type": "parcoords"
           }
          ],
          "pie": [
           {
            "automargin": true,
            "type": "pie"
           }
          ],
          "scatter": [
           {
            "fillpattern": {
             "fillmode": "overlay",
             "size": 10,
             "solidity": 0.2
            },
            "type": "scatter"
           }
          ],
          "scatter3d": [
           {
            "line": {
             "colorbar": {
              "outlinewidth": 0,
              "ticks": ""
             }
            },
            "marker": {
             "colorbar": {
              "outlinewidth": 0,
              "ticks": ""
             }
            },
            "type": "scatter3d"
           }
          ],
          "scattercarpet": [
           {
            "marker": {
             "colorbar": {
              "outlinewidth": 0,
              "ticks": ""
             }
            },
            "type": "scattercarpet"
           }
          ],
          "scattergeo": [
           {
            "marker": {
             "colorbar": {
              "outlinewidth": 0,
              "ticks": ""
             }
            },
            "type": "scattergeo"
           }
          ],
          "scattergl": [
           {
            "marker": {
             "colorbar": {
              "outlinewidth": 0,
              "ticks": ""
             }
            },
            "type": "scattergl"
           }
          ],
          "scattermap": [
           {
            "marker": {
             "colorbar": {
              "outlinewidth": 0,
              "ticks": ""
             }
            },
            "type": "scattermap"
           }
          ],
          "scattermapbox": [
           {
            "marker": {
             "colorbar": {
              "outlinewidth": 0,
              "ticks": ""
             }
            },
            "type": "scattermapbox"
           }
          ],
          "scatterpolar": [
           {
            "marker": {
             "colorbar": {
              "outlinewidth": 0,
              "ticks": ""
             }
            },
            "type": "scatterpolar"
           }
          ],
          "scatterpolargl": [
           {
            "marker": {
             "colorbar": {
              "outlinewidth": 0,
              "ticks": ""
             }
            },
            "type": "scatterpolargl"
           }
          ],
          "scatterternary": [
           {
            "marker": {
             "colorbar": {
              "outlinewidth": 0,
              "ticks": ""
             }
            },
            "type": "scatterternary"
           }
          ],
          "surface": [
           {
            "colorbar": {
             "outlinewidth": 0,
             "ticks": ""
            },
            "colorscale": [
             [
              0,
              "#0d0887"
             ],
             [
              0.1111111111111111,
              "#46039f"
             ],
             [
              0.2222222222222222,
              "#7201a8"
             ],
             [
              0.3333333333333333,
              "#9c179e"
             ],
             [
              0.4444444444444444,
              "#bd3786"
             ],
             [
              0.5555555555555556,
              "#d8576b"
             ],
             [
              0.6666666666666666,
              "#ed7953"
             ],
             [
              0.7777777777777778,
              "#fb9f3a"
             ],
             [
              0.8888888888888888,
              "#fdca26"
             ],
             [
              1,
              "#f0f921"
             ]
            ],
            "type": "surface"
           }
          ],
          "table": [
           {
            "cells": {
             "fill": {
              "color": "#EBF0F8"
             },
             "line": {
              "color": "white"
             }
            },
            "header": {
             "fill": {
              "color": "#C8D4E3"
             },
             "line": {
              "color": "white"
             }
            },
            "type": "table"
           }
          ]
         },
         "layout": {
          "annotationdefaults": {
           "arrowcolor": "#2a3f5f",
           "arrowhead": 0,
           "arrowwidth": 1
          },
          "autotypenumbers": "strict",
          "coloraxis": {
           "colorbar": {
            "outlinewidth": 0,
            "ticks": ""
           }
          },
          "colorscale": {
           "diverging": [
            [
             0,
             "#8e0152"
            ],
            [
             0.1,
             "#c51b7d"
            ],
            [
             0.2,
             "#de77ae"
            ],
            [
             0.3,
             "#f1b6da"
            ],
            [
             0.4,
             "#fde0ef"
            ],
            [
             0.5,
             "#f7f7f7"
            ],
            [
             0.6,
             "#e6f5d0"
            ],
            [
             0.7,
             "#b8e186"
            ],
            [
             0.8,
             "#7fbc41"
            ],
            [
             0.9,
             "#4d9221"
            ],
            [
             1,
             "#276419"
            ]
           ],
           "sequential": [
            [
             0,
             "#0d0887"
            ],
            [
             0.1111111111111111,
             "#46039f"
            ],
            [
             0.2222222222222222,
             "#7201a8"
            ],
            [
             0.3333333333333333,
             "#9c179e"
            ],
            [
             0.4444444444444444,
             "#bd3786"
            ],
            [
             0.5555555555555556,
             "#d8576b"
            ],
            [
             0.6666666666666666,
             "#ed7953"
            ],
            [
             0.7777777777777778,
             "#fb9f3a"
            ],
            [
             0.8888888888888888,
             "#fdca26"
            ],
            [
             1,
             "#f0f921"
            ]
           ],
           "sequentialminus": [
            [
             0,
             "#0d0887"
            ],
            [
             0.1111111111111111,
             "#46039f"
            ],
            [
             0.2222222222222222,
             "#7201a8"
            ],
            [
             0.3333333333333333,
             "#9c179e"
            ],
            [
             0.4444444444444444,
             "#bd3786"
            ],
            [
             0.5555555555555556,
             "#d8576b"
            ],
            [
             0.6666666666666666,
             "#ed7953"
            ],
            [
             0.7777777777777778,
             "#fb9f3a"
            ],
            [
             0.8888888888888888,
             "#fdca26"
            ],
            [
             1,
             "#f0f921"
            ]
           ]
          },
          "colorway": [
           "#636efa",
           "#EF553B",
           "#00cc96",
           "#ab63fa",
           "#FFA15A",
           "#19d3f3",
           "#FF6692",
           "#B6E880",
           "#FF97FF",
           "#FECB52"
          ],
          "font": {
           "color": "#2a3f5f"
          },
          "geo": {
           "bgcolor": "white",
           "lakecolor": "white",
           "landcolor": "#E5ECF6",
           "showlakes": true,
           "showland": true,
           "subunitcolor": "white"
          },
          "hoverlabel": {
           "align": "left"
          },
          "hovermode": "closest",
          "mapbox": {
           "style": "light"
          },
          "paper_bgcolor": "white",
          "plot_bgcolor": "#E5ECF6",
          "polar": {
           "angularaxis": {
            "gridcolor": "white",
            "linecolor": "white",
            "ticks": ""
           },
           "bgcolor": "#E5ECF6",
           "radialaxis": {
            "gridcolor": "white",
            "linecolor": "white",
            "ticks": ""
           }
          },
          "scene": {
           "xaxis": {
            "backgroundcolor": "#E5ECF6",
            "gridcolor": "white",
            "gridwidth": 2,
            "linecolor": "white",
            "showbackground": true,
            "ticks": "",
            "zerolinecolor": "white"
           },
           "yaxis": {
            "backgroundcolor": "#E5ECF6",
            "gridcolor": "white",
            "gridwidth": 2,
            "linecolor": "white",
            "showbackground": true,
            "ticks": "",
            "zerolinecolor": "white"
           },
           "zaxis": {
            "backgroundcolor": "#E5ECF6",
            "gridcolor": "white",
            "gridwidth": 2,
            "linecolor": "white",
            "showbackground": true,
            "ticks": "",
            "zerolinecolor": "white"
           }
          },
          "shapedefaults": {
           "line": {
            "color": "#2a3f5f"
           }
          },
          "ternary": {
           "aaxis": {
            "gridcolor": "white",
            "linecolor": "white",
            "ticks": ""
           },
           "baxis": {
            "gridcolor": "white",
            "linecolor": "white",
            "ticks": ""
           },
           "bgcolor": "#E5ECF6",
           "caxis": {
            "gridcolor": "white",
            "linecolor": "white",
            "ticks": ""
           }
          },
          "title": {
           "x": 0.05
          },
          "xaxis": {
           "automargin": true,
           "gridcolor": "white",
           "linecolor": "white",
           "ticks": "",
           "title": {
            "standoff": 15
           },
           "zerolinecolor": "white",
           "zerolinewidth": 2
          },
          "yaxis": {
           "automargin": true,
           "gridcolor": "white",
           "linecolor": "white",
           "ticks": "",
           "title": {
            "standoff": 15
           },
           "zerolinecolor": "white",
           "zerolinewidth": 2
          }
         }
        },
        "title": {
         "text": "Flight Cost vs. Month of Booking"
        },
        "xaxis": {
         "anchor": "y",
         "domain": [
          0,
          1
         ],
         "tickmode": "array",
         "tickvals": [
          1,
          2,
          3,
          4,
          5,
          6,
          7,
          8,
          9,
          10,
          11,
          12
         ],
         "title": {
          "text": "Month (1-12)"
         }
        },
        "yaxis": {
         "anchor": "x",
         "domain": [
          0,
          1
         ],
         "title": {
          "text": "Flight Amount (INR)"
         }
        }
       }
      }
     },
     "metadata": {},
     "output_type": "display_data"
    },
    {
     "name": "stderr",
     "output_type": "stream",
     "text": [
      "INFO: Check scatter plot: Is there a visible trend (even slight)? Are outliers plausible flight costs?\n"
     ]
    }
   ],
   "source": [
    "if not df.empty and 'date_dt' in df.columns and 'sub_category' in df.columns:\n",
    "    print(\"\\n--- ML Check: Regression Potential (Flight Cost vs Month) ---\")\n",
    "    flight_df = df[df['sub_category'] == 'Flight'].copy()\n",
    "\n",
    "    if not flight_df.empty:\n",
    "        flight_df['month_num'] = flight_df['date_dt'].dt.month\n",
    "        fig_scatter_flight = px.scatter(flight_df, x='month_num', y='amount',\n",
    "                                        title='Flight Cost vs. Month of Booking',\n",
    "                                        labels={'month_num': 'Month (1-12)', 'amount': 'Flight Amount (INR)'},\n",
    "                                        trendline='ols', # Ordinary Least Squares trendline\n",
    "                                        height=400)\n",
    "        fig_scatter_flight.update_layout(xaxis = dict(tickmode = 'array', tickvals = list(range(1,13)))) # Show all months 1-12\n",
    "        fig_scatter_flight.show() # Display inline\n",
    "        # try: fig_scatter_flight.write_image(IMG_DIR / \"flight_cost_vs_month_scatter.png\") # Commented out\n",
    "        # except Exception as e: logging.error(f\"Failed to save flight scatter plot: {e}\")\n",
    "\n",
    "        # Discrepancy Check (Visual Inspection)\n",
    "        logging.info(\"Check scatter plot: Is there a visible trend (even slight)? Are outliers plausible flight costs?\")\n",
    "    else:\n",
    "        logging.info(\"No flight data found for regression check.\")\n",
    "else:\n",
    "    print(\"Skipping regression potential check.\")"
   ]
  },
  {
   "cell_type": "markdown",
   "metadata": {},
   "source": [
    "## 16. ML Suitability Check: Classification Potential (Restaurant Spend Dist.)\n",
    "\n",
    "Look for potential thresholds to classify meals vs. snacks."
   ]
  },
  {
   "cell_type": "code",
   "execution_count": 35,
   "metadata": {},
   "outputs": [
    {
     "name": "stdout",
     "output_type": "stream",
     "text": [
      "\n",
      "--- ML Check: Classification Potential (Restaurant Spend Distribution) ---\n"
     ]
    },
    {
     "data": {
      "application/vnd.plotly.v1+json": {
       "config": {
        "plotlyServerURL": "https://plot.ly"
       },
       "data": [
        {
         "bingroup": "x",
         "hovertemplate": "Amount (INR)=%{x}<br>count=%{y}<extra></extra>",
         "legendgroup": "",
         "marker": {
          "color": "#636efa",
          "pattern": {
           "shape": ""
          }
         },
         "name": "",
         "nbinsx": 50,
         "orientation": "v",
         "showlegend": false,
         "type": "histogram",
         "x": {
          "bdata": "zczMzMyGikBxPQrXo+6OQFyPwvUoGHpAhetRuB7FiEDNzMzMzN+aQHE9CtejOoFArkfhehTslkAzMzMzM9dyQClcj8L1cHxACtejcD3EgkAAAAAAABx7QNejcD0KV6FASOF6FK5bnUDXo3A9Ch9oQOxRuB6FqaFAmpmZmZkJVUCkcD0KV+akQM3MzMzMrJNAcT0K16NgZECamZmZmRl3QD0K16Nwh5VApHA9CtfDnkA9CtejcC1nQJqZmZmZAX1A9ihcj8J2nUAfhetRuOehQOxRuB6F82BAexSuR+GicECuR+F6FEp8QArXo3A9wIJAw/UoXI8OekBxPQrXo+h6QNejcD0Kz5tACtejcL2Ao0A9CtejcAOPQOxRuB6Fs3xAcT0K16OllUApXI/C9Ux/QPYoXI/CzWVAMzMzMzPQmkCuR+F6FAZuQClcj8L1K59AH4XrUbjeT0BSuB6F68+fQM3MzMzM9HpAKVyPwvXJm0DhehSuR+mBQKRwPQrX62JAj8L1KFyqmUD2KFyPwmFzQHsUrkfhBntAKVyPwvUYWEDXo3A9CtWWQLgehetRUHlAXI/C9SikaEAUrkfheiSDQClcj8L1WGlAFK5H4Xr0iUDsUbgehRteQKRwPQrXMZJASOF6FK4bfkCF61G4niirQMP1KFyP/nFAZmZmZmbMiUAfhetRuL5jQI/C9ShcaYJAj8L1KFwYpEBcj8L1KCxyQBSuR+H6BKNAZmZmZmYieUCuR+F6FHiEQOF6FK5HwYFAXI/C9Si8dkDhehSuR1mpQBSuR+F6AoBApHA9CtdDWkBcj8L1KESZQGZmZmZm+odAmpmZmZkTjkA=",
          "dtype": "f8"
         },
         "xaxis": "x",
         "yaxis": "y"
        }
       ],
       "layout": {
        "barmode": "relative",
        "height": 400,
        "legend": {
         "tracegroupgap": 0
        },
        "template": {
         "data": {
          "bar": [
           {
            "error_x": {
             "color": "#2a3f5f"
            },
            "error_y": {
             "color": "#2a3f5f"
            },
            "marker": {
             "line": {
              "color": "#E5ECF6",
              "width": 0.5
             },
             "pattern": {
              "fillmode": "overlay",
              "size": 10,
              "solidity": 0.2
             }
            },
            "type": "bar"
           }
          ],
          "barpolar": [
           {
            "marker": {
             "line": {
              "color": "#E5ECF6",
              "width": 0.5
             },
             "pattern": {
              "fillmode": "overlay",
              "size": 10,
              "solidity": 0.2
             }
            },
            "type": "barpolar"
           }
          ],
          "carpet": [
           {
            "aaxis": {
             "endlinecolor": "#2a3f5f",
             "gridcolor": "white",
             "linecolor": "white",
             "minorgridcolor": "white",
             "startlinecolor": "#2a3f5f"
            },
            "baxis": {
             "endlinecolor": "#2a3f5f",
             "gridcolor": "white",
             "linecolor": "white",
             "minorgridcolor": "white",
             "startlinecolor": "#2a3f5f"
            },
            "type": "carpet"
           }
          ],
          "choropleth": [
           {
            "colorbar": {
             "outlinewidth": 0,
             "ticks": ""
            },
            "type": "choropleth"
           }
          ],
          "contour": [
           {
            "colorbar": {
             "outlinewidth": 0,
             "ticks": ""
            },
            "colorscale": [
             [
              0,
              "#0d0887"
             ],
             [
              0.1111111111111111,
              "#46039f"
             ],
             [
              0.2222222222222222,
              "#7201a8"
             ],
             [
              0.3333333333333333,
              "#9c179e"
             ],
             [
              0.4444444444444444,
              "#bd3786"
             ],
             [
              0.5555555555555556,
              "#d8576b"
             ],
             [
              0.6666666666666666,
              "#ed7953"
             ],
             [
              0.7777777777777778,
              "#fb9f3a"
             ],
             [
              0.8888888888888888,
              "#fdca26"
             ],
             [
              1,
              "#f0f921"
             ]
            ],
            "type": "contour"
           }
          ],
          "contourcarpet": [
           {
            "colorbar": {
             "outlinewidth": 0,
             "ticks": ""
            },
            "type": "contourcarpet"
           }
          ],
          "heatmap": [
           {
            "colorbar": {
             "outlinewidth": 0,
             "ticks": ""
            },
            "colorscale": [
             [
              0,
              "#0d0887"
             ],
             [
              0.1111111111111111,
              "#46039f"
             ],
             [
              0.2222222222222222,
              "#7201a8"
             ],
             [
              0.3333333333333333,
              "#9c179e"
             ],
             [
              0.4444444444444444,
              "#bd3786"
             ],
             [
              0.5555555555555556,
              "#d8576b"
             ],
             [
              0.6666666666666666,
              "#ed7953"
             ],
             [
              0.7777777777777778,
              "#fb9f3a"
             ],
             [
              0.8888888888888888,
              "#fdca26"
             ],
             [
              1,
              "#f0f921"
             ]
            ],
            "type": "heatmap"
           }
          ],
          "histogram": [
           {
            "marker": {
             "pattern": {
              "fillmode": "overlay",
              "size": 10,
              "solidity": 0.2
             }
            },
            "type": "histogram"
           }
          ],
          "histogram2d": [
           {
            "colorbar": {
             "outlinewidth": 0,
             "ticks": ""
            },
            "colorscale": [
             [
              0,
              "#0d0887"
             ],
             [
              0.1111111111111111,
              "#46039f"
             ],
             [
              0.2222222222222222,
              "#7201a8"
             ],
             [
              0.3333333333333333,
              "#9c179e"
             ],
             [
              0.4444444444444444,
              "#bd3786"
             ],
             [
              0.5555555555555556,
              "#d8576b"
             ],
             [
              0.6666666666666666,
              "#ed7953"
             ],
             [
              0.7777777777777778,
              "#fb9f3a"
             ],
             [
              0.8888888888888888,
              "#fdca26"
             ],
             [
              1,
              "#f0f921"
             ]
            ],
            "type": "histogram2d"
           }
          ],
          "histogram2dcontour": [
           {
            "colorbar": {
             "outlinewidth": 0,
             "ticks": ""
            },
            "colorscale": [
             [
              0,
              "#0d0887"
             ],
             [
              0.1111111111111111,
              "#46039f"
             ],
             [
              0.2222222222222222,
              "#7201a8"
             ],
             [
              0.3333333333333333,
              "#9c179e"
             ],
             [
              0.4444444444444444,
              "#bd3786"
             ],
             [
              0.5555555555555556,
              "#d8576b"
             ],
             [
              0.6666666666666666,
              "#ed7953"
             ],
             [
              0.7777777777777778,
              "#fb9f3a"
             ],
             [
              0.8888888888888888,
              "#fdca26"
             ],
             [
              1,
              "#f0f921"
             ]
            ],
            "type": "histogram2dcontour"
           }
          ],
          "mesh3d": [
           {
            "colorbar": {
             "outlinewidth": 0,
             "ticks": ""
            },
            "type": "mesh3d"
           }
          ],
          "parcoords": [
           {
            "line": {
             "colorbar": {
              "outlinewidth": 0,
              "ticks": ""
             }
            },
            "type": "parcoords"
           }
          ],
          "pie": [
           {
            "automargin": true,
            "type": "pie"
           }
          ],
          "scatter": [
           {
            "fillpattern": {
             "fillmode": "overlay",
             "size": 10,
             "solidity": 0.2
            },
            "type": "scatter"
           }
          ],
          "scatter3d": [
           {
            "line": {
             "colorbar": {
              "outlinewidth": 0,
              "ticks": ""
             }
            },
            "marker": {
             "colorbar": {
              "outlinewidth": 0,
              "ticks": ""
             }
            },
            "type": "scatter3d"
           }
          ],
          "scattercarpet": [
           {
            "marker": {
             "colorbar": {
              "outlinewidth": 0,
              "ticks": ""
             }
            },
            "type": "scattercarpet"
           }
          ],
          "scattergeo": [
           {
            "marker": {
             "colorbar": {
              "outlinewidth": 0,
              "ticks": ""
             }
            },
            "type": "scattergeo"
           }
          ],
          "scattergl": [
           {
            "marker": {
             "colorbar": {
              "outlinewidth": 0,
              "ticks": ""
             }
            },
            "type": "scattergl"
           }
          ],
          "scattermap": [
           {
            "marker": {
             "colorbar": {
              "outlinewidth": 0,
              "ticks": ""
             }
            },
            "type": "scattermap"
           }
          ],
          "scattermapbox": [
           {
            "marker": {
             "colorbar": {
              "outlinewidth": 0,
              "ticks": ""
             }
            },
            "type": "scattermapbox"
           }
          ],
          "scatterpolar": [
           {
            "marker": {
             "colorbar": {
              "outlinewidth": 0,
              "ticks": ""
             }
            },
            "type": "scatterpolar"
           }
          ],
          "scatterpolargl": [
           {
            "marker": {
             "colorbar": {
              "outlinewidth": 0,
              "ticks": ""
             }
            },
            "type": "scatterpolargl"
           }
          ],
          "scatterternary": [
           {
            "marker": {
             "colorbar": {
              "outlinewidth": 0,
              "ticks": ""
             }
            },
            "type": "scatterternary"
           }
          ],
          "surface": [
           {
            "colorbar": {
             "outlinewidth": 0,
             "ticks": ""
            },
            "colorscale": [
             [
              0,
              "#0d0887"
             ],
             [
              0.1111111111111111,
              "#46039f"
             ],
             [
              0.2222222222222222,
              "#7201a8"
             ],
             [
              0.3333333333333333,
              "#9c179e"
             ],
             [
              0.4444444444444444,
              "#bd3786"
             ],
             [
              0.5555555555555556,
              "#d8576b"
             ],
             [
              0.6666666666666666,
              "#ed7953"
             ],
             [
              0.7777777777777778,
              "#fb9f3a"
             ],
             [
              0.8888888888888888,
              "#fdca26"
             ],
             [
              1,
              "#f0f921"
             ]
            ],
            "type": "surface"
           }
          ],
          "table": [
           {
            "cells": {
             "fill": {
              "color": "#EBF0F8"
             },
             "line": {
              "color": "white"
             }
            },
            "header": {
             "fill": {
              "color": "#C8D4E3"
             },
             "line": {
              "color": "white"
             }
            },
            "type": "table"
           }
          ]
         },
         "layout": {
          "annotationdefaults": {
           "arrowcolor": "#2a3f5f",
           "arrowhead": 0,
           "arrowwidth": 1
          },
          "autotypenumbers": "strict",
          "coloraxis": {
           "colorbar": {
            "outlinewidth": 0,
            "ticks": ""
           }
          },
          "colorscale": {
           "diverging": [
            [
             0,
             "#8e0152"
            ],
            [
             0.1,
             "#c51b7d"
            ],
            [
             0.2,
             "#de77ae"
            ],
            [
             0.3,
             "#f1b6da"
            ],
            [
             0.4,
             "#fde0ef"
            ],
            [
             0.5,
             "#f7f7f7"
            ],
            [
             0.6,
             "#e6f5d0"
            ],
            [
             0.7,
             "#b8e186"
            ],
            [
             0.8,
             "#7fbc41"
            ],
            [
             0.9,
             "#4d9221"
            ],
            [
             1,
             "#276419"
            ]
           ],
           "sequential": [
            [
             0,
             "#0d0887"
            ],
            [
             0.1111111111111111,
             "#46039f"
            ],
            [
             0.2222222222222222,
             "#7201a8"
            ],
            [
             0.3333333333333333,
             "#9c179e"
            ],
            [
             0.4444444444444444,
             "#bd3786"
            ],
            [
             0.5555555555555556,
             "#d8576b"
            ],
            [
             0.6666666666666666,
             "#ed7953"
            ],
            [
             0.7777777777777778,
             "#fb9f3a"
            ],
            [
             0.8888888888888888,
             "#fdca26"
            ],
            [
             1,
             "#f0f921"
            ]
           ],
           "sequentialminus": [
            [
             0,
             "#0d0887"
            ],
            [
             0.1111111111111111,
             "#46039f"
            ],
            [
             0.2222222222222222,
             "#7201a8"
            ],
            [
             0.3333333333333333,
             "#9c179e"
            ],
            [
             0.4444444444444444,
             "#bd3786"
            ],
            [
             0.5555555555555556,
             "#d8576b"
            ],
            [
             0.6666666666666666,
             "#ed7953"
            ],
            [
             0.7777777777777778,
             "#fb9f3a"
            ],
            [
             0.8888888888888888,
             "#fdca26"
            ],
            [
             1,
             "#f0f921"
            ]
           ]
          },
          "colorway": [
           "#636efa",
           "#EF553B",
           "#00cc96",
           "#ab63fa",
           "#FFA15A",
           "#19d3f3",
           "#FF6692",
           "#B6E880",
           "#FF97FF",
           "#FECB52"
          ],
          "font": {
           "color": "#2a3f5f"
          },
          "geo": {
           "bgcolor": "white",
           "lakecolor": "white",
           "landcolor": "#E5ECF6",
           "showlakes": true,
           "showland": true,
           "subunitcolor": "white"
          },
          "hoverlabel": {
           "align": "left"
          },
          "hovermode": "closest",
          "mapbox": {
           "style": "light"
          },
          "paper_bgcolor": "white",
          "plot_bgcolor": "#E5ECF6",
          "polar": {
           "angularaxis": {
            "gridcolor": "white",
            "linecolor": "white",
            "ticks": ""
           },
           "bgcolor": "#E5ECF6",
           "radialaxis": {
            "gridcolor": "white",
            "linecolor": "white",
            "ticks": ""
           }
          },
          "scene": {
           "xaxis": {
            "backgroundcolor": "#E5ECF6",
            "gridcolor": "white",
            "gridwidth": 2,
            "linecolor": "white",
            "showbackground": true,
            "ticks": "",
            "zerolinecolor": "white"
           },
           "yaxis": {
            "backgroundcolor": "#E5ECF6",
            "gridcolor": "white",
            "gridwidth": 2,
            "linecolor": "white",
            "showbackground": true,
            "ticks": "",
            "zerolinecolor": "white"
           },
           "zaxis": {
            "backgroundcolor": "#E5ECF6",
            "gridcolor": "white",
            "gridwidth": 2,
            "linecolor": "white",
            "showbackground": true,
            "ticks": "",
            "zerolinecolor": "white"
           }
          },
          "shapedefaults": {
           "line": {
            "color": "#2a3f5f"
           }
          },
          "ternary": {
           "aaxis": {
            "gridcolor": "white",
            "linecolor": "white",
            "ticks": ""
           },
           "baxis": {
            "gridcolor": "white",
            "linecolor": "white",
            "ticks": ""
           },
           "bgcolor": "#E5ECF6",
           "caxis": {
            "gridcolor": "white",
            "linecolor": "white",
            "ticks": ""
           }
          },
          "title": {
           "x": 0.05
          },
          "xaxis": {
           "automargin": true,
           "gridcolor": "white",
           "linecolor": "white",
           "ticks": "",
           "title": {
            "standoff": 15
           },
           "zerolinecolor": "white",
           "zerolinewidth": 2
          },
          "yaxis": {
           "automargin": true,
           "gridcolor": "white",
           "linecolor": "white",
           "ticks": "",
           "title": {
            "standoff": 15
           },
           "zerolinecolor": "white",
           "zerolinewidth": 2
          }
         }
        },
        "title": {
         "text": "Distribution of Restaurant Transaction Amounts"
        },
        "xaxis": {
         "anchor": "y",
         "domain": [
          0,
          1
         ],
         "title": {
          "text": "Amount (INR)"
         }
        },
        "yaxis": {
         "anchor": "x",
         "domain": [
          0,
          1
         ],
         "title": {
          "text": "count"
         }
        }
       }
      }
     },
     "metadata": {},
     "output_type": "display_data"
    },
    {
     "name": "stderr",
     "output_type": "stream",
     "text": [
      "INFO: Check histogram: Is there a clear separation or multiple peaks suggesting distinct groups (e.g., snacks vs meals)? Or is it one large peak skewed right?\n"
     ]
    }
   ],
   "source": [
    "if not df.empty and 'category' in df.columns and 'amount' in df.columns:\n",
    "    print(\"\\n--- ML Check: Classification Potential (Restaurant Spend Distribution) ---\")\n",
    "    resto_df = df[df['category'] == 'Restaurant']\n",
    "\n",
    "    if not resto_df.empty:\n",
    "        fig_hist_resto = px.histogram(resto_df, x='amount', nbins=50, # More bins might show detail\n",
    "                                     title='Distribution of Restaurant Transaction Amounts',\n",
    "                                     labels={'amount': 'Amount (INR)'}, height=400)\n",
    "        fig_hist_resto.show() # Display inline\n",
    "        # try: fig_hist_resto.write_image(IMG_DIR / \"restaurant_amount_histogram.png\") # Commented out\n",
    "        # except Exception as e: logging.error(f\"Failed to save restaurant histogram: {e}\")\n",
    "\n",
    "        # Discrepancy Check (Visual Inspection)\n",
    "        logging.info(\"Check histogram: Is there a clear separation or multiple peaks suggesting distinct groups (e.g., snacks vs meals)? Or is it one large peak skewed right?\")\n",
    "    else:\n",
    "        logging.info(\"No Restaurant data found for classification check.\")\n",
    "else:\n",
    "    print(\"Skipping classification potential check.\")"
   ]
  },
  {
   "cell_type": "markdown",
   "metadata": {},
   "source": [
    "## 17. ML Suitability Check: Segmentation Potential (Weekday vs Weekend)\n",
    "\n",
    "Compare spending profiles across predefined day type segments."
   ]
  },
  {
   "cell_type": "code",
   "execution_count": 36,
   "metadata": {},
   "outputs": [
    {
     "name": "stdout",
     "output_type": "stream",
     "text": [
      "\n",
      "--- ML Check: Segmentation Potential (Weekday vs Weekend Profiles) ---\n"
     ]
    },
    {
     "data": {
      "application/vnd.plotly.v1+json": {
       "config": {
        "plotlyServerURL": "https://plot.ly"
       },
       "data": [
        {
         "alignmentgroup": "True",
         "hovertemplate": "day_type=Weekday<br>Category=%{x}<br>% of Segment Total Spend=%{y}<extra></extra>",
         "legendgroup": "Weekday",
         "marker": {
          "color": "#636efa",
          "pattern": {
           "shape": ""
          }
         },
         "name": "Weekday",
         "offsetgroup": "Weekday",
         "orientation": "v",
         "showlegend": true,
         "textposition": "auto",
         "type": "bar",
         "x": [
          "Beauty",
          "Connectivity",
          "Education",
          "Entertainment",
          "Gifts & Donations",
          "Grocery",
          "Health",
          "Household",
          "Insurance Premium",
          "Investment",
          "Rent",
          "Restaurant",
          "Shopping",
          "Travel",
          "Waste"
         ],
         "xaxis": "x",
         "y": {
          "bdata": "goQGR+vxEEAtumvUOvW7P4Iv4KHr+PU//WykTU1R+z9CwrZ5uPv5P2llXDgG1ARAynD1AcRCEkCsHyyt72UpQHiBOd/40CtAB1k7t0B8AUC4eZbZjMM0QJN54Aopmvw/LBiyWbaLMEAf8gAvvKEvQMwZBrzcPrM/",
          "dtype": "f8"
         },
         "yaxis": "y"
        },
        {
         "alignmentgroup": "True",
         "hovertemplate": "day_type=Weekend<br>Category=%{x}<br>% of Segment Total Spend=%{y}<extra></extra>",
         "legendgroup": "Weekend",
         "marker": {
          "color": "#EF553B",
          "pattern": {
           "shape": ""
          }
         },
         "name": "Weekend",
         "offsetgroup": "Weekend",
         "orientation": "v",
         "showlegend": true,
         "textposition": "auto",
         "type": "bar",
         "x": [
          "Beauty",
          "Connectivity",
          "Education",
          "Entertainment",
          "Gifts & Donations",
          "Grocery",
          "Health",
          "Household",
          "Insurance Premium",
          "Investment",
          "Rent",
          "Restaurant",
          "Shopping",
          "Travel",
          "Waste"
         ],
         "xaxis": "x",
         "y": {
          "bdata": "TW00Mo8rCkDIx10ruszBP175tRdjkfs/LIxVb5c++D8L0dcRip0BQENTOVdJGgxArSwV/rUjEUBxNmhN3oMyQAH2+5ifywxAZyGhXsTPAUD5lhIlLAw5QOoPCdiuCANAGDTRNwWJK0AW7jz5yHUxQGQQXa0rzdY/",
          "dtype": "f8"
         },
         "yaxis": "y"
        }
       ],
       "layout": {
        "barmode": "group",
        "height": 500,
        "legend": {
         "title": {
          "text": "Day Type"
         },
         "tracegroupgap": 0
        },
        "template": {
         "data": {
          "bar": [
           {
            "error_x": {
             "color": "#2a3f5f"
            },
            "error_y": {
             "color": "#2a3f5f"
            },
            "marker": {
             "line": {
              "color": "#E5ECF6",
              "width": 0.5
             },
             "pattern": {
              "fillmode": "overlay",
              "size": 10,
              "solidity": 0.2
             }
            },
            "type": "bar"
           }
          ],
          "barpolar": [
           {
            "marker": {
             "line": {
              "color": "#E5ECF6",
              "width": 0.5
             },
             "pattern": {
              "fillmode": "overlay",
              "size": 10,
              "solidity": 0.2
             }
            },
            "type": "barpolar"
           }
          ],
          "carpet": [
           {
            "aaxis": {
             "endlinecolor": "#2a3f5f",
             "gridcolor": "white",
             "linecolor": "white",
             "minorgridcolor": "white",
             "startlinecolor": "#2a3f5f"
            },
            "baxis": {
             "endlinecolor": "#2a3f5f",
             "gridcolor": "white",
             "linecolor": "white",
             "minorgridcolor": "white",
             "startlinecolor": "#2a3f5f"
            },
            "type": "carpet"
           }
          ],
          "choropleth": [
           {
            "colorbar": {
             "outlinewidth": 0,
             "ticks": ""
            },
            "type": "choropleth"
           }
          ],
          "contour": [
           {
            "colorbar": {
             "outlinewidth": 0,
             "ticks": ""
            },
            "colorscale": [
             [
              0,
              "#0d0887"
             ],
             [
              0.1111111111111111,
              "#46039f"
             ],
             [
              0.2222222222222222,
              "#7201a8"
             ],
             [
              0.3333333333333333,
              "#9c179e"
             ],
             [
              0.4444444444444444,
              "#bd3786"
             ],
             [
              0.5555555555555556,
              "#d8576b"
             ],
             [
              0.6666666666666666,
              "#ed7953"
             ],
             [
              0.7777777777777778,
              "#fb9f3a"
             ],
             [
              0.8888888888888888,
              "#fdca26"
             ],
             [
              1,
              "#f0f921"
             ]
            ],
            "type": "contour"
           }
          ],
          "contourcarpet": [
           {
            "colorbar": {
             "outlinewidth": 0,
             "ticks": ""
            },
            "type": "contourcarpet"
           }
          ],
          "heatmap": [
           {
            "colorbar": {
             "outlinewidth": 0,
             "ticks": ""
            },
            "colorscale": [
             [
              0,
              "#0d0887"
             ],
             [
              0.1111111111111111,
              "#46039f"
             ],
             [
              0.2222222222222222,
              "#7201a8"
             ],
             [
              0.3333333333333333,
              "#9c179e"
             ],
             [
              0.4444444444444444,
              "#bd3786"
             ],
             [
              0.5555555555555556,
              "#d8576b"
             ],
             [
              0.6666666666666666,
              "#ed7953"
             ],
             [
              0.7777777777777778,
              "#fb9f3a"
             ],
             [
              0.8888888888888888,
              "#fdca26"
             ],
             [
              1,
              "#f0f921"
             ]
            ],
            "type": "heatmap"
           }
          ],
          "histogram": [
           {
            "marker": {
             "pattern": {
              "fillmode": "overlay",
              "size": 10,
              "solidity": 0.2
             }
            },
            "type": "histogram"
           }
          ],
          "histogram2d": [
           {
            "colorbar": {
             "outlinewidth": 0,
             "ticks": ""
            },
            "colorscale": [
             [
              0,
              "#0d0887"
             ],
             [
              0.1111111111111111,
              "#46039f"
             ],
             [
              0.2222222222222222,
              "#7201a8"
             ],
             [
              0.3333333333333333,
              "#9c179e"
             ],
             [
              0.4444444444444444,
              "#bd3786"
             ],
             [
              0.5555555555555556,
              "#d8576b"
             ],
             [
              0.6666666666666666,
              "#ed7953"
             ],
             [
              0.7777777777777778,
              "#fb9f3a"
             ],
             [
              0.8888888888888888,
              "#fdca26"
             ],
             [
              1,
              "#f0f921"
             ]
            ],
            "type": "histogram2d"
           }
          ],
          "histogram2dcontour": [
           {
            "colorbar": {
             "outlinewidth": 0,
             "ticks": ""
            },
            "colorscale": [
             [
              0,
              "#0d0887"
             ],
             [
              0.1111111111111111,
              "#46039f"
             ],
             [
              0.2222222222222222,
              "#7201a8"
             ],
             [
              0.3333333333333333,
              "#9c179e"
             ],
             [
              0.4444444444444444,
              "#bd3786"
             ],
             [
              0.5555555555555556,
              "#d8576b"
             ],
             [
              0.6666666666666666,
              "#ed7953"
             ],
             [
              0.7777777777777778,
              "#fb9f3a"
             ],
             [
              0.8888888888888888,
              "#fdca26"
             ],
             [
              1,
              "#f0f921"
             ]
            ],
            "type": "histogram2dcontour"
           }
          ],
          "mesh3d": [
           {
            "colorbar": {
             "outlinewidth": 0,
             "ticks": ""
            },
            "type": "mesh3d"
           }
          ],
          "parcoords": [
           {
            "line": {
             "colorbar": {
              "outlinewidth": 0,
              "ticks": ""
             }
            },
            "type": "parcoords"
           }
          ],
          "pie": [
           {
            "automargin": true,
            "type": "pie"
           }
          ],
          "scatter": [
           {
            "fillpattern": {
             "fillmode": "overlay",
             "size": 10,
             "solidity": 0.2
            },
            "type": "scatter"
           }
          ],
          "scatter3d": [
           {
            "line": {
             "colorbar": {
              "outlinewidth": 0,
              "ticks": ""
             }
            },
            "marker": {
             "colorbar": {
              "outlinewidth": 0,
              "ticks": ""
             }
            },
            "type": "scatter3d"
           }
          ],
          "scattercarpet": [
           {
            "marker": {
             "colorbar": {
              "outlinewidth": 0,
              "ticks": ""
             }
            },
            "type": "scattercarpet"
           }
          ],
          "scattergeo": [
           {
            "marker": {
             "colorbar": {
              "outlinewidth": 0,
              "ticks": ""
             }
            },
            "type": "scattergeo"
           }
          ],
          "scattergl": [
           {
            "marker": {
             "colorbar": {
              "outlinewidth": 0,
              "ticks": ""
             }
            },
            "type": "scattergl"
           }
          ],
          "scattermap": [
           {
            "marker": {
             "colorbar": {
              "outlinewidth": 0,
              "ticks": ""
             }
            },
            "type": "scattermap"
           }
          ],
          "scattermapbox": [
           {
            "marker": {
             "colorbar": {
              "outlinewidth": 0,
              "ticks": ""
             }
            },
            "type": "scattermapbox"
           }
          ],
          "scatterpolar": [
           {
            "marker": {
             "colorbar": {
              "outlinewidth": 0,
              "ticks": ""
             }
            },
            "type": "scatterpolar"
           }
          ],
          "scatterpolargl": [
           {
            "marker": {
             "colorbar": {
              "outlinewidth": 0,
              "ticks": ""
             }
            },
            "type": "scatterpolargl"
           }
          ],
          "scatterternary": [
           {
            "marker": {
             "colorbar": {
              "outlinewidth": 0,
              "ticks": ""
             }
            },
            "type": "scatterternary"
           }
          ],
          "surface": [
           {
            "colorbar": {
             "outlinewidth": 0,
             "ticks": ""
            },
            "colorscale": [
             [
              0,
              "#0d0887"
             ],
             [
              0.1111111111111111,
              "#46039f"
             ],
             [
              0.2222222222222222,
              "#7201a8"
             ],
             [
              0.3333333333333333,
              "#9c179e"
             ],
             [
              0.4444444444444444,
              "#bd3786"
             ],
             [
              0.5555555555555556,
              "#d8576b"
             ],
             [
              0.6666666666666666,
              "#ed7953"
             ],
             [
              0.7777777777777778,
              "#fb9f3a"
             ],
             [
              0.8888888888888888,
              "#fdca26"
             ],
             [
              1,
              "#f0f921"
             ]
            ],
            "type": "surface"
           }
          ],
          "table": [
           {
            "cells": {
             "fill": {
              "color": "#EBF0F8"
             },
             "line": {
              "color": "white"
             }
            },
            "header": {
             "fill": {
              "color": "#C8D4E3"
             },
             "line": {
              "color": "white"
             }
            },
            "type": "table"
           }
          ]
         },
         "layout": {
          "annotationdefaults": {
           "arrowcolor": "#2a3f5f",
           "arrowhead": 0,
           "arrowwidth": 1
          },
          "autotypenumbers": "strict",
          "coloraxis": {
           "colorbar": {
            "outlinewidth": 0,
            "ticks": ""
           }
          },
          "colorscale": {
           "diverging": [
            [
             0,
             "#8e0152"
            ],
            [
             0.1,
             "#c51b7d"
            ],
            [
             0.2,
             "#de77ae"
            ],
            [
             0.3,
             "#f1b6da"
            ],
            [
             0.4,
             "#fde0ef"
            ],
            [
             0.5,
             "#f7f7f7"
            ],
            [
             0.6,
             "#e6f5d0"
            ],
            [
             0.7,
             "#b8e186"
            ],
            [
             0.8,
             "#7fbc41"
            ],
            [
             0.9,
             "#4d9221"
            ],
            [
             1,
             "#276419"
            ]
           ],
           "sequential": [
            [
             0,
             "#0d0887"
            ],
            [
             0.1111111111111111,
             "#46039f"
            ],
            [
             0.2222222222222222,
             "#7201a8"
            ],
            [
             0.3333333333333333,
             "#9c179e"
            ],
            [
             0.4444444444444444,
             "#bd3786"
            ],
            [
             0.5555555555555556,
             "#d8576b"
            ],
            [
             0.6666666666666666,
             "#ed7953"
            ],
            [
             0.7777777777777778,
             "#fb9f3a"
            ],
            [
             0.8888888888888888,
             "#fdca26"
            ],
            [
             1,
             "#f0f921"
            ]
           ],
           "sequentialminus": [
            [
             0,
             "#0d0887"
            ],
            [
             0.1111111111111111,
             "#46039f"
            ],
            [
             0.2222222222222222,
             "#7201a8"
            ],
            [
             0.3333333333333333,
             "#9c179e"
            ],
            [
             0.4444444444444444,
             "#bd3786"
            ],
            [
             0.5555555555555556,
             "#d8576b"
            ],
            [
             0.6666666666666666,
             "#ed7953"
            ],
            [
             0.7777777777777778,
             "#fb9f3a"
            ],
            [
             0.8888888888888888,
             "#fdca26"
            ],
            [
             1,
             "#f0f921"
            ]
           ]
          },
          "colorway": [
           "#636efa",
           "#EF553B",
           "#00cc96",
           "#ab63fa",
           "#FFA15A",
           "#19d3f3",
           "#FF6692",
           "#B6E880",
           "#FF97FF",
           "#FECB52"
          ],
          "font": {
           "color": "#2a3f5f"
          },
          "geo": {
           "bgcolor": "white",
           "lakecolor": "white",
           "landcolor": "#E5ECF6",
           "showlakes": true,
           "showland": true,
           "subunitcolor": "white"
          },
          "hoverlabel": {
           "align": "left"
          },
          "hovermode": "closest",
          "mapbox": {
           "style": "light"
          },
          "paper_bgcolor": "white",
          "plot_bgcolor": "#E5ECF6",
          "polar": {
           "angularaxis": {
            "gridcolor": "white",
            "linecolor": "white",
            "ticks": ""
           },
           "bgcolor": "#E5ECF6",
           "radialaxis": {
            "gridcolor": "white",
            "linecolor": "white",
            "ticks": ""
           }
          },
          "scene": {
           "xaxis": {
            "backgroundcolor": "#E5ECF6",
            "gridcolor": "white",
            "gridwidth": 2,
            "linecolor": "white",
            "showbackground": true,
            "ticks": "",
            "zerolinecolor": "white"
           },
           "yaxis": {
            "backgroundcolor": "#E5ECF6",
            "gridcolor": "white",
            "gridwidth": 2,
            "linecolor": "white",
            "showbackground": true,
            "ticks": "",
            "zerolinecolor": "white"
           },
           "zaxis": {
            "backgroundcolor": "#E5ECF6",
            "gridcolor": "white",
            "gridwidth": 2,
            "linecolor": "white",
            "showbackground": true,
            "ticks": "",
            "zerolinecolor": "white"
           }
          },
          "shapedefaults": {
           "line": {
            "color": "#2a3f5f"
           }
          },
          "ternary": {
           "aaxis": {
            "gridcolor": "white",
            "linecolor": "white",
            "ticks": ""
           },
           "baxis": {
            "gridcolor": "white",
            "linecolor": "white",
            "ticks": ""
           },
           "bgcolor": "#E5ECF6",
           "caxis": {
            "gridcolor": "white",
            "linecolor": "white",
            "ticks": ""
           }
          },
          "title": {
           "x": 0.05
          },
          "xaxis": {
           "automargin": true,
           "gridcolor": "white",
           "linecolor": "white",
           "ticks": "",
           "title": {
            "standoff": 15
           },
           "zerolinecolor": "white",
           "zerolinewidth": 2
          },
          "yaxis": {
           "automargin": true,
           "gridcolor": "white",
           "linecolor": "white",
           "ticks": "",
           "title": {
            "standoff": 15
           },
           "zerolinecolor": "white",
           "zerolinewidth": 2
          }
         }
        },
        "title": {
         "text": "Category Spending %: Weekday vs. Weekend"
        },
        "xaxis": {
         "anchor": "y",
         "domain": [
          0,
          1
         ],
         "tickangle": -90,
         "title": {
          "text": "Category"
         }
        },
        "yaxis": {
         "anchor": "x",
         "domain": [
          0,
          1
         ],
         "title": {
          "text": "% of Segment Spending"
         }
        }
       }
      }
     },
     "metadata": {},
     "output_type": "display_data"
    },
    {
     "name": "stderr",
     "output_type": "stream",
     "text": [
      "INFO: Check grouped bar chart: Are % allocations significantly different (e.g., higher Restaurant/Entertainment % on Weekends)?\n"
     ]
    }
   ],
   "source": [
    "if not df.empty and 'day_of_week' in df.columns and 'category' in df.columns:\n",
    "    print(\"\\n--- ML Check: Segmentation Potential (Weekday vs Weekend Profiles) ---\")\n",
    "    df['day_type'] = df['day_of_week'].apply(lambda x: 'Weekend' if x in ['Saturday', 'Sunday'] else 'Weekday')\n",
    "\n",
    "    # Compare category distribution using normalized values within each segment\n",
    "    segment_cat_dist = df.groupby(['day_type', 'category'])['amount'].sum().unstack(fill_value=0)\n",
    "    segment_cat_dist_perc = segment_cat_dist.apply(lambda x: x / x.sum() * 100, axis=1).stack().reset_index(name='percentage')\n",
    "\n",
    "    fig_segment_bar = px.bar(segment_cat_dist_perc, x='category', y='percentage', color='day_type',\n",
    "                             barmode='group',\n",
    "                             title='Category Spending %: Weekday vs. Weekend',\n",
    "                             labels={'category': 'Category', 'percentage': '% of Segment Total Spend'},\n",
    "                             height=500)\n",
    "    fig_segment_bar.update_layout(xaxis_tickangle=-90, yaxis_title='% of Segment Spending', legend_title=\"Day Type\")\n",
    "    fig_segment_bar.show() # Display inline\n",
    "    # try: fig_segment_bar.write_image(IMG_DIR / \"weekday_weekend_segment_compare.png\") # Commented out\n",
    "    # except Exception as e: logging.error(f\"Failed to save segmentation comparison plot: {e}\")\n",
    "\n",
    "\n",
    "    # Discrepancy Check (Visual Inspection)\n",
    "    logging.info(\"Check grouped bar chart: Are % allocations significantly different (e.g., higher Restaurant/Entertainment % on Weekends)?\")\n",
    "\n",
    "    # Clean up added column\n",
    "    if 'day_type' in df.columns: df.drop(columns=['day_type'], inplace=True)\n",
    "\n",
    "else:\n",
    "    print(\"Skipping segmentation potential check.\")"
   ]
  },
  {
   "cell_type": "markdown",
   "metadata": {},
   "source": [
    "## 18. ML Suitability Check: Clustering Potential (Daily Spend/Activity)\n",
    "\n",
    "Visualize daily aggregates to see if natural clusters appear."
   ]
  },
  {
   "cell_type": "code",
   "execution_count": 37,
   "metadata": {},
   "outputs": [
    {
     "name": "stdout",
     "output_type": "stream",
     "text": [
      "\n",
      "--- ML Check: Clustering Potential (Daily Spend vs. Activity) ---\n"
     ]
    },
    {
     "data": {
      "application/vnd.plotly.v1+json": {
       "config": {
        "plotlyServerURL": "https://plot.ly"
       },
       "data": [
        {
         "customdata": [
          [
           "2023-01-01"
          ],
          [
           "2023-01-02"
          ],
          [
           "2023-01-03"
          ],
          [
           "2023-01-04"
          ],
          [
           "2023-01-05"
          ],
          [
           "2023-01-06"
          ],
          [
           "2023-01-07"
          ],
          [
           "2023-01-08"
          ],
          [
           "2023-01-09"
          ],
          [
           "2023-01-10"
          ],
          [
           "2023-01-11"
          ],
          [
           "2023-01-12"
          ],
          [
           "2023-01-15"
          ],
          [
           "2023-02-01"
          ],
          [
           "2023-02-02"
          ],
          [
           "2023-02-03"
          ],
          [
           "2023-02-04"
          ],
          [
           "2023-02-05"
          ],
          [
           "2023-02-06"
          ],
          [
           "2023-02-07"
          ],
          [
           "2023-02-08"
          ],
          [
           "2023-02-10"
          ],
          [
           "2023-02-15"
          ],
          [
           "2023-03-01"
          ],
          [
           "2023-03-02"
          ],
          [
           "2023-03-03"
          ],
          [
           "2023-03-04"
          ],
          [
           "2023-03-05"
          ],
          [
           "2023-03-06"
          ],
          [
           "2023-03-10"
          ],
          [
           "2023-03-15"
          ],
          [
           "2023-03-20"
          ],
          [
           "2023-04-01"
          ],
          [
           "2023-04-02"
          ],
          [
           "2023-04-03"
          ],
          [
           "2023-04-04"
          ],
          [
           "2023-04-05"
          ],
          [
           "2023-04-10"
          ],
          [
           "2023-04-15"
          ],
          [
           "2023-05-01"
          ],
          [
           "2023-05-02"
          ],
          [
           "2023-05-03"
          ],
          [
           "2023-05-04"
          ],
          [
           "2023-05-05"
          ],
          [
           "2023-05-06"
          ],
          [
           "2023-05-07"
          ],
          [
           "2023-05-10"
          ],
          [
           "2023-05-15"
          ],
          [
           "2023-06-01"
          ],
          [
           "2023-06-02"
          ],
          [
           "2023-06-03"
          ],
          [
           "2023-06-04"
          ],
          [
           "2023-06-05"
          ],
          [
           "2023-06-06"
          ],
          [
           "2023-06-10"
          ],
          [
           "2023-06-15"
          ],
          [
           "2023-07-01"
          ],
          [
           "2023-07-02"
          ],
          [
           "2023-07-03"
          ],
          [
           "2023-07-04"
          ],
          [
           "2023-07-05"
          ],
          [
           "2023-07-10"
          ],
          [
           "2023-07-15"
          ],
          [
           "2023-08-01"
          ],
          [
           "2023-08-02"
          ],
          [
           "2023-08-03"
          ],
          [
           "2023-08-04"
          ],
          [
           "2023-08-05"
          ],
          [
           "2023-08-06"
          ],
          [
           "2023-08-07"
          ],
          [
           "2023-08-08"
          ],
          [
           "2023-08-09"
          ],
          [
           "2023-08-10"
          ],
          [
           "2023-08-15"
          ],
          [
           "2023-09-01"
          ],
          [
           "2023-09-02"
          ],
          [
           "2023-09-03"
          ],
          [
           "2023-09-04"
          ],
          [
           "2023-09-05"
          ],
          [
           "2023-09-06"
          ],
          [
           "2023-09-07"
          ],
          [
           "2023-09-08"
          ],
          [
           "2023-09-09"
          ],
          [
           "2023-09-10"
          ],
          [
           "2023-09-11"
          ],
          [
           "2023-09-15"
          ],
          [
           "2023-09-20"
          ],
          [
           "2023-10-01"
          ],
          [
           "2023-10-02"
          ],
          [
           "2023-10-03"
          ],
          [
           "2023-10-04"
          ],
          [
           "2023-10-05"
          ],
          [
           "2023-10-06"
          ],
          [
           "2023-10-07"
          ],
          [
           "2023-10-08"
          ],
          [
           "2023-10-09"
          ],
          [
           "2023-10-10"
          ],
          [
           "2023-10-15"
          ],
          [
           "2023-11-01"
          ],
          [
           "2023-11-02"
          ],
          [
           "2023-11-03"
          ],
          [
           "2023-11-04"
          ],
          [
           "2023-11-05"
          ],
          [
           "2023-11-06"
          ],
          [
           "2023-11-07"
          ],
          [
           "2023-11-08"
          ],
          [
           "2023-11-09"
          ],
          [
           "2023-11-10"
          ],
          [
           "2023-11-15"
          ],
          [
           "2023-12-01"
          ],
          [
           "2023-12-02"
          ],
          [
           "2023-12-03"
          ],
          [
           "2023-12-04"
          ],
          [
           "2023-12-05"
          ],
          [
           "2023-12-06"
          ],
          [
           "2023-12-10"
          ],
          [
           "2023-12-15"
          ],
          [
           "2024-01-01"
          ],
          [
           "2024-01-02"
          ],
          [
           "2024-01-03"
          ],
          [
           "2024-01-04"
          ],
          [
           "2024-01-05"
          ],
          [
           "2024-01-06"
          ],
          [
           "2024-01-07"
          ],
          [
           "2024-01-08"
          ],
          [
           "2024-01-09"
          ],
          [
           "2024-01-10"
          ],
          [
           "2024-01-15"
          ],
          [
           "2024-02-01"
          ],
          [
           "2024-02-02"
          ],
          [
           "2024-02-03"
          ],
          [
           "2024-02-04"
          ],
          [
           "2024-02-05"
          ],
          [
           "2024-02-10"
          ],
          [
           "2024-02-15"
          ],
          [
           "2024-03-01"
          ],
          [
           "2024-03-02"
          ],
          [
           "2024-03-03"
          ],
          [
           "2024-03-04"
          ],
          [
           "2024-03-05"
          ],
          [
           "2024-03-06"
          ],
          [
           "2024-03-07"
          ],
          [
           "2024-03-08"
          ],
          [
           "2024-03-10"
          ],
          [
           "2024-03-15"
          ],
          [
           "2024-03-20"
          ],
          [
           "2024-04-01"
          ],
          [
           "2024-04-02"
          ],
          [
           "2024-04-03"
          ],
          [
           "2024-04-04"
          ],
          [
           "2024-04-05"
          ],
          [
           "2024-04-10"
          ],
          [
           "2024-04-15"
          ],
          [
           "2024-05-01"
          ],
          [
           "2024-05-02"
          ],
          [
           "2024-05-03"
          ],
          [
           "2024-05-04"
          ],
          [
           "2024-05-05"
          ],
          [
           "2024-05-10"
          ],
          [
           "2024-05-15"
          ],
          [
           "2024-06-01"
          ],
          [
           "2024-06-02"
          ],
          [
           "2024-06-03"
          ],
          [
           "2024-06-04"
          ],
          [
           "2024-06-05"
          ],
          [
           "2024-06-06"
          ],
          [
           "2024-06-07"
          ],
          [
           "2024-06-10"
          ],
          [
           "2024-06-15"
          ],
          [
           "2024-07-01"
          ],
          [
           "2024-07-02"
          ],
          [
           "2024-07-03"
          ],
          [
           "2024-07-04"
          ],
          [
           "2024-07-05"
          ],
          [
           "2024-07-06"
          ],
          [
           "2024-07-10"
          ],
          [
           "2024-07-15"
          ],
          [
           "2024-08-01"
          ],
          [
           "2024-08-02"
          ],
          [
           "2024-08-03"
          ],
          [
           "2024-08-04"
          ],
          [
           "2024-08-05"
          ],
          [
           "2024-08-06"
          ],
          [
           "2024-08-07"
          ],
          [
           "2024-08-08"
          ],
          [
           "2024-08-09"
          ],
          [
           "2024-08-10"
          ],
          [
           "2024-08-15"
          ],
          [
           "2024-09-01"
          ],
          [
           "2024-09-02"
          ],
          [
           "2024-09-03"
          ],
          [
           "2024-09-04"
          ],
          [
           "2024-09-05"
          ],
          [
           "2024-09-06"
          ],
          [
           "2024-09-07"
          ],
          [
           "2024-09-08"
          ],
          [
           "2024-09-09"
          ],
          [
           "2024-09-10"
          ],
          [
           "2024-09-15"
          ],
          [
           "2024-09-20"
          ],
          [
           "2024-10-01"
          ],
          [
           "2024-10-02"
          ],
          [
           "2024-10-03"
          ],
          [
           "2024-10-04"
          ],
          [
           "2024-10-05"
          ],
          [
           "2024-10-06"
          ],
          [
           "2024-10-07"
          ],
          [
           "2024-10-08"
          ],
          [
           "2024-10-09"
          ],
          [
           "2024-10-10"
          ],
          [
           "2024-10-15"
          ],
          [
           "2024-11-01"
          ],
          [
           "2024-11-02"
          ],
          [
           "2024-11-03"
          ],
          [
           "2024-11-04"
          ],
          [
           "2024-11-05"
          ],
          [
           "2024-11-06"
          ],
          [
           "2024-11-07"
          ],
          [
           "2024-11-10"
          ],
          [
           "2024-11-15"
          ],
          [
           "2024-12-01"
          ],
          [
           "2024-12-02"
          ],
          [
           "2024-12-03"
          ],
          [
           "2024-12-04"
          ],
          [
           "2024-12-05"
          ],
          [
           "2024-12-06"
          ],
          [
           "2024-12-07"
          ],
          [
           "2024-12-08"
          ],
          [
           "2024-12-09"
          ],
          [
           "2024-12-10"
          ],
          [
           "2024-12-11"
          ],
          [
           "2024-12-15"
          ],
          [
           "2025-01-01"
          ],
          [
           "2025-01-02"
          ],
          [
           "2025-01-03"
          ],
          [
           "2025-01-04"
          ],
          [
           "2025-01-05"
          ],
          [
           "2025-01-06"
          ],
          [
           "2025-01-10"
          ],
          [
           "2025-01-15"
          ],
          [
           "2025-02-01"
          ],
          [
           "2025-02-02"
          ],
          [
           "2025-02-03"
          ],
          [
           "2025-02-04"
          ],
          [
           "2025-02-05"
          ],
          [
           "2025-02-06"
          ],
          [
           "2025-02-07"
          ],
          [
           "2025-02-08"
          ],
          [
           "2025-02-09"
          ],
          [
           "2025-02-10"
          ],
          [
           "2025-02-15"
          ],
          [
           "2025-03-01"
          ],
          [
           "2025-03-02"
          ],
          [
           "2025-03-03"
          ],
          [
           "2025-03-04"
          ],
          [
           "2025-03-05"
          ],
          [
           "2025-03-06"
          ],
          [
           "2025-03-07"
          ],
          [
           "2025-03-08"
          ],
          [
           "2025-03-09"
          ],
          [
           "2025-03-10"
          ],
          [
           "2025-03-11"
          ],
          [
           "2025-03-12"
          ],
          [
           "2025-03-15"
          ],
          [
           "2025-03-20"
          ],
          [
           "2025-04-01"
          ],
          [
           "2025-04-02"
          ],
          [
           "2025-04-03"
          ],
          [
           "2025-04-04"
          ],
          [
           "2025-04-05"
          ],
          [
           "2025-04-06"
          ],
          [
           "2025-04-10"
          ],
          [
           "2025-04-15"
          ]
         ],
         "hovertemplate": "Number of Transactions=%{x}<br>Total Amount Spent (INR)=%{y}<br>date=%{customdata[0]}<extra></extra>",
         "legendgroup": "",
         "marker": {
          "color": "#636efa",
          "symbol": "circle"
         },
         "mode": "markers",
         "name": "",
         "orientation": "v",
         "showlegend": false,
         "type": "scatter",
         "x": {
          "bdata": "BQQHBQUCAwQBAgUCAgUBBwMGBwUBAQEGBgUGBgMBAQEDBgcHAgEBBwcBBgUDBAEBBgUBBAUDAQEJBgQFAwEBCAYFBQQDBAEBAQEEBwYBBwMDAgMCAQEBBgIHAwUEBAUBAQEGBAEEBAYCAQEBAQkFBAIIBAEBBQEHBQQBAgEBAQIHBQYGAgEBBAQBAQcBBAcBAQEGBgQEBAEBBwQGAwcBAQMEBgcGAwMBAQkEBQQIAgEBBAECAQICBAICBwEDBAEEAwcCBwQBAQEFAgIGBgEFAQYDAQkFAwIFBgEBAQQCBAEDAwICBQgCAQQCBwUFBAECBQIGBwQBBAMFAgEJAwIBBAIDAwIDAwYBAQUFBwUGAQEB",
          "dtype": "i1"
         },
         "xaxis": "x",
         "y": {
          "bdata": "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",
          "dtype": "f8"
         },
         "yaxis": "y"
        }
       ],
       "layout": {
        "height": 500,
        "legend": {
         "tracegroupgap": 0
        },
        "template": {
         "data": {
          "bar": [
           {
            "error_x": {
             "color": "#2a3f5f"
            },
            "error_y": {
             "color": "#2a3f5f"
            },
            "marker": {
             "line": {
              "color": "#E5ECF6",
              "width": 0.5
             },
             "pattern": {
              "fillmode": "overlay",
              "size": 10,
              "solidity": 0.2
             }
            },
            "type": "bar"
           }
          ],
          "barpolar": [
           {
            "marker": {
             "line": {
              "color": "#E5ECF6",
              "width": 0.5
             },
             "pattern": {
              "fillmode": "overlay",
              "size": 10,
              "solidity": 0.2
             }
            },
            "type": "barpolar"
           }
          ],
          "carpet": [
           {
            "aaxis": {
             "endlinecolor": "#2a3f5f",
             "gridcolor": "white",
             "linecolor": "white",
             "minorgridcolor": "white",
             "startlinecolor": "#2a3f5f"
            },
            "baxis": {
             "endlinecolor": "#2a3f5f",
             "gridcolor": "white",
             "linecolor": "white",
             "minorgridcolor": "white",
             "startlinecolor": "#2a3f5f"
            },
            "type": "carpet"
           }
          ],
          "choropleth": [
           {
            "colorbar": {
             "outlinewidth": 0,
             "ticks": ""
            },
            "type": "choropleth"
           }
          ],
          "contour": [
           {
            "colorbar": {
             "outlinewidth": 0,
             "ticks": ""
            },
            "colorscale": [
             [
              0,
              "#0d0887"
             ],
             [
              0.1111111111111111,
              "#46039f"
             ],
             [
              0.2222222222222222,
              "#7201a8"
             ],
             [
              0.3333333333333333,
              "#9c179e"
             ],
             [
              0.4444444444444444,
              "#bd3786"
             ],
             [
              0.5555555555555556,
              "#d8576b"
             ],
             [
              0.6666666666666666,
              "#ed7953"
             ],
             [
              0.7777777777777778,
              "#fb9f3a"
             ],
             [
              0.8888888888888888,
              "#fdca26"
             ],
             [
              1,
              "#f0f921"
             ]
            ],
            "type": "contour"
           }
          ],
          "contourcarpet": [
           {
            "colorbar": {
             "outlinewidth": 0,
             "ticks": ""
            },
            "type": "contourcarpet"
           }
          ],
          "heatmap": [
           {
            "colorbar": {
             "outlinewidth": 0,
             "ticks": ""
            },
            "colorscale": [
             [
              0,
              "#0d0887"
             ],
             [
              0.1111111111111111,
              "#46039f"
             ],
             [
              0.2222222222222222,
              "#7201a8"
             ],
             [
              0.3333333333333333,
              "#9c179e"
             ],
             [
              0.4444444444444444,
              "#bd3786"
             ],
             [
              0.5555555555555556,
              "#d8576b"
             ],
             [
              0.6666666666666666,
              "#ed7953"
             ],
             [
              0.7777777777777778,
              "#fb9f3a"
             ],
             [
              0.8888888888888888,
              "#fdca26"
             ],
             [
              1,
              "#f0f921"
             ]
            ],
            "type": "heatmap"
           }
          ],
          "histogram": [
           {
            "marker": {
             "pattern": {
              "fillmode": "overlay",
              "size": 10,
              "solidity": 0.2
             }
            },
            "type": "histogram"
           }
          ],
          "histogram2d": [
           {
            "colorbar": {
             "outlinewidth": 0,
             "ticks": ""
            },
            "colorscale": [
             [
              0,
              "#0d0887"
             ],
             [
              0.1111111111111111,
              "#46039f"
             ],
             [
              0.2222222222222222,
              "#7201a8"
             ],
             [
              0.3333333333333333,
              "#9c179e"
             ],
             [
              0.4444444444444444,
              "#bd3786"
             ],
             [
              0.5555555555555556,
              "#d8576b"
             ],
             [
              0.6666666666666666,
              "#ed7953"
             ],
             [
              0.7777777777777778,
              "#fb9f3a"
             ],
             [
              0.8888888888888888,
              "#fdca26"
             ],
             [
              1,
              "#f0f921"
             ]
            ],
            "type": "histogram2d"
           }
          ],
          "histogram2dcontour": [
           {
            "colorbar": {
             "outlinewidth": 0,
             "ticks": ""
            },
            "colorscale": [
             [
              0,
              "#0d0887"
             ],
             [
              0.1111111111111111,
              "#46039f"
             ],
             [
              0.2222222222222222,
              "#7201a8"
             ],
             [
              0.3333333333333333,
              "#9c179e"
             ],
             [
              0.4444444444444444,
              "#bd3786"
             ],
             [
              0.5555555555555556,
              "#d8576b"
             ],
             [
              0.6666666666666666,
              "#ed7953"
             ],
             [
              0.7777777777777778,
              "#fb9f3a"
             ],
             [
              0.8888888888888888,
              "#fdca26"
             ],
             [
              1,
              "#f0f921"
             ]
            ],
            "type": "histogram2dcontour"
           }
          ],
          "mesh3d": [
           {
            "colorbar": {
             "outlinewidth": 0,
             "ticks": ""
            },
            "type": "mesh3d"
           }
          ],
          "parcoords": [
           {
            "line": {
             "colorbar": {
              "outlinewidth": 0,
              "ticks": ""
             }
            },
            "type": "parcoords"
           }
          ],
          "pie": [
           {
            "automargin": true,
            "type": "pie"
           }
          ],
          "scatter": [
           {
            "fillpattern": {
             "fillmode": "overlay",
             "size": 10,
             "solidity": 0.2
            },
            "type": "scatter"
           }
          ],
          "scatter3d": [
           {
            "line": {
             "colorbar": {
              "outlinewidth": 0,
              "ticks": ""
             }
            },
            "marker": {
             "colorbar": {
              "outlinewidth": 0,
              "ticks": ""
             }
            },
            "type": "scatter3d"
           }
          ],
          "scattercarpet": [
           {
            "marker": {
             "colorbar": {
              "outlinewidth": 0,
              "ticks": ""
             }
            },
            "type": "scattercarpet"
           }
          ],
          "scattergeo": [
           {
            "marker": {
             "colorbar": {
              "outlinewidth": 0,
              "ticks": ""
             }
            },
            "type": "scattergeo"
           }
          ],
          "scattergl": [
           {
            "marker": {
             "colorbar": {
              "outlinewidth": 0,
              "ticks": ""
             }
            },
            "type": "scattergl"
           }
          ],
          "scattermap": [
           {
            "marker": {
             "colorbar": {
              "outlinewidth": 0,
              "ticks": ""
             }
            },
            "type": "scattermap"
           }
          ],
          "scattermapbox": [
           {
            "marker": {
             "colorbar": {
              "outlinewidth": 0,
              "ticks": ""
             }
            },
            "type": "scattermapbox"
           }
          ],
          "scatterpolar": [
           {
            "marker": {
             "colorbar": {
              "outlinewidth": 0,
              "ticks": ""
             }
            },
            "type": "scatterpolar"
           }
          ],
          "scatterpolargl": [
           {
            "marker": {
             "colorbar": {
              "outlinewidth": 0,
              "ticks": ""
             }
            },
            "type": "scatterpolargl"
           }
          ],
          "scatterternary": [
           {
            "marker": {
             "colorbar": {
              "outlinewidth": 0,
              "ticks": ""
             }
            },
            "type": "scatterternary"
           }
          ],
          "surface": [
           {
            "colorbar": {
             "outlinewidth": 0,
             "ticks": ""
            },
            "colorscale": [
             [
              0,
              "#0d0887"
             ],
             [
              0.1111111111111111,
              "#46039f"
             ],
             [
              0.2222222222222222,
              "#7201a8"
             ],
             [
              0.3333333333333333,
              "#9c179e"
             ],
             [
              0.4444444444444444,
              "#bd3786"
             ],
             [
              0.5555555555555556,
              "#d8576b"
             ],
             [
              0.6666666666666666,
              "#ed7953"
             ],
             [
              0.7777777777777778,
              "#fb9f3a"
             ],
             [
              0.8888888888888888,
              "#fdca26"
             ],
             [
              1,
              "#f0f921"
             ]
            ],
            "type": "surface"
           }
          ],
          "table": [
           {
            "cells": {
             "fill": {
              "color": "#EBF0F8"
             },
             "line": {
              "color": "white"
             }
            },
            "header": {
             "fill": {
              "color": "#C8D4E3"
             },
             "line": {
              "color": "white"
             }
            },
            "type": "table"
           }
          ]
         },
         "layout": {
          "annotationdefaults": {
           "arrowcolor": "#2a3f5f",
           "arrowhead": 0,
           "arrowwidth": 1
          },
          "autotypenumbers": "strict",
          "coloraxis": {
           "colorbar": {
            "outlinewidth": 0,
            "ticks": ""
           }
          },
          "colorscale": {
           "diverging": [
            [
             0,
             "#8e0152"
            ],
            [
             0.1,
             "#c51b7d"
            ],
            [
             0.2,
             "#de77ae"
            ],
            [
             0.3,
             "#f1b6da"
            ],
            [
             0.4,
             "#fde0ef"
            ],
            [
             0.5,
             "#f7f7f7"
            ],
            [
             0.6,
             "#e6f5d0"
            ],
            [
             0.7,
             "#b8e186"
            ],
            [
             0.8,
             "#7fbc41"
            ],
            [
             0.9,
             "#4d9221"
            ],
            [
             1,
             "#276419"
            ]
           ],
           "sequential": [
            [
             0,
             "#0d0887"
            ],
            [
             0.1111111111111111,
             "#46039f"
            ],
            [
             0.2222222222222222,
             "#7201a8"
            ],
            [
             0.3333333333333333,
             "#9c179e"
            ],
            [
             0.4444444444444444,
             "#bd3786"
            ],
            [
             0.5555555555555556,
             "#d8576b"
            ],
            [
             0.6666666666666666,
             "#ed7953"
            ],
            [
             0.7777777777777778,
             "#fb9f3a"
            ],
            [
             0.8888888888888888,
             "#fdca26"
            ],
            [
             1,
             "#f0f921"
            ]
           ],
           "sequentialminus": [
            [
             0,
             "#0d0887"
            ],
            [
             0.1111111111111111,
             "#46039f"
            ],
            [
             0.2222222222222222,
             "#7201a8"
            ],
            [
             0.3333333333333333,
             "#9c179e"
            ],
            [
             0.4444444444444444,
             "#bd3786"
            ],
            [
             0.5555555555555556,
             "#d8576b"
            ],
            [
             0.6666666666666666,
             "#ed7953"
            ],
            [
             0.7777777777777778,
             "#fb9f3a"
            ],
            [
             0.8888888888888888,
             "#fdca26"
            ],
            [
             1,
             "#f0f921"
            ]
           ]
          },
          "colorway": [
           "#636efa",
           "#EF553B",
           "#00cc96",
           "#ab63fa",
           "#FFA15A",
           "#19d3f3",
           "#FF6692",
           "#B6E880",
           "#FF97FF",
           "#FECB52"
          ],
          "font": {
           "color": "#2a3f5f"
          },
          "geo": {
           "bgcolor": "white",
           "lakecolor": "white",
           "landcolor": "#E5ECF6",
           "showlakes": true,
           "showland": true,
           "subunitcolor": "white"
          },
          "hoverlabel": {
           "align": "left"
          },
          "hovermode": "closest",
          "mapbox": {
           "style": "light"
          },
          "paper_bgcolor": "white",
          "plot_bgcolor": "#E5ECF6",
          "polar": {
           "angularaxis": {
            "gridcolor": "white",
            "linecolor": "white",
            "ticks": ""
           },
           "bgcolor": "#E5ECF6",
           "radialaxis": {
            "gridcolor": "white",
            "linecolor": "white",
            "ticks": ""
           }
          },
          "scene": {
           "xaxis": {
            "backgroundcolor": "#E5ECF6",
            "gridcolor": "white",
            "gridwidth": 2,
            "linecolor": "white",
            "showbackground": true,
            "ticks": "",
            "zerolinecolor": "white"
           },
           "yaxis": {
            "backgroundcolor": "#E5ECF6",
            "gridcolor": "white",
            "gridwidth": 2,
            "linecolor": "white",
            "showbackground": true,
            "ticks": "",
            "zerolinecolor": "white"
           },
           "zaxis": {
            "backgroundcolor": "#E5ECF6",
            "gridcolor": "white",
            "gridwidth": 2,
            "linecolor": "white",
            "showbackground": true,
            "ticks": "",
            "zerolinecolor": "white"
           }
          },
          "shapedefaults": {
           "line": {
            "color": "#2a3f5f"
           }
          },
          "ternary": {
           "aaxis": {
            "gridcolor": "white",
            "linecolor": "white",
            "ticks": ""
           },
           "baxis": {
            "gridcolor": "white",
            "linecolor": "white",
            "ticks": ""
           },
           "bgcolor": "#E5ECF6",
           "caxis": {
            "gridcolor": "white",
            "linecolor": "white",
            "ticks": ""
           }
          },
          "title": {
           "x": 0.05
          },
          "xaxis": {
           "automargin": true,
           "gridcolor": "white",
           "linecolor": "white",
           "ticks": "",
           "title": {
            "standoff": 15
           },
           "zerolinecolor": "white",
           "zerolinewidth": 2
          },
          "yaxis": {
           "automargin": true,
           "gridcolor": "white",
           "linecolor": "white",
           "ticks": "",
           "title": {
            "standoff": 15
           },
           "zerolinecolor": "white",
           "zerolinewidth": 2
          }
         }
        },
        "title": {
         "text": "Daily Spending vs. Number of Transactions"
        },
        "xaxis": {
         "anchor": "y",
         "domain": [
          0,
          1
         ],
         "title": {
          "text": "Number of Transactions"
         }
        },
        "yaxis": {
         "anchor": "x",
         "domain": [
          0,
          1
         ],
         "title": {
          "text": "Total Amount Spent (INR)"
         }
        }
       }
      }
     },
     "metadata": {},
     "output_type": "display_data"
    },
    {
     "name": "stderr",
     "output_type": "stream",
     "text": [
      "INFO: Check scatter plot: Do distinct visual groups (clusters) appear based on density? (e.g., low-count/low-spend corner, high-spend outliers, high-activity band).\n"
     ]
    }
   ],
   "source": [
    "if not df.empty and 'date_dt' in df.columns:\n",
    "    print(\"\\n--- ML Check: Clustering Potential (Daily Spend vs. Activity) ---\")\n",
    "    # Aggregate total amount and count transactions per day\n",
    "    # Need a unique identifier per row if 'id' isn't reliably generated/present; using index as fallback.\n",
    "    if 'id' not in df.columns: df['id_temp'] = df.index # Temporary ID if needed\n",
    "    else: df['id_temp'] = df['id'] # Use existing id if present\n",
    "\n",
    "    daily_summary = df.groupby(df['date_dt'].dt.date).agg(\n",
    "        total_amount=('amount', 'sum'),\n",
    "        transaction_count=('id_temp', 'nunique') # Count unique transactions per day\n",
    "    ).reset_index().rename(columns={'date_dt': 'date'})\n",
    "\n",
    "\n",
    "    # Clean up temp id column\n",
    "    if 'id_temp' in df.columns: df.drop(columns=['id_temp'], inplace=True)\n",
    "\n",
    "    if not daily_summary.empty:\n",
    "        fig_scatter_cluster = px.scatter(daily_summary, x='transaction_count', y='total_amount',\n",
    "                                        title='Daily Spending vs. Number of Transactions',\n",
    "                                        labels={'transaction_count': 'Number of Transactions', 'total_amount': 'Total Amount Spent (INR)'},\n",
    "                                        hover_data=['date'],\n",
    "                                        height=500)\n",
    "        fig_scatter_cluster.show() # Display inline\n",
    "        # try: fig_scatter_cluster.write_image(IMG_DIR / \"daily_spend_activity_scatter.png\") # Commented out\n",
    "        # except Exception as e: logging.error(f\"Failed to save daily cluster scatter plot: {e}\")\n",
    "\n",
    "        # Discrepancy Check (Visual Inspection)\n",
    "        logging.info(\"Check scatter plot: Do distinct visual groups (clusters) appear based on density? (e.g., low-count/low-spend corner, high-spend outliers, high-activity band).\")\n",
    "    else:\n",
    "        logging.info(\"Could not generate daily summary for clustering check.\")\n",
    "else:\n",
    "    print(\"Skipping clustering potential check.\")"
   ]
  },
  {
   "cell_type": "markdown",
   "metadata": {},
   "source": [
    "## 19. Overall Summary & Conclusion\n",
    "\n",
    "Final assessment based on the EDA checks."
   ]
  },
  {
   "cell_type": "code",
   "execution_count": 38,
   "metadata": {},
   "outputs": [
    {
     "name": "stderr",
     "output_type": "stream",
     "text": [
      "INFO: Review the logs and plots above for ERRORs or WARNINGs indicating discrepancies.\n",
      "INFO: Key areas checked: Data loading, date range/formats, nulls, row/amount constraints, User/Account mapping, Category/SubCat mapping, fixed expense accuracy, variable amount distributions, ad-hoc frequencies, account usage bias, temporal patterns, and basic visual checks for ML suitability.\n",
      "INFO: Address critical ERRORs (e.g., mapping inconsistencies, constraint violations) by refining data generation script/rules and regenerating.\n",
      "INFO: Consider if WARNINGs (e.g., slight constraint overshoot, weaker-than-expected patterns) are acceptable or require tuning.\n",
      "INFO: Overall assessment: [MANUALLY ADD ASSESSMENT HERE - e.g., 'Data generated successfully and largely adheres to rules. Minor warnings noted for monthly totals. Suitable for Phase 2 development.', OR 'Critical errors found in mappings and frequencies; regeneration required.']\n"
     ]
    },
    {
     "name": "stdout",
     "output_type": "stream",
     "text": [
      "\n",
      "--- EDA Summary ---\n"
     ]
    }
   ],
   "source": [
    "print(\"\\n--- EDA Summary ---\")\n",
    "logging.info(\"Review the logs and plots above for ERRORs or WARNINGs indicating discrepancies.\")\n",
    "logging.info(\"Key areas checked: Data loading, date range/formats, nulls, row/amount constraints, User/Account mapping, Category/SubCat mapping, fixed expense accuracy, variable amount distributions, ad-hoc frequencies, account usage bias, temporal patterns, and basic visual checks for ML suitability.\")\n",
    "logging.info(\"Address critical ERRORs (e.g., mapping inconsistencies, constraint violations) by refining data generation script/rules and regenerating.\")\n",
    "logging.info(\"Consider if WARNINGs (e.g., slight constraint overshoot, weaker-than-expected patterns) are acceptable or require tuning.\")\n",
    "logging.info(\"Overall assessment: [MANUALLY ADD ASSESSMENT HERE - e.g., 'Data generated successfully and largely adheres to rules. Minor warnings noted for monthly totals. Suitable for Phase 2 development.', OR 'Critical errors found in mappings and frequencies; regeneration required.']\")"
   ]
  }
 ],
 "metadata": {
  "kernelspec": {
   "display_name": "Python 3 (ipykernel)",
   "language": "python",
   "name": "python3"
  },
  "language_info": {
   "codemirror_mode": {
    "name": "ipython",
    "version": 3
   },
   "file_extension": ".py",
   "mimetype": "text/x-python",
   "name": "python",
   "nbconvert_exporter": "python",
   "pygments_lexer": "ipython3",
   "version": "3.9.18"
  },
  "vscode": {
   "interpreter": {}
  }
 },
 "nbformat": 4,
 "nbformat_minor": 5
}
